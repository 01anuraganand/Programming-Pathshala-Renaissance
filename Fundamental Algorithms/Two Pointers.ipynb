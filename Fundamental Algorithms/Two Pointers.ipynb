{
 "cells": [
  {
   "cell_type": "markdown",
   "id": "a1b69dd4-488d-4b56-9b9d-59f4687bcb24",
   "metadata": {},
   "source": [
    "## Pair Sum-1\n",
    "<div class=\"subtopic-lecture-notes\"><p>We have been given a sorted integer array Arr[N] and an integer ‘SUM’. If there exists a pair (i, j) such that Arr[i]+Arr[j]=SUM then return true otherwise false. <br></p><p><u>Input</u>: Arr[5] = {2, -1, 0, &nbsp;3, 9}, SUM = 8</p><p><u>Output</u>: True <br></p><p><strong>Approach: </strong><br></p><ol><li><strong>Brute Force </strong>- We can calculate the sum of all the possible pairs and return true if such a pair exists.<br>\n",
    "Time complexity: <strong>O(N^</strong><strong>2</strong><strong>)</strong><br>\n",
    "Space complexity: <strong>O(1)</strong><br><br></li><li><strong>Binary Search </strong>- We can fix the first element – Arr[i] by iterating on the array and then apply binary search on the remaining array to find the second element - Arr[j] i.e. SUM-Arr[i]. <br>\n",
    "Time complexity: <strong>O(NlogN)</strong><br>\n",
    "Space complexity: <strong>O(1)</strong><br><br></li><li><strong>Two Pointers </strong>- We can initialize two variables - l &amp; r, pointing to the first and the last element of the array. We can find their sum and move the pointers towards each other based on the value of Arr[i]+Arr[j] and SUM. <br>\n",
    "If Arr[i]+Arr[j] &gt; SUM, r--<br>\n",
    "If Arr[i]+Arr[j] &lt; SUM, l++<br>\n",
    "If Arr[i]+Arr[j] = SUM, return true<br><br>\n",
    "Time complexity: <strong>O(N)</strong><br>\n",
    "Space complexity: <strong>O(1)</strong><br></li></ol><p><strong>Three key things that we should consider while using the Two pointer technique:</strong></p><ol><li>How many pointers do we need?</li><li>How do we initialize them?</li><li>How do we move them?&nbsp;</li></ol></div></div>"
   ]
  },
  {
   "cell_type": "code",
   "execution_count": 25,
   "id": "e5bf137f-8377-4777-9fec-f30ae3abb27f",
   "metadata": {},
   "outputs": [
    {
     "name": "stdout",
     "output_type": "stream",
     "text": [
      "Using brute force: True\n",
      "Using Binary Search : True\n",
      "Using Two pointers approach: True\n"
     ]
    }
   ],
   "source": [
    "class PairSum1:\n",
    "    def brute_force(self, nums:list[int], targetSum:int)->bool:\n",
    "        for i in range(len(nums)):\n",
    "            for j in range(i+1, len(nums)):\n",
    "                if nums[i] + nums[j] == targetSum:\n",
    "                    return True\n",
    "        return False\n",
    "    \n",
    "    # helper function for binary search approach\n",
    "    def findElement(self, nums:list[int], i:int, j:int, target:int)->bool:\n",
    "        low, high = i, j\n",
    "        while low <= high:\n",
    "            mid = int((low + high)/2)\n",
    "            if nums[mid] == target:\n",
    "                return True\n",
    "            elif nums[mid] < target:\n",
    "                low = mid + 1\n",
    "            else:\n",
    "                high = mid - 1\n",
    "        return False\n",
    "    \n",
    "    def binary_search_approach(self, nums:list[int], targetSum:int)->bool:\n",
    "        n = len(nums)\n",
    "        for i in range(len(nums)):\n",
    "            if self.findElement(nums, i+1, n-1, targetSum-nums[i]):\n",
    "                return True\n",
    "        return False\n",
    "        \n",
    "        \n",
    "    def using_two_pointers(self, nums:list[int], targetSum:int)->bool:\n",
    "        n = len(nums)\n",
    "        left, right = 0, n-1\n",
    "        while left < right:\n",
    "            currSum = nums[left] + nums[right]\n",
    "            if currSum == targetSum:\n",
    "                return True\n",
    "            elif currSum > targetSum:\n",
    "                right -= 1\n",
    "            else:\n",
    "                left += 1\n",
    "        return False\n",
    "        \n",
    "        \n",
    "obj = PairSum1()\n",
    "nums = [-1, 0, 2, 6, 7]\n",
    "targetSum = 8\n",
    "\n",
    "print(\"Using brute force:\", obj.brute_force(nums, targetSum))\n",
    "\n",
    "print(\"Using Binary Search :\", obj.binary_search_approach(nums, targetSum))\n",
    "\n",
    "print(\"Using Two pointers approach:\", obj.using_two_pointers(nums, targetSum))"
   ]
  },
  {
   "cell_type": "markdown",
   "id": "d3bf11f3-7a3f-4346-b813-1857f2268da4",
   "metadata": {},
   "source": [
    "## Pair Sum-2\n",
    "<div class=\"subtopic-lecture-notes\"><p>We have been given a sorted integer array Arr[N] and we have to find the count of the total number of pairs (i, j) such that Arr[i]+Arr[j]=SUM where i≠j. <br><br><u>Input</u>: Arr[9] = {1, 41, 42, 51, 52, 53, 61, 62, 11}, SUM = 10<br><u>Output</u>: 7 &nbsp;{(41, 61), (41, 62), (42, 61), (42, 62), (51, 52), (52, 53), (51, 53)}<br></p><p><strong>Approach:</strong><strong> </strong><br></p><ol><li><strong>Brute Force </strong>- We can check the sum of all the pairs and increment the count if they satisfy the given condition. <br>\n",
    "Time complexity: <strong>O(N^</strong><strong>2</strong><strong>)</strong><br>\n",
    "Space complexity: <strong>O(1)</strong><br><br></li><li><strong>Binary Search </strong>- We can iterate on the array to fix the first element - Arr[i] and search the frequency of the second element - Arr[j] i.e. SUM-Arr[i] in the remaining array. <br>\n",
    "Time complexity: <strong>O(NlogN)</strong><br>\n",
    "Space complexity: <strong>O(1)</strong><br><br></li><li><strong>Two Pointers </strong>- We can use the two pointer approach to initialise two variables - l &amp; r, &nbsp;pointing to the first and the last element of the array. We can increment the count if Arr[l] + Arr[r] = SUM. <br><br>\n",
    "For repeated elements, we can count their frequency and use the Product Rule to find the number of pairs. <br><br>\n",
    "For cases where Arr[i]=Arr[j]=SUM/2, we can find the count(k) of the element and use combinatorics(kC2) to add the total possible pairs into the count.<br><br>\n",
    "Time complexity: <strong>O(NlogN)</strong><strong><br></strong>Space complexity: <strong>O(1)</strong><strong>&nbsp;</strong></li></ol></div></div>"
   ]
  },
  {
   "cell_type": "code",
   "execution_count": 28,
   "id": "8b2f2aca-353d-4559-89b1-16323ba861aa",
   "metadata": {},
   "outputs": [
    {
     "data": {
      "text/plain": [
       "7"
      ]
     },
     "execution_count": 28,
     "metadata": {},
     "output_type": "execute_result"
    }
   ],
   "source": [
    "class PairSum2:\n",
    "    def brute_force(self, nums:list[int], targetSum:int)->int:\n",
    "        count = 0\n",
    "        for i in range(len(nums)):\n",
    "            for j in range(i+1, len(nums)):\n",
    "                if nums[i] + nums[j] == targetSum:\n",
    "                    count += 1\n",
    "        return count\n",
    "    # helper function for binary serach approach\n",
    "    def findElement(self, nums:list[int], i:int, j:int, target:int)->bool:\n",
    "        \n",
    "        \n",
    "    \n",
    "    def binary_search_approach(self, nums:list[int], targetSum:int)->int:\n",
    "        \n",
    "\n",
    "obj = PairSum2()\n",
    "#nums = [1, 11, 41, 42, 51, 52, 53, 61, 62]\n",
    "nums = [1, 4, 4, 4, 5, 5, 6, 6, 11]\n",
    "targetSum = 10\n",
    "obj.brute_force(nums, targetSum)       "
   ]
  }
 ],
 "metadata": {
  "kernelspec": {
   "display_name": "Python 3 (ipykernel)",
   "language": "python",
   "name": "python3"
  },
  "language_info": {
   "codemirror_mode": {
    "name": "ipython",
    "version": 3
   },
   "file_extension": ".py",
   "mimetype": "text/x-python",
   "name": "python",
   "nbconvert_exporter": "python",
   "pygments_lexer": "ipython3",
   "version": "3.10.9"
  }
 },
 "nbformat": 4,
 "nbformat_minor": 5
}
