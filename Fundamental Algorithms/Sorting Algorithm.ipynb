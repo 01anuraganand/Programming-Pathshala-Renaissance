{
 "cells": [
  {
   "cell_type": "markdown",
   "id": "d0a2b2b6-a9fd-4500-8b79-07cb8b5b22ff",
   "metadata": {},
   "source": [
    "## Comparators and Stability\n",
    "<div class=\"subtopic-lecture-notes\"><p>A Sorting Algorithm is used to rearrange a list of elements according to a comparison based operator. It is basically a permutation of elements a1, a2,..., an such that a1’&lt;=a2’&lt;=...&lt;=an’. It has three major components -</p><ul><li><strong>Order: </strong>It refers to the manner in which the elements are to be sorted.<br>\n",
    "Eg. Arr[4] = {-5, 7, 1, -9}<br>\n",
    "Ascending order of value: [-9, -5, 1, 7]<br>\n",
    "Descending order of value: [7, 1, -5, -9]<br>\n",
    "Ascending order of magnitude: [1, -5, 7, -9]<br><br></li><li><strong>Stability: </strong>For an array with duplicate elements, more than one permutation of the array will represent the sorted form of the array.<br>\n",
    "Eg. Arr[4] = {2(1), 1, 2(2), 3}<br><u>Stable</u>: [1, 2(1), 2(2), 3] &nbsp;&nbsp;&nbsp;&nbsp;&nbsp;&nbsp;&nbsp;(Duplicate elements appear in the original order)<br><u>Unstable</u>: [1, 2(2), 2(1), 3] &nbsp;&nbsp;&nbsp;(Duplicate elements do not appear in the original order)<br><br></li><li><strong>Comparators: </strong>A comparator basically tells the rule on the basis of which the method has to sort the received data input. The in-built sorting method of any language library generally takes two parameters - data and the comparator.<br><br><u>Call statement</u>: sort(v.begin(), v.end(), cmp)<br><br>\n",
    "Given below is an example of a comparator that is sorting elements into ascending order while ensuring stability:<br><br><code><em>bool cmp(pair&lt;int, int&gt; x, pair&lt;int, int&gt; y){<br>\n",
    "&nbsp; &nbsp;if(x.first!=y.first){<br>\n",
    "&nbsp;&nbsp;&nbsp; &nbsp;&nbsp;return x.first&lt;y.first;<br>\n",
    "&nbsp; &nbsp;}<br>\n",
    "&nbsp; &nbsp;else{<br>\n",
    "&nbsp;&nbsp;&nbsp; &nbsp;&nbsp;return x.second&lt;y.second;<br>\n",
    "&nbsp; &nbsp;}<br>\n",
    "}&nbsp;</em></code></li></ul><p><em>Note:</em></p><ul><li><em>bool cmp(int x, int y);<br>\n",
    "If the above comparator function returns “TRUE” then ‘x’ will come before ‘y’, otherwise ‘y’ will appear before ‘x’ in the sorted array.&nbsp;</em></li><li><em>Avoid using equal to sign (&lt;= or &gt;=) in the comparator function as sometimes it gives an error in languages like C++, which is basically due to a bug in the internal implementation. &nbsp;&nbsp;</em>&nbsp;</li></ul></div></div>"
   ]
  },
  {
   "cell_type": "code",
   "execution_count": 39,
   "id": "7b3b9ae3-c2a8-4f70-87d6-db5fcad18067",
   "metadata": {},
   "outputs": [
    {
     "name": "stdout",
     "output_type": "stream",
     "text": [
      "[-9, -5, 1, 7]\n",
      "[7, 1, -5, -9]\n",
      "[1, -5, 7, -9]\n"
     ]
    },
    {
     "ename": "TypeError",
     "evalue": "'<' not supported between instances of 'NoneType' and 'int'",
     "output_type": "error",
     "traceback": [
      "\u001b[1;31m---------------------------------------------------------------------------\u001b[0m",
      "\u001b[1;31mTypeError\u001b[0m                                 Traceback (most recent call last)",
      "Cell \u001b[1;32mIn[39], line 63\u001b[0m\n\u001b[0;32m     60\u001b[0m sorted_nums \u001b[38;5;241m=\u001b[39m obj\u001b[38;5;241m.\u001b[39morder3(nums)\n\u001b[0;32m     61\u001b[0m \u001b[38;5;28mprint\u001b[39m(sorted_nums)\n\u001b[1;32m---> 63\u001b[0m sorted_nums \u001b[38;5;241m=\u001b[39m \u001b[43mobj\u001b[49m\u001b[38;5;241;43m.\u001b[39;49m\u001b[43morder4Stability\u001b[49m\u001b[43m(\u001b[49m\u001b[43mnums\u001b[49m\u001b[43m)\u001b[49m\n\u001b[0;32m     64\u001b[0m \u001b[38;5;28mprint\u001b[39m(sorted_nums)\n",
      "Cell \u001b[1;32mIn[39], line 51\u001b[0m, in \u001b[0;36mComparatorAndStability.order4Stability\u001b[1;34m(self, nums)\u001b[0m\n\u001b[0;32m     49\u001b[0m \u001b[38;5;28;01mdef\u001b[39;00m \u001b[38;5;21morder4Stability\u001b[39m(\u001b[38;5;28mself\u001b[39m, nums:\u001b[38;5;28mlist\u001b[39m[\u001b[38;5;28mint\u001b[39m]):\n\u001b[0;32m     50\u001b[0m     v \u001b[38;5;241m=\u001b[39m [[\u001b[38;5;241m1\u001b[39m,\u001b[38;5;241m2\u001b[39m],[\u001b[38;5;241m0\u001b[39m,\u001b[38;5;241m0\u001b[39m],[\u001b[38;5;241m1\u001b[39m,\u001b[38;5;241m3\u001b[39m]]\n\u001b[1;32m---> 51\u001b[0m     v1 \u001b[38;5;241m=\u001b[39m \u001b[38;5;28;43msorted\u001b[39;49m\u001b[43m(\u001b[49m\u001b[43mv\u001b[49m\u001b[43m,\u001b[49m\u001b[43m \u001b[49m\u001b[43mkey\u001b[49m\u001b[43m \u001b[49m\u001b[38;5;241;43m=\u001b[39;49m\u001b[43m \u001b[49m\u001b[43mfunctools\u001b[49m\u001b[38;5;241;43m.\u001b[39;49m\u001b[43mcmp_to_key\u001b[49m\u001b[43m(\u001b[49m\u001b[38;5;28;43mself\u001b[39;49m\u001b[38;5;241;43m.\u001b[39;49m\u001b[43mstableCmp\u001b[49m\u001b[43m)\u001b[49m\u001b[43m)\u001b[49m\n\u001b[0;32m     52\u001b[0m     \u001b[38;5;28;01mreturn\u001b[39;00m v1\n",
      "\u001b[1;31mTypeError\u001b[0m: '<' not supported between instances of 'NoneType' and 'int'"
     ]
    }
   ],
   "source": [
    "import functools\n",
    "class ComparatorAndStability:\n",
    "    def ascendingOrder(self, x: int, y: int) -> int:\n",
    "        if x < y: # if true return -1\n",
    "            return -1 \n",
    "        elif x > y:\n",
    "            return 1\n",
    "        else:\n",
    "            return 0\n",
    "        \n",
    "    def descendingOrder(self, x:int, y:int)->int:\n",
    "        if x > y:\n",
    "            return -1\n",
    "        elif x < y:\n",
    "            return 1\n",
    "        else:\n",
    "            return 0\n",
    "        \n",
    "    def ascendingOrderMagnitude(self, x:int, y:int)->int:\n",
    "        if abs(x) < abs(y):\n",
    "            return -1\n",
    "        elif abs(x) < abs(y):\n",
    "            return 1\n",
    "        else:\n",
    "            return 0\n",
    "    \n",
    "    def stableCmp(self, p1:list[list[int]], p2:list[list[int]])->int:\n",
    "        if p1[0] !=  p2[0]:\n",
    "            if p1[0] < p2[0]:\n",
    "                return -1\n",
    "        elif p1[0] > p2[0]:\n",
    "            return 1\n",
    "        else:\n",
    "            return 0\n",
    "        \n",
    "        \n",
    "    def order1(self, nums: list[int]):\n",
    "        nums1 = sorted(nums, key=functools.cmp_to_key(self.ascendingOrder))\n",
    "        return nums1\n",
    "    \n",
    "    def order2(self, nums:list[int]):\n",
    "        nums1 = sorted(nums, key = functools.cmp_to_key(self.descendingOrder))\n",
    "        return nums1\n",
    "    \n",
    "    def order3(self, nums:list[int]):\n",
    "        nums1 = sorted(nums, key = functools.cmp_to_key(self.ascendingOrderMagnitude))\n",
    "        return nums1\n",
    "    \n",
    "    def order4Stability(self, nums:list[int]):\n",
    "        v = [[1,2],[0,0],[1,3]]\n",
    "        v1 = sorted(v, key = functools.cmp_to_key(self.stableCmp))\n",
    "        return v1\n",
    "    \n",
    "obj = ComparatorAndStability()\n",
    "nums = [-5, 7, 1, -9]\n",
    "sorted_nums = obj.order1(nums)\n",
    "print(sorted_nums)\n",
    "sorted_nums = obj.order2(nums)\n",
    "print(sorted_nums)\n",
    "sorted_nums = obj.order3(nums)\n",
    "print(sorted_nums)\n",
    "\n",
    "sorted_nums = obj.order4Stability(nums)\n",
    "print(sorted_nums)\n"
   ]
  },
  {
   "cell_type": "code",
   "execution_count": 36,
   "id": "361250f2-bb5e-4afb-b535-87275694044c",
   "metadata": {},
   "outputs": [
    {
     "ename": "TypeError",
     "evalue": "custom_cmp() missing 1 required positional argument: 'p2'",
     "output_type": "error",
     "traceback": [
      "\u001b[1;31m---------------------------------------------------------------------------\u001b[0m",
      "\u001b[1;31mTypeError\u001b[0m                                 Traceback (most recent call last)",
      "Cell \u001b[1;32mIn[36], line 9\u001b[0m\n\u001b[0;32m      6\u001b[0m \u001b[38;5;28;01mif\u001b[39;00m \u001b[38;5;18m__name__\u001b[39m \u001b[38;5;241m==\u001b[39m \u001b[38;5;124m\"\u001b[39m\u001b[38;5;124m__main__\u001b[39m\u001b[38;5;124m\"\u001b[39m:\n\u001b[0;32m      7\u001b[0m     v \u001b[38;5;241m=\u001b[39m [(\u001b[38;5;241m1\u001b[39m, \u001b[38;5;241m2\u001b[39m), (\u001b[38;5;241m0\u001b[39m, \u001b[38;5;241m0\u001b[39m), (\u001b[38;5;241m1\u001b[39m, \u001b[38;5;241m3\u001b[39m)]\n\u001b[1;32m----> 9\u001b[0m     sorted_v \u001b[38;5;241m=\u001b[39m \u001b[38;5;28;43msorted\u001b[39;49m\u001b[43m(\u001b[49m\u001b[43mv\u001b[49m\u001b[43m,\u001b[49m\u001b[43m \u001b[49m\u001b[43mkey\u001b[49m\u001b[38;5;241;43m=\u001b[39;49m\u001b[43mcustom_cmp\u001b[49m\u001b[43m)\u001b[49m\n\u001b[0;32m     11\u001b[0m     \u001b[38;5;28;01mfor\u001b[39;00m item \u001b[38;5;129;01min\u001b[39;00m sorted_v:\n\u001b[0;32m     12\u001b[0m         \u001b[38;5;28mprint\u001b[39m(item[\u001b[38;5;241m0\u001b[39m], item[\u001b[38;5;241m1\u001b[39m])\n",
      "\u001b[1;31mTypeError\u001b[0m: custom_cmp() missing 1 required positional argument: 'p2'"
     ]
    }
   ],
   "source": []
  },
  {
   "cell_type": "markdown",
   "id": "2a85e0db-c4ef-4568-b5a2-cd1e2923cac2",
   "metadata": {},
   "source": [
    "## Custom Comparators\n",
    "<div class=\"subtopic-lecture-notes\"><p>In this lecture, we will learn how to write custom comparators by discussing a few problems. &nbsp;</p><p>Q. We have been given the coordinates of ‘N’ points and we have to find the first ‘k’ points which are closest to the origin.&nbsp;</p><p><strong>Approach: </strong>We can create a comparator function to sort the points according to their distance (d=√(x^2 + y^2)) from the origin. <br><em>Note: We can compare (x^</em><em>2</em><em>+y^</em><em>2</em><em>) rather than </em>√(x^2 + y^2) <em>for faster calculation.</em>&nbsp;</p><p>Q. We have been given an array Arr[N] such that 0&lt;=Arr[ i ]&lt;=100 and we have to sort it according to the following rule:</p><ol><li>Smaller frequency elements should come first</li><li>Smaller value element should come first if the frequency is same</li><li>Smaller index element should come first if the value is same</li></ol><p><strong>Approach:</strong><strong>&nbsp;</strong></p><ul><li>We can initialise a frequency array f[101] with 0 to count the frequency of each value.&nbsp;</li><li>We can create a structure containing the frequency, value &amp; index of an element and pass it to the comparator function for sorting the array according to the given conditions.</li></ul><p><em>Note: The time complexity is equal to O(NlogN) which is typically the time taken by the default sort function in the language library.&nbsp;</em></p></div></div>"
   ]
  },
  {
   "cell_type": "code",
   "execution_count": null,
   "id": "70bb9e58-df6a-4007-8ae0-fb22d5831878",
   "metadata": {},
   "outputs": [],
   "source": []
  }
 ],
 "metadata": {
  "kernelspec": {
   "display_name": "Python 3 (ipykernel)",
   "language": "python",
   "name": "python3"
  },
  "language_info": {
   "codemirror_mode": {
    "name": "ipython",
    "version": 3
   },
   "file_extension": ".py",
   "mimetype": "text/x-python",
   "name": "python",
   "nbconvert_exporter": "python",
   "pygments_lexer": "ipython3",
   "version": "3.10.9"
  }
 },
 "nbformat": 4,
 "nbformat_minor": 5
}
