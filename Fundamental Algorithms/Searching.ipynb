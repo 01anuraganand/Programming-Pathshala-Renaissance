{
 "cells": [
  {
   "cell_type": "markdown",
   "id": "d756cd95-898b-441e-952a-fccc6d8a3ecc",
   "metadata": {},
   "source": [
    "## Binary Search\n",
    "<div class=\"subtopic-lecture-notes\"><p>Searching techniques have two major components:</p><ol><li>Search Key</li><li>Search Space</li></ol><p><strong>Types of Searches:</strong></p><p><strong>Linear Search </strong>is a searching technique in which the search space is reduced by one element after every operation.&nbsp;</p><p>Time complexity: O(N)<br>\n",
    "Space complexity: O(1)</p><p><strong>Binary Search </strong>technique is used to search an element in a sorted array by repeatedly dividing the search interval into half based on a middle element and a condition.</p><p><u>Sample code to search a key ‘k’ in a sorted array a[N]</u> <br><br><code>int l=0, m;</code><code> &nbsp;</code><code>//low = l, mid = m<br>\n",
    " int h=N-1;</code><code> &nbsp;</code><code>//high = h<br>\n",
    " while(l&lt;=h){</code><code> &nbsp;</code><code>//as long as we have a non-empty subarray<br>\n",
    " &nbsp;&nbsp;&nbsp;&nbsp;m=(l+h)/2;<br>\n",
    " &nbsp;&nbsp;&nbsp;&nbsp;if(arr[m]==a[k]) return m;<br>\n",
    " &nbsp;&nbsp;&nbsp;&nbsp;else if(a[m]&lt;k) l=m+1;<br>\n",
    " &nbsp;&nbsp;&nbsp;&nbsp;else h=m-1;<br>\n",
    "}</code></p><p>Time complexity: O(log2N)<br>\n",
    "Space complexity: O(1)</p><p><em>Note: Binary search requires an ordered search space &amp; not necessarily a sorted search space</em></p></div></div>"
   ]
  },
  {
   "cell_type": "code",
   "execution_count": 5,
   "id": "d7143d76-1714-46e5-91bc-011f47c8ee99",
   "metadata": {},
   "outputs": [
    {
     "data": {
      "text/plain": [
       "4"
      ]
     },
     "execution_count": 5,
     "metadata": {},
     "output_type": "execute_result"
    }
   ],
   "source": [
    "class BinarySearch:\n",
    "    def binary_search(self, nums:list, key:int)->int:\n",
    "        low, high = 0, len(nums)-1\n",
    "        while low <= high:\n",
    "            mid = (low + high)//2\n",
    "            if nums[mid] == key:\n",
    "                return mid\n",
    "            if nums[mid] < key:\n",
    "                low = mid + 1\n",
    "            else:\n",
    "                high = mid - 1\n",
    "        return -1\n",
    "obj = BinarySearch()\n",
    "nums = [8, 9, 12, 34, 35, 65]\n",
    "obj.binary_search(nums, 35) # return index where it presents   "
   ]
  },
  {
   "cell_type": "markdown",
   "id": "bab31111-9262-49cc-a20c-5f7fe646e504",
   "metadata": {},
   "source": [
    "## Common Observations\n",
    "<div class=\"subtopic-lecture-notes\"><p>If the key is not present in an array then at the end high=low-1 such that:<br>\n",
    "∴ arr[high] &lt; key &lt; arr[low]</p><p>Eg. arr = [1, 10, 12, 21, 30 ], key=22</p><p>Then at the end of the loop, arr[low]=30 and arr[high]=21</p><p><strong>Applications:</strong></p><p>Q. At what index will you insert an element in a sorted array so that it remains sorted?</p><p>=&gt; We will insert it at index = low<br></p></div></div>"
   ]
  },
  {
   "cell_type": "markdown",
   "id": "d997ee59-9b0e-4cbb-8b2d-4c932b4dc865",
   "metadata": {},
   "source": [
    "## First and Last Occurrence\n",
    "<div class=\"subtopic-lecture-notes\"><p>We have been given a sorted array containing repeated elements and a key ‘k’. We have to find the first &amp; last occurrence of the key.&nbsp;</p><p><strong>Approach:</strong></p><ul><li>We can use a simple “For” loop to find the first and the last occurrence of the key.<br>\n",
    "Time complexity: O(N)<br>\n",
    "Space complexity: O(1)</li><li>Binary Search: We can write two separate binary search codes to find the first and the last occurrences of the key. <br><u>First occurrence</u>: When mid is equal to the key and the element before mid is not equal to the key. <br><code>if(arr[m]==k){<br>\n",
    " &nbsp;&nbsp;&nbsp;if(m==0 or arr[m-1]!=k)return m;<br>\n",
    "}</code><br><u>Secondary occurrence</u>: When mid is equal to the key and the element after mid is not equal to the key.<br><code>if(arr[m]==k){<br>\n",
    " &nbsp;&nbsp;&nbsp;if(m==N-1or arr[m+1]!=k)return m;</code><code><br></code><code>}</code><br>\n",
    "Time complexity: O(log2N)<br>\n",
    "Space complexity: O(1)</li></ul><p><em>Note: Occurrence of element ‘k’ in the array is = last occurrence - first occurrence + 1</em></p></div></div>"
   ]
  }
 ],
 "metadata": {
  "kernelspec": {
   "display_name": "Python 3 (ipykernel)",
   "language": "python",
   "name": "python3"
  },
  "language_info": {
   "codemirror_mode": {
    "name": "ipython",
    "version": 3
   },
   "file_extension": ".py",
   "mimetype": "text/x-python",
   "name": "python",
   "nbconvert_exporter": "python",
   "pygments_lexer": "ipython3",
   "version": "3.10.9"
  }
 },
 "nbformat": 4,
 "nbformat_minor": 5
}
