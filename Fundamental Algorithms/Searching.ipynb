{
 "cells": [
  {
   "cell_type": "markdown",
   "id": "d756cd95-898b-441e-952a-fccc6d8a3ecc",
   "metadata": {},
   "source": [
    "## Binary Search\n",
    "<div class=\"subtopic-lecture-notes\"><p>Searching techniques have two major components:</p><ol><li>Search Key</li><li>Search Space</li></ol><p><strong>Types of Searches:</strong></p><p><strong>Linear Search </strong>is a searching technique in which the search space is reduced by one element after every operation.&nbsp;</p><p>Time complexity: O(N)<br>\n",
    "Space complexity: O(1)</p><p><strong>Binary Search </strong>technique is used to search an element in a sorted array by repeatedly dividing the search interval into half based on a middle element and a condition.</p><p><u>Sample code to search a key ‘k’ in a sorted array a[N]</u> <br><br><code>int l=0, m;</code><code> &nbsp;</code><code>//low = l, mid = m<br>\n",
    " int h=N-1;</code><code> &nbsp;</code><code>//high = h<br>\n",
    " while(l&lt;=h){</code><code> &nbsp;</code><code>//as long as we have a non-empty subarray<br>\n",
    " &nbsp;&nbsp;&nbsp;&nbsp;m=(l+h)/2;<br>\n",
    " &nbsp;&nbsp;&nbsp;&nbsp;if(arr[m]==a[k]) return m;<br>\n",
    " &nbsp;&nbsp;&nbsp;&nbsp;else if(a[m]&lt;k) l=m+1;<br>\n",
    " &nbsp;&nbsp;&nbsp;&nbsp;else h=m-1;<br>\n",
    "}</code></p><p>Time complexity: O(log2N)<br>\n",
    "Space complexity: O(1)</p><p><em>Note: Binary search requires an ordered search space &amp; not necessarily a sorted search space</em></p></div></div>"
   ]
  },
  {
   "cell_type": "code",
   "execution_count": 5,
   "id": "d7143d76-1714-46e5-91bc-011f47c8ee99",
   "metadata": {},
   "outputs": [
    {
     "data": {
      "text/plain": [
       "4"
      ]
     },
     "execution_count": 5,
     "metadata": {},
     "output_type": "execute_result"
    }
   ],
   "source": [
    "class BinarySearch:\n",
    "    def binary_search(self, nums:list, key:int)->int:\n",
    "        low, high = 0, len(nums)-1\n",
    "        while low <= high:\n",
    "            mid = (low + high)//2\n",
    "            if nums[mid] == key:\n",
    "                return mid\n",
    "            if nums[mid] < key:\n",
    "                low = mid + 1\n",
    "            else:\n",
    "                high = mid - 1\n",
    "        return -1\n",
    "obj = BinarySearch()\n",
    "nums = [8, 9, 12, 34, 35, 65]\n",
    "obj.binary_search(nums, 35) # return index where it presents   "
   ]
  },
  {
   "cell_type": "markdown",
   "id": "bab31111-9262-49cc-a20c-5f7fe646e504",
   "metadata": {},
   "source": [
    "## Common Observations\n",
    "<div class=\"subtopic-lecture-notes\"><p>If the key is not present in an array then at the end high=low-1 such that:<br>\n",
    "∴ arr[high] &lt; key &lt; arr[low]</p><p>Eg. arr = [1, 10, 12, 21, 30 ], key=22</p><p>Then at the end of the loop, arr[low]=30 and arr[high]=21</p><p><strong>Applications:</strong></p><p>Q. At what index will you insert an element in a sorted array so that it remains sorted?</p><p>=&gt; We will insert it at index = low<br></p></div></div>"
   ]
  },
  {
   "cell_type": "markdown",
   "id": "d997ee59-9b0e-4cbb-8b2d-4c932b4dc865",
   "metadata": {},
   "source": [
    "## First and Last Occurrence\n",
    "<div class=\"subtopic-lecture-notes\"><p>We have been given a sorted array containing repeated elements and a key ‘k’. We have to find the first &amp; last occurrence of the key.&nbsp;</p><p><strong>Approach:</strong></p><ul><li>We can use a simple “For” loop to find the first and the last occurrence of the key.<br>\n",
    "Time complexity: O(N)<br>\n",
    "Space complexity: O(1)</li><li>Binary Search: We can write two separate binary search codes to find the first and the last occurrences of the key. <br><u>First occurrence</u>: When mid is equal to the key and the element before mid is not equal to the key. <br><code>if(arr[m]==k){<br>\n",
    " &nbsp;&nbsp;&nbsp;if(m==0 or arr[m-1]!=k)return m;<br>\n",
    "}</code><br><u>Secondary occurrence</u>: When mid is equal to the key and the element after mid is not equal to the key.<br><code>if(arr[m]==k){<br>\n",
    " &nbsp;&nbsp;&nbsp;if(m==N-1or arr[m+1]!=k)return m;</code><code><br></code><code>}</code><br>\n",
    "Time complexity: O(log2N)<br>\n",
    "Space complexity: O(1)</li></ul><p><em>Note: Occurrence of element ‘k’ in the array is = last occurrence - first occurrence + 1</em></p></div></div>"
   ]
  },
  {
   "cell_type": "code",
   "execution_count": 11,
   "id": "8b9210eb-058a-4341-93ab-e906738a9f28",
   "metadata": {},
   "outputs": [
    {
     "name": "stdout",
     "output_type": "stream",
     "text": [
      "4 6\n"
     ]
    }
   ],
   "source": [
    "class FirstAndLastOccurence:\n",
    "    def firstOccurence(self, nums:list, target:int)->int:\n",
    "        low, high = 0, len(nums)-1\n",
    "        while low <= high:\n",
    "            mid = int((low+high)/2)\n",
    "            if nums[mid] < target:\n",
    "                low = mid + 1\n",
    "            elif nums[mid] > target:\n",
    "                high = mid -1\n",
    "            else:\n",
    "                if mid == 0:\n",
    "                    return mid;\n",
    "                elif nums[mid-1] != target:\n",
    "                    return mid;\n",
    "                else:\n",
    "                    high = mid -1;\n",
    "        return -1\n",
    "    \n",
    "    def lastOccurence(self, nums:list, target:int)->int:\n",
    "        low, high = 0, len(nums)-1\n",
    "        while low <= high:\n",
    "            mid = int((low+high)/2)\n",
    "            if nums[mid] < target:\n",
    "                low = mid + 1\n",
    "            elif nums[mid] > target:\n",
    "                high = mid -1\n",
    "            else:\n",
    "                if mid == len(nums)-1:\n",
    "                    return mid;\n",
    "                elif nums[mid+1] != target:\n",
    "                    return mid;\n",
    "                else:\n",
    "                    low = mid + 1;\n",
    "        return -1\n",
    "    \n",
    "    def firstAndLastOccurenceSolution(self, nums:list, target:int)->None:\n",
    "        firstValEqTarget = self.firstOccurence(nums, target)\n",
    "        lastValEqTarget = self.lastOccurence(nums, target)\n",
    "        if firstValEqTarget == -1 and lastValEqTarget == -1:\n",
    "            print(\"Not found\")\n",
    "        else:\n",
    "            print(firstValEqTarget, lastValEqTarget)\n",
    "obj = FirstAndLastOccurence()\n",
    "nums = [1,1, 2, 2, 3, 3, 3,4, 5, 5, 5]\n",
    "obj.firstAndLastOccurenceSolution(nums, 3)"
   ]
  },
  {
   "cell_type": "markdown",
   "id": "b15a7414-8722-45db-ace8-cafc9d56e44a",
   "metadata": {},
   "source": [
    "## Search in Sorted Rotated Array\n",
    "<div class=\"subtopic-lecture-notes\"><p>We have been given a sorted rotated array containing ‘N’ distinct elements and a key ‘k’. We have to check if the key lies in the array or not.&nbsp;</p><p>Input: Arr[7] = {5, 6, 7, 1, 2, 3, 4}, k = 3<br>\n",
    "Output: 5 <br><br><strong>Approach:</strong></p><ul><li>We know that the sorted array is rotated, therefore there exist two individual subarrays that are sorted in ascending order. <br>\n",
    "Eg. Arr = [<u>5, 6, 7</u>, <u>1, 2, 3, 4</u>]&nbsp;</li></ul><figure><img src=\"https://i.imgur.com/HvrAE0f.jpg\" height=\"auto\" width=\"600px\" alt=\"Binary Search L4\"></figure><p><br></p><ul><li>We can use binary search to find the pivot. Property of the pivot element:&nbsp;\n",
    "    <ul><li>It is the largest element of the array</li><li>It is the only element for which a[ i ] &gt; a[i+1]</li></ul></li><li>We can compare a[mid] with a[N-1] to find out the part in which “mid” is lying in. Let the pivot index be j, then there will be two sorted subarrays - from 0 to j and from j+1 to N-1.&nbsp;</li><li>We can compare the key with a[N-1] to know in which subarray it lies. And then we can directly search the key in that subarray. &nbsp;&nbsp;<br>\n",
    "Time complexity: O(log2N)<br>\n",
    "Space complexity: O(1)<br><br>\n",
    "Note: The above technique may not work for arrays containing non-distinct elements as we may not be able to identify the part in which our “mid” is lying in. This will create a hindrance in finding the pivot by using Binary Search. <br>\n",
    "Eg. Arr = [<u>3, 3, 3, 5, 9</u>, <u>1, 2, 3, 3, 3, 3</u>]<br>\n",
    "Here part2 &gt;= Arr[N-1] but part1 ≯ Arr[N-1]&nbsp;</li></ul></div></div>"
   ]
  },
  {
   "cell_type": "code",
   "execution_count": 25,
   "id": "b12ef542-c93b-4cff-b3fc-176df4af9ad4",
   "metadata": {},
   "outputs": [
    {
     "data": {
      "text/plain": [
       "6"
      ]
     },
     "execution_count": 25,
     "metadata": {},
     "output_type": "execute_result"
    }
   ],
   "source": [
    "class SearchSortedRotatedArray:\n",
    "    def kSorted(self, nums:list)->int:\n",
    "        n = len(nums)-1\n",
    "        low, high = 0, n-1\n",
    "        while(low <= high):\n",
    "            mid = int((low+high)/2)\n",
    "            if nums[mid] <= nums[n-1]:\n",
    "                high = mid -1\n",
    "            else:\n",
    "                if nums[mid] > nums[mid+1]:\n",
    "                    return mid\n",
    "                else:\n",
    "                    low = mid + 1\n",
    "        return -1\n",
    "    \n",
    "    def solution(self, nums:list, key:int)->int:\n",
    "        rotated = self.kSorted(nums)\n",
    "        n = len(nums)\n",
    "        low, high = 0, n-1;\n",
    "        while low <= high:\n",
    "            mid = int((low + high)/2)\n",
    "            realMid = (mid + rotated)%n\n",
    "            if nums[realMid] == key:\n",
    "                return realMid\n",
    "            if nums[realMid] < key:\n",
    "                low = mid+1\n",
    "            else:\n",
    "                high = mid -1\n",
    "        return -1    \n",
    "    \n",
    "obj = SearchSortedRotatedArray()\n",
    "nums = [5, 6, 7, 1, 2, 3, 4]\n",
    "key = 4\n",
    "obj.solution(nums, key)                          "
   ]
  },
  {
   "cell_type": "markdown",
   "id": "e33a53f3-fe1d-4db3-8e72-0f4729523a9d",
   "metadata": {},
   "source": [
    "## Peak Element\n",
    "<div class=\"subtopic-lecture-notes\"><p>We have been given an unsorted array Arr[N] and we have to find a peak element in the array. <br><br>\n",
    "Input: Arr[7] = {10, 20, 15, 2, 23, 90, 67}<br>\n",
    "Output: 20 (or 90)<br><br>\n",
    "Note: An element Arr[i] is said to be a peak if:</p><p>Arr[i-1] =&lt; Arr[i] &lt;= Arr[i+1] &nbsp;&nbsp;(i&lt;=1 and i&lt;N-1)&nbsp;</p><p>The first and the last elements can qualify as a peak element only if:</p><p>Arr[0]&gt;=Arr[1]</p><p>Arr[N-1]&gt;=Arr[N-2]</p><p><strong>Approach:</strong></p><ul><li>If we apply binary search on the array then our mid will be the peak when - <br>\n",
    "Arr[mid]&gt;=Arr[mid-1] and Arr[mid]&gt;=Arr[mid+1]</li><li>But what if the above condition is false? Then where should we move next, to the left or to the right?&nbsp;</li><li>The answer is to the direction where finding a peak is certain i.e. towards the greater adjacent element, and if both are greater then we can move randomly in any direction. It can be easily understood from the illustration given below. &nbsp;</li></ul><figure><img src=\"https://i.imgur.com/CaO6VI8.jpg\" height=\"auto\" width=\"600px\" alt=\"Binary Search L5\"></figure><p><br>\n",
    "Time complexity: O(log2N)<br>\n",
    "Space complexity: O(1)&nbsp;</p></div></div>"
   ]
  },
  {
   "cell_type": "code",
   "execution_count": 31,
   "id": "962b5a43-c223-4d76-8caf-1dd3edaa3db7",
   "metadata": {},
   "outputs": [
    {
     "data": {
      "text/plain": [
       "20"
      ]
     },
     "execution_count": 31,
     "metadata": {},
     "output_type": "execute_result"
    }
   ],
   "source": [
    "class PeakElement:\n",
    "    def solution(self, nums:list)->int:\n",
    "        low, high = 0, len(nums)-1\n",
    "        while low <= high:\n",
    "            mid = int((low+high)/2)\n",
    "            if mid == 0 or mid == len(nums)-1:\n",
    "                return nums[mid]\n",
    "            elif nums[mid] >= nums[mid+1] and nums[mid] >= nums[mid-1]:\n",
    "                return nums[mid]\n",
    "            else:\n",
    "                high = mid - 1 #low = mid + 1 both able to find peak element\n",
    "        return -1\n",
    "obj = PeakElement()\n",
    "nums = [10, 20, 15, 2, 23, 90, 67]\n",
    "obj.solution(nums)"
   ]
  },
  {
   "cell_type": "markdown",
   "id": "1287625f-a552-4f54-81f2-cee665007f1e",
   "metadata": {},
   "source": [
    "## Repeated Element\n",
    "<div class=\"subtopic-lecture-notes\"><p>We have been given a sorted integer array Arr[N] containing elements from 1 to N-1 with one element occurring twice in the array. Find out that element, given that N&gt;=2.<br></p><p>Input: Arr[8] = {1, 2, 3, 4, 5, 5, 6, 7}<br>\n",
    "Output: 5</p><p><strong>Approach:</strong>&nbsp;</p><ul><li>On observing the elements before and after the repeated element we will find that they have distinct identification characteristics.&nbsp;</li></ul><figure><img src=\"https://i.imgur.com/XCJlM9Q.jpg\" height=\"auto\" width=\"600px\" alt=\"Binary Search L6\"></figure><p><br></p><ul><li>From the above illustration, it is clear that our key will be the last element of the subarray defined by Arr[i]=i+1. Thus, we can use binary search to find the repeated element such that Arr[mid] = Arr[mid+1]. <br>\n",
    "Time complexity: O(log2N)<br>\n",
    "Space complexity: O(1)<br></li></ul></div></div>"
   ]
  },
  {
   "cell_type": "code",
   "execution_count": 39,
   "id": "17140e2c-1c06-4821-831b-e5426247ff1d",
   "metadata": {},
   "outputs": [
    {
     "data": {
      "text/plain": [
       "6"
      ]
     },
     "execution_count": 39,
     "metadata": {},
     "output_type": "execute_result"
    }
   ],
   "source": [
    "class RepeatedElement:\n",
    "    def solution(self, nums:list)->int:\n",
    "        low, high = 0, len(nums)-1\n",
    "        while low <= high:\n",
    "            mid = int((low+high)/2)\n",
    "            if nums[mid] == mid:\n",
    "                high = mid -1 ;\n",
    "            else:\n",
    "                if nums[mid] == nums[mid+1]:\n",
    "                    return mid;\n",
    "                else:\n",
    "                    low = mid + 1\n",
    "        return -1\n",
    "obj = RepeatedElement()\n",
    "nums = [1, 2,3, 4, 5, 6, 7,7]\n",
    "obj.solution(nums)      "
   ]
  },
  {
   "cell_type": "markdown",
   "id": "55bbd0e1-1e77-4c61-b9cc-8bde6d15b476",
   "metadata": {},
   "source": [
    "## Single Element\n",
    "<div class=\"subtopic-lecture-notes\"><p>We have been given an unsorted array Arr[N] where all elements occur in pairs (together at index i &amp; i+1) except one element. Find out that element.&nbsp;</p><p>Input: Arr[9] = {4, 4, 1, 1, 3, 7, 7, 6, 6}<br>\n",
    "Output: 3&nbsp;</p><p><strong>Approach:</strong></p><ul><li>On observing the pairs before and after the single element we find that both the parts of the array have a distinct identification characteristic.&nbsp;</li></ul><figure><img src=\"https://i.imgur.com/yJmQa1N.jpg\" height=\"auto\" width=\"600px\" alt=\"Binary search L7\"></figure><p><br></p><ul><li>In the first subarray, the first and the second occurrences of the element has an even and an odd index respectively while it is the reverse case for the second part of the array. The answer that is the single element will act as a pivot between the two subarrays. Therefore, we can apply binary search on the above rule to find the answer.</li><li>Arr[mid] is the answer if Arr[mid]!=Arr[mid-1] and Arr[mid]!=Arr[mid]+1.<br>\n",
    "Time complexity: O(log2N)<br>\n",
    "Space complexity: O(1)</li></ul><p>Note: Take special care of the boundary conditions to ensure that the array indices are in their legal range.</p></div></div>"
   ]
  },
  {
   "cell_type": "code",
   "execution_count": 50,
   "id": "97f2f703-1f7f-4072-904d-6833de1dc10e",
   "metadata": {},
   "outputs": [
    {
     "data": {
      "text/plain": [
       "7"
      ]
     },
     "execution_count": 50,
     "metadata": {},
     "output_type": "execute_result"
    }
   ],
   "source": [
    "class SingleElement:\n",
    "    def solution(self, nums:list)->int:\n",
    "        low, high = 0, len(nums)\n",
    "        if low == high:\n",
    "            return nums[low]\n",
    "        \n",
    "        while low <= high:\n",
    "            mid = int((low + high)/2)\n",
    "            if mid == 0:\n",
    "                if nums[mid] != nums[mid+1]:\n",
    "                    return nums[mid]\n",
    "                else:\n",
    "                    low = mid + 1\n",
    "                    \n",
    "            elif mid == len(nums)-1:\n",
    "                if nums[mid] != nums[mid-1]:\n",
    "                    return nums[mid]\n",
    "                else:\n",
    "                    high = mid -1\n",
    "                    \n",
    "            elif nums[mid] != nums[mid+1] and nums[mid] != nums[mid-1]:\n",
    "                return nums[mid]\n",
    "            else:\n",
    "                if nums[mid] == nums[mid+1]:\n",
    "                    firstOccurence, secondOccurence = mid, mid+1\n",
    "                else:\n",
    "                    firstOccurence, secondOccurence = mid-1, mid\n",
    "                    \n",
    "                if firstOccurence % 2 == 0:\n",
    "                    low = mid + 1\n",
    "                else:\n",
    "                    high = mid -1 \n",
    "                    \n",
    "obj = SingleElement()\n",
    "nums = [4, 4, 1, 1, 3, 3, 7, 6, 6]\n",
    "obj.solution(nums)"
   ]
  },
  {
   "cell_type": "markdown",
   "id": "dc218fbc-14db-4797-9d55-5a3d1303909a",
   "metadata": {},
   "source": [
    "## Monotonic Functions\n",
    "<div class=\"subtopic-lecture-notes\"><p>A function is said to be monotonic only when it is either non-decreasing or non-increasing in nature.&nbsp;</p><figure><img src=\"https://i.imgur.com/HTod0en.jpg\" height=\"auto\" width=\"600px\" alt=\"Binary Search L8\"></figure><p>In the upcoming lectures, we will learn how to figure out these monotonic functions hidden in problems and to apply binary search on the answer. The steps used for the following are:&nbsp;</p><ol><li>Figure out a monotonic function</li><li>Find a range of answers&nbsp;</li><li>Apply Binary Search&nbsp;</li></ol></div></div>"
   ]
  },
  {
   "cell_type": "markdown",
   "id": "f53320dd-9ba7-4ade-a9a0-2d1660a31606",
   "metadata": {},
   "source": [
    "## Square Root\n",
    "<div class=\"subtopic-lecture-notes\"><p>In this lecture, we will learn how to calculate the square root of a number ‘N’ with the help of monotonicity and binary search.&nbsp;</p><p>Property: √N = x &nbsp;&nbsp;such that x^2=N or x^2&lt;=N&lt;=(x+1)^2</p><p>Since we know that&nbsp;</p><ul><li>f(x) = x^2 is monotonically increasing from [0,∞]</li><li>1&lt;=√N&lt;=N<br>\n",
    "Hence we can apply binary search on the answer that is low = 1 and high = N to find the square root of ‘N’. &nbsp;</li></ul></div></div>"
   ]
  },
  {
   "cell_type": "code",
   "execution_count": 8,
   "id": "f46e182d-c1a8-4a74-ba20-2a14920ee038",
   "metadata": {},
   "outputs": [
    {
     "data": {
      "text/plain": [
       "14654"
      ]
     },
     "execution_count": 8,
     "metadata": {},
     "output_type": "execute_result"
    }
   ],
   "source": [
    "class SquareRoot:\n",
    "    def sqrt(self, n:int)->int:\n",
    "        low, high = 0, n\n",
    "        while low <= high:\n",
    "            mid = int((low+high)/2)\n",
    "            if mid*mid > n:\n",
    "                high = mid -1\n",
    "            else:\n",
    "                if (mid+1)*(mid+1)>n:\n",
    "                    return mid\n",
    "                else:\n",
    "                    low = mid + 1\n",
    "obj = SquareRoot()\n",
    "n = 214748364\n",
    "obj.sqrt(n)"
   ]
  },
  {
   "cell_type": "markdown",
   "id": "c735f5c5-d423-4403-9097-85f13b6aa899",
   "metadata": {},
   "source": [
    "## K-th Smallest in Array-1\n",
    "<div class=\"subtopic-lecture-notes\"><p>We have been given an unsorted array Arr[N] and we have to find the kth smallest element.&nbsp;</p><p>Input: Arr[8] = {40, 10, 10, 30, 40, 20, 50, 70, 50}, k=6</p><p>Output: 40</p><p><strong>Approach:</strong></p><ol><li>We can sort the array and return Arr[k-1] as the answer.<br>\n",
    "Input: Arr = [40, 10, 10, 30, 40, 20, 50, 70, 50], k=6<br>\n",
    "After sorting: Arr = [10, 10, 20, 30, 40, 40, 50, 50, 70]<br><br>\n",
    "Time complexity: O(NlogN)<br>\n",
    "Space complexity: O(1)<br><br>\n",
    "But what will we do in the case when we are not allowed to tamper with the original array?&nbsp;</li><li>We can copy the array to a temporary array and sort it to return Arr[k-1] as the answer.<br>\n",
    "Input: Arr = [40, 10, 10, 30, 40, 20, 50, 70, 50], k=6<br>\n",
    "temp = [40, 10, 10, 30, 40, 20, 50, 70, 50]<br>\n",
    "Sorted array temp = [10, 10, 20, 30, 40, 40, 50, 50, 70]<br><br>\n",
    "Time complexity: O(NlogN)<br>\n",
    "Space complexity: O(N)</li><li>Hint: Think of some property related to the answer.</li></ol><figure><img src=\"https://i.imgur.com/lDTO44D.jpg\" height=\"auto\" width=\"800px\" alt=\"Place the cows_binary search\"></figure><p>Arr[i] will be the required answer only when CntArr[i]&gt;=k and Cnt’Arr[i]&lt;k.<br>\n",
    "Where, CntArr[i] = Count of elements less than or equal to Arr[i]<br>\n",
    "&nbsp;&nbsp;&nbsp;&nbsp;&nbsp;&nbsp;&nbsp;&nbsp;&nbsp;&nbsp;&nbsp;&nbsp;&nbsp;Cnt’Arr[i] = Count of elements exactly less than Arr[i]<br>\n",
    "Thus we can use brute force to calculate the above two values for each array element to find the answer.<br>\n",
    "Time complexity: O(N^2)<br>\n",
    "Space complexity: O(1)</p></div></div>"
   ]
  },
  {
   "cell_type": "code",
   "execution_count": 4,
   "id": "313978b4-01c7-4457-8a75-e9c3cac8ef5e",
   "metadata": {},
   "outputs": [
    {
     "name": "stdout",
     "output_type": "stream",
     "text": [
      "40\n"
     ]
    }
   ],
   "source": [
    "class kthSmallestElement1:\n",
    "    def solution(self, nums:list[int], k:int)->int:\n",
    "        for i in range(len(nums)):\n",
    "            smaller = 0\n",
    "            equal = 0\n",
    "            for j in range(len(nums)):\n",
    "                if nums[j] < nums[i]:\n",
    "                    smaller += 1\n",
    "                elif nums[j] == nums[i]:\n",
    "                    equal += 1\n",
    "            total = smaller + equal\n",
    "            if total >= k and smaller <k:\n",
    "                return nums[i]\n",
    "\n",
    "obj = kthSmallestElement1()\n",
    "nums = [40, 10, 10, 30, 40, 20, 50, 70, 50]\n",
    "k = 6\n",
    "print(obj.solution(nums, k))"
   ]
  },
  {
   "cell_type": "markdown",
   "id": "3a7f9309-dc78-4db5-8d37-db9bfb33f556",
   "metadata": {},
   "source": [
    "## K-th Smallest in Array-2\n",
    "<div class=\"subtopic-lecture-notes\"><p><br></p><p>In this lecture, we will continue with the previous problem and learn how to use the concept of monotonicity to apply binary search on the answer.&nbsp;<br><br>\n",
    "We have been given an unsorted array Arr[N] and we have to find the kth smallest element.&nbsp;<br>\n",
    "Input: Arr[9] = {40, 10, 10, 30, 40, 20, 50, 90, 50}, k=6<br>\n",
    "Output: 40<br><strong>Approach: </strong>&nbsp;</p><ul><li>As discussed in the previous lecture, f(x) is a monotonically increasing function where x = Arr[i] and f(x) = Count of elements less than or equal to Arr[i].&nbsp;</li><li>The answer can vary in the range of minimum and the maximum element of the array. Therefore we can run a binary search on the answer - [min, max] and shift the mid according to the monotonic rule f(x).&nbsp;</li><li>If Cntmid&lt;k, it means that it is not the answer and we can shift our low to mid+1.</li><li>If Cntmid&gt;=k, then it may be the answer, therefore we check the value of count for (mid-1). If we get Cnt&gt;=k then we shift high=mid-1, otherwise if Cnt&lt;k, then mid is the answer.<br>\n",
    "Time complexity: O(Nlog(max-min))<br>\n",
    "Space complexity: O(1)&nbsp;<br></li></ul><figure><img src=\"https://i.imgur.com/KLnUi4e.jpg\" height=\"auto\" width=\"600px\" alt=\"Searching_L11\"></figure><p><br></p></div></div>"
   ]
  },
  {
   "cell_type": "code",
   "execution_count": 18,
   "id": "b54efd9d-aa07-447f-9e83-7ab72e842f8e",
   "metadata": {},
   "outputs": [
    {
     "data": {
      "text/plain": [
       "40"
      ]
     },
     "execution_count": 18,
     "metadata": {},
     "output_type": "execute_result"
    }
   ],
   "source": [
    "class kthSmallestElement2:\n",
    "    #helper function for count the smallest than the mid value\n",
    "    def countSmallestThanMid(self, nums:list[int], x:int)->int:\n",
    "        count = 0\n",
    "        for num in nums:\n",
    "            if num <= x:\n",
    "                count += 1\n",
    "        return count\n",
    "    \n",
    "    def solution(self, nums:list, k:int)->int:\n",
    "        low = min(nums)\n",
    "        high = max(nums)\n",
    "        while low <= high:\n",
    "            mid = int((low+high)/2)\n",
    "            count = self.countSmallestThanMid(nums, mid)\n",
    "            if count < k:\n",
    "                low = mid + 1\n",
    "            else:\n",
    "                count1 = self.countSmallestThanMid(nums, mid-1)\n",
    "                if count1 < k:\n",
    "                    return mid\n",
    "                else:\n",
    "                    high = mid - 1;\n",
    "\n",
    "obj = kthSmallestElement2()\n",
    "nums = [40, 10, 10, 30, 40, 20, 50, 70, 50]\n",
    "k = 6\n",
    "obj.solution(nums, k)\n",
    "                "
   ]
  },
  {
   "cell_type": "markdown",
   "id": "6f043f5d-5ad7-4ef6-8af7-0856ffbd59e1",
   "metadata": {},
   "source": [
    "## K-th Smallest in Matrix\n",
    "<div class=\"subtopic-lecture-notes\"><p>We have been given a 2D matrix of dimension NxN where each row is sorted. We have to find the kth smallest element in the matrix.&nbsp;</p><p>Input: Arr = [{1 3 5}, {1 2 9}, {4 5 6}], k=6<br>\n",
    "Output: 5 &nbsp;&nbsp;&nbsp;∵ [1 1 2 3 4 5 5 6 9]</p><p><strong>Approach:&nbsp;</strong></p><ol><li>Copy the original array to a temporary array temp[N2]. Sort it and return Arr[k-1].<br>\n",
    "Time complexity: O(N2logN)<br>\n",
    "Space complexity: O(N^2)</li><li>We can also try the approach followed in the previous lecture. We can run a binary search on the answer and find the count of elements less than or equal to the mid.<br>\n",
    "Time complexity: O(N2log(max-min))<br>\n",
    "Space complexity: O(1)<br><br>\n",
    "But we can achieve this time complexity even when the rows are unsorted. Can we do better than this?</li><li>We can use the above fact to count Cnt using binary search in each row. <br>\n",
    "Cntmid = Cntrow=1 + Cntrow2 + ... + Cntrow = N<br>\n",
    "Time complexity: O(Nlog(N)log(max-min))<br>\n",
    "Space complexity: O(1)</li></ol><p><em>Note: You can also use the upper_bound &amp; lower_bound functions for the third approach. They are internally implemented using binary search only.</em></p></div></div>"
   ]
  },
  {
   "cell_type": "code",
   "execution_count": 35,
   "id": "814a999b-d314-41b6-9980-1e53d8f714d3",
   "metadata": {},
   "outputs": [
    {
     "ename": "SyntaxError",
     "evalue": "invalid syntax (4164440799.py, line 1)",
     "output_type": "error",
     "traceback": [
      "\u001b[1;36m  Cell \u001b[1;32mIn[35], line 1\u001b[1;36m\u001b[0m\n\u001b[1;33m    Wrong Wrong\u001b[0m\n\u001b[1;37m          ^\u001b[0m\n\u001b[1;31mSyntaxError\u001b[0m\u001b[1;31m:\u001b[0m invalid syntax\n"
     ]
    }
   ],
   "source": [
    "Wrong Wrong\n",
    "class kthSmallestInMatrix:\n",
    "    def findMax(self, nums:list[int]):\n",
    "        maxVal = 0\n",
    "        for j in range(len(nums)):\n",
    "            maxVal = max(maxVal, nums[0][j])\n",
    "    \n",
    "    def findMin(self, nums:list[int]):\n",
    "        minVal = 0\n",
    "        n = len(nums[0])\n",
    "        for j in range(len(nums)):\n",
    "            minVal = min(minVal, nums[n-1][j])\n",
    "    # helper function for finding the count of number less than the mid\n",
    "    def countSmallerThanMid(self, nums:list[int], n:int)->int:\n",
    "        smaller = 0\n",
    "        for i in range(len(nums)):\n",
    "            if nums[i] <= n:\n",
    "                smaller += 1\n",
    "        return smaller\n",
    "    \n",
    "    def solution(self, nums:list[int], k:int)->int:\n",
    "        low, high = findMin(nums), findMax(nums)\n",
    "        while low <= high:\n",
    "            mid = ((low+high)/2)\n",
    "            \n",
    "        \n",
    "                "
   ]
  },
  {
   "cell_type": "markdown",
   "id": "0f8f1d4f-ccf7-4671-904b-11626bebdb76",
   "metadata": {},
   "source": [
    "## Maximize K\n",
    "<div class=\"subtopic-lecture-notes\"><p>We have been given an unsorted array Arr[N] containing only positive elements and an integer ‘x’ such that x&gt;=0. We have to find the maximum possible ‘k’ such that none of the subarrays of size ‘k’ has a sum&gt;x.&nbsp;</p><p><strong>Approach:&nbsp;</strong></p><ol><li><strong>Brute Force: </strong>We can calculate the sum of all the subarrays of size 1 to N by using the sliding window technique and find the maximum value of ‘k’ following the given criteria. <br>\n",
    "Time complexity: O(N^2)<br>\n",
    "Space complexity: O(1)</li><li><strong>Binary Search on Answer: </strong>Since we know that ‘k’ can vary from 1 to N and beyond a certain value of ‘k’, the subarrays will have sum&gt;x (since the array contains only positive elements). We can find this pivot with the help of binary search and the given condition. Here, low = 1 and high = N.<br>\n",
    "Time complexity: O(NlogN)<br>\n",
    "Space complexity: O(1)</li></ol><p><em>Note: <br>\n",
    "- Sliding window technique can be used to effectively calculate the sum of subarrays.</em> <br>\n",
    "- <em>Handle array indices with care</em>&nbsp;</p></div></div>"
   ]
  },
  {
   "cell_type": "code",
   "execution_count": 1,
   "id": "f71ca755-ad38-46c1-8d33-36e66da12dee",
   "metadata": {},
   "outputs": [
    {
     "data": {
      "text/plain": [
       "2"
      ]
     },
     "execution_count": 1,
     "metadata": {},
     "output_type": "execute_result"
    }
   ],
   "source": [
    "# based upon the binary serach on answers\n",
    "class MaximizeK:\n",
    "    \n",
    "    def isPossibleSubArrSumOfSizeK(self, nums:list[int], k:int, x:int)->bool:\n",
    "        sum = 0\n",
    "        if k == len(nums)+1:\n",
    "            return False\n",
    "        for i in range(k):\n",
    "            sum += nums[i]\n",
    "        for i in range(k, len(nums)):\n",
    "            if(sum >x):\n",
    "                return False\n",
    "            else:\n",
    "                sum -= nums[i-k]\n",
    "                sum += nums[i]\n",
    "        if sum > x:\n",
    "            return False\n",
    "        return True\n",
    "\n",
    "    def maximizeSubarryK(self, nums:list[int], kSum:int)->int:\n",
    "        low, high = 0, len(nums)\n",
    "        while low <= high:\n",
    "            mid = int((low+high)/2)\n",
    "            if not self.isPossibleSubArrSumOfSizeK(nums, mid, kSum):\n",
    "                low = mid + 1\n",
    "            else:\n",
    "                if self.isPossibleSubArrSumOfSizeK(nums, mid+1,kSum) == False:\n",
    "                    return mid\n",
    "                else:\n",
    "                    high = mid - 1\n",
    "\n",
    "obj = MaximizeK()\n",
    "nums = [1, 2, 3, 4]\n",
    "x = 8\n",
    "obj.maximizeSubarryK(nums, x)        "
   ]
  },
  {
   "cell_type": "markdown",
   "id": "545db739-84a6-4e22-bd0e-e9439feb599d",
   "metadata": {},
   "source": [
    "## Place the Cows\n",
    "<div class=\"subtopic-lecture-notes\"><p>A farmer has ‘N’ stalls located at some points on a number line x0, x1, x2,.., xN. Each stall can contain at max 1 cow. Given that N&gt;=2, C&gt;=2 and C&lt;N, place ‘C’ cows such that the minimum distance between any two adjacent cows is maximum possible.&nbsp;</p><p>Input: N=5, C=3, Arr = [1, 2, 4, 8, 9]<br>\n",
    "Output: 3</p><p>Explanation: Selected combinations are (1, 4, 8) or (1, 4, 9)</p><p><strong>Approach:&nbsp;</strong></p><ol><li><strong>Brute Force </strong>- Use recursion to figure out all the NCC combinations and find the maximum possible value of the minimum distance between any two adjacent cows.&nbsp;</li><li><strong>Binary Search on Answer: </strong>Hint: Focus on the minimum adjacent distance(d) between any two cows in a specific configuration.<br><br>\n",
    "If it is possible to put ‘C’ cows at ‘N’ stalls for d=4 then, it is also possible for d&lt;=3.<br><br>\n",
    "Similarly, if it is not possible to put ‘C’ cows at ‘N’ stalls for d=9, then it is also not possible for d&gt;=10.<br></li></ol><figure><img src=\"https://i.imgur.com/i3f2zDd.jpg\" height=\"auto\" width=\"800px\" alt=\"Searching_L14\"></figure><p><br>\n",
    "Therefore, we have a monotonic function on which we can apply binary search to find the correct answer.<br><br>\n",
    "Where low = 1, the minimum possible distance between any two adjacent cows/stalls<br>\n",
    "And high = max-min, the maximum possible distance between any two cows<br><br>\n",
    "We can implement a function to check whether it is possible to put C cows at N stalls for a given ‘d’.<br><br><em>Note: We should allocate the cows in a greedy fashion such that the first stall is always occupied.<br></em><br>\n",
    "Time complexity: O(Nlog(max-min))<br>\n",
    "Space complexity: O(1)</p><p><em>Note: In case you are facing difficulty in finding the low and high, then you can also consider 0 and INT_MAX respectively.&nbsp;</em></p></div></div>"
   ]
  },
  {
   "cell_type": "code",
   "execution_count": 9,
   "id": "ede1a275-e5e0-4ffa-97a1-66e8f6a582eb",
   "metadata": {},
   "outputs": [
    {
     "name": "stdout",
     "output_type": "stream",
     "text": [
      "3\n"
     ]
    }
   ],
   "source": [
    "def lower_bound(nums):\n",
    "    min_val = nums[1] - nums[0]\n",
    "    for i in range(1, len(nums)):\n",
    "        min_val = min(min_val, nums[i] - nums[i - 1])\n",
    "    return min_val\n",
    "\n",
    "def upper_bound(nums):\n",
    "    return nums[-1] - nums[0]\n",
    "\n",
    "def is_possible_to_place_n_cows(nums, k, mid):\n",
    "    count = 1\n",
    "    prev_placed_cow = nums[0]\n",
    "    for i in range(1, len(nums)):\n",
    "        if nums[i] - prev_placed_cow < mid:\n",
    "            continue\n",
    "        else:\n",
    "            count += 1\n",
    "            prev_placed_cow = nums[i]\n",
    "    return count >= k\n",
    "\n",
    "def min_distance_to_place_cows(nums, k):\n",
    "    low = lower_bound(nums)\n",
    "    high = upper_bound(nums)\n",
    "\n",
    "    while low <= high:\n",
    "        mid = (low + high) // 2\n",
    "        can_be_placed = is_possible_to_place_n_cows(nums, k, mid)\n",
    "        if not can_be_placed:\n",
    "            high = mid - 1\n",
    "        else:\n",
    "            if not is_possible_to_place_n_cows(nums, k, mid + 1):\n",
    "                return mid\n",
    "            else:\n",
    "                low = mid + 1\n",
    "\n",
    "if __name__ == \"__main__\":\n",
    "    n = 5\n",
    "    x = [1, 2, 8, 4, 9]\n",
    "    c = 3\n",
    "    if c > n:\n",
    "        print(0)\n",
    "    else:\n",
    "        x.sort()\n",
    "        print(min_distance_to_place_cows(x, c))"
   ]
  },
  {
   "cell_type": "code",
   "execution_count": null,
   "id": "e31c9d2e-63cd-49bc-ac70-9ad413152488",
   "metadata": {},
   "outputs": [],
   "source": []
  },
  {
   "cell_type": "markdown",
   "id": "ed10db8e-cacc-4aa4-b767-65f153dbf3b8",
   "metadata": {},
   "source": [
    "## Allocate the Books\n",
    "<div class=\"subtopic-lecture-notes\"><p>We have been given ‘N’ books containing P[ ] = {P0, P1, P2,.., PN} pages respectively. We have to allocate ‘N’ books to ‘M’ students such that:</p><ul><li>Each student gets at least one book</li><li>All the books should be allotted</li><li>Allotment must be contiguous</li></ul><p>We have to allocate them in such a manner that the maximum number of pages allocated to any student is minimum. Given that no partial allocation of books is allowed.<br><br>\n",
    "Input: N = 4, M = 2, P[4] = {12, 24, 67, 90}<br>\n",
    "Output: 113<br>\n",
    "Explanation: Consider all valid combinations:&nbsp;</p><p>Case 1: S1 = 12 | S2 = (24+67+90) = 191<br>\n",
    "&nbsp;&nbsp;&nbsp;&nbsp;&nbsp;&nbsp;&nbsp;&nbsp;&nbsp;&nbsp;&nbsp;&nbsp;&nbsp;Maximum = 191<br>\n",
    "Case 2: S1 = (12+24) = 36 | S2 = (67+90) = 157<br>\n",
    "&nbsp;&nbsp;&nbsp;&nbsp;&nbsp;&nbsp;&nbsp;&nbsp;&nbsp;&nbsp;&nbsp;&nbsp;&nbsp;Maximum = 157<br>\n",
    "Case 3: S1 = (12+24+67) = 113 | S2 = 90<br>\n",
    "&nbsp;&nbsp;&nbsp;&nbsp;&nbsp;&nbsp;&nbsp;&nbsp;&nbsp;&nbsp;&nbsp;&nbsp;&nbsp;Maximum = 113<br><br>\n",
    "Answer = Minimum(Maximum in Case 1, Case 2, Case 3) = 113&nbsp;</p><p><strong>Approach:</strong> Hint: Focus on the upper bound on the maximum number of pages(d) allocated to any student in a specific configuration.<br>\n",
    "If it is possible to allocate ‘N’ books to ‘M’ students such that the upper bound on the maximum number of pages(d) is 120 then, it is also possible for d&gt;=120.<br><br>\n",
    "Similarly, if it is not possible to allocate ‘N’ books to ‘M’ students for d=95 then, it is also not possible for d&lt;95. &nbsp;<br></p><figure><img src=\"https://i.imgur.com/B2KVS1i.jpg\" height=\"auto\" width=\"800px\" alt=\"Searching_L15\"></figure><p><br>\n",
    "Therefore, we have a monotonic function on which we can apply binary search to find the answer.<br><br>\n",
    "Where low = maximum number of pages a book contains<br>\n",
    "And high = total sum of pages of all the books</p><p>We can implement a function to check whether it is possible to allocate ‘N’ books to ‘M’ students or not, considering the provided constraints.&nbsp;</p><p><em>Note: We should allocate the books in a greedy fashion such that a student gets as many pages as possible, below the upper bound.&nbsp;</em></p><p>Time complexity: O(Nlog((i=0)Σ(i=N-1)(P[i] - max)))<br>\n",
    "Space complexity: O(1)</p><p><em>Note: In the problem statement, we have not been given any relation between N &amp; M. Therefore we have to account for cases where N&lt;M since the allocation is not possible in such a case</em></p></div></div>"
   ]
  },
  {
   "cell_type": "code",
   "execution_count": 10,
   "id": "1af060b2-1cd0-415b-b1be-ef4b5aa5a57e",
   "metadata": {},
   "outputs": [
    {
     "data": {
      "text/plain": [
       "113"
      ]
     },
     "execution_count": 10,
     "metadata": {},
     "output_type": "execute_result"
    }
   ],
   "source": [
    "class AllocateTheBooks:\n",
    "    def findLowerBound(self, pages:list[int])->int:\n",
    "        return max(pages)\n",
    "    \n",
    "    def findUpperBound(self, pages:list[int])->int:\n",
    "        return sum(pages)\n",
    "    \n",
    "    def isPossibleToAllocatePages(self, pages:list[int], mid:int, countStudent:int)->bool:\n",
    "        \n",
    "        sum =0\n",
    "        count= 1\n",
    "        for i in range(len(pages)):\n",
    "            if sum + pages[i] > mid:\n",
    "                count += 1\n",
    "                sum = pages[i]\n",
    "            else:\n",
    "                sum += pages[i]\n",
    "        return count <= countStudent\n",
    "    \n",
    "    def solution(self, pages:list[int], countStudent:int)->int:\n",
    "        low, high = self.findLowerBound(pages), self.findUpperBound(pages)\n",
    "        while low <= high:\n",
    "            mid = int((low+high)/2)\n",
    "            if not self.isPossibleToAllocatePages(pages, mid, countStudent):\n",
    "                low = mid + 1\n",
    "            else:\n",
    "                if not self.isPossibleToAllocatePages(pages, mid-1, countStudent):\n",
    "                    return mid;\n",
    "                else:\n",
    "                    high = mid - 1\n",
    "        return -1\n",
    "\n",
    "obj = AllocateTheBooks()\n",
    "pages = [12, 34, 67, 90]\n",
    "M = 2\n",
    "obj.solution(pages, M)\n",
    "    \n",
    "#obj.isPossibleToAllocatePages(pages, 113, 2)        "
   ]
  },
  {
   "cell_type": "markdown",
   "id": "2035473b-ca52-4518-98b1-eb2d67e1e57b",
   "metadata": {},
   "source": [
    "## Smallest Good Base\n",
    "<div class=\"subtopic-lecture-notes\"><p>We have been given a number ‘N’ and we have to find its smallest good base ‘k’ such that k&gt;=2 and N ∈ [3, 10^18].&nbsp;</p><p>A base is said to be a good base iff all the digits in that base representation are 1.</p><p>Input: 4681<br>\n",
    "Output: 8 ∵ 4681 = (11111)8</p><p><strong>Approach:</strong></p><ul><li>A number ‘N’ can have multiple good bases.<br>\n",
    "Eg. 13 = (111)3 and 13 = (11)12</li><li>1 &amp; N-1 will always be a good base of any number N.<br>\n",
    "N = (11)N-1 = (111111….N times)1</li><li>If we look at the representation of a good base ‘m’ then it will be expressed as:<br>\n",
    "N = (111111….i times)m = 1+m+m2+...+mi-1 &nbsp;(i terms)</li><li>From the above representation, it is clear that if ‘N’ has two good bases ‘k1’ and ‘k2’ with ‘i1’ and ‘i2’ terms respectively. Then for k1&lt;k2, i1&gt;i2. Thus, there is monotonicity on the base if we fix the number of terms ‘i’.</li></ul><figure><img src=\"https://i.imgur.com/guQ2FfU.jpg\" height=\"auto\" width=\"600px\" alt=\"Searching_L16\"></figure><p><br></p><ul><li>Hence we can apply binary search on the number of terms ‘i’ to find if there exists a good base that has ‘i’ terms in the representation of ‘N’ where 2 &lt; = i &lt; 63.<br>\n",
    "(10^18) = Base 2 will have around 63 terms</li><li>In order to find the smallest good base, we should vary ‘i’ from 63 to 2 since the smallest good base will have the greatest number of terms.<br><br>\n",
    "Time complexity: O(63*log2N*63)<br>\n",
    "Space complexity: O(1)</li></ul><p><em>Note: While writing the code you may encounter “Integer overflow” at multiple places. Therefore, use long long datatype and handle summation and multiplication operations carefully.&nbsp;</em></p><p><br><em>Eg. You may get Integer overflow in a situation such as 1+10^10+</em><del><em>10^20</em></del><em> since 10^20 can not be stored in any data type. To counter this, we can keep subtracting the sum from N each time and increase the power of m only when (n-sum)/m^x&gt;m. </em>&nbsp;<br></p></div></div>"
   ]
  },
  {
   "cell_type": "code",
   "execution_count": 28,
   "id": "70e9dddf-3bc3-4e48-a4e3-baa015f8a337",
   "metadata": {},
   "outputs": [
    {
     "data": {
      "text/plain": [
       "8"
      ]
     },
     "execution_count": 28,
     "metadata": {},
     "output_type": "execute_result"
    }
   ],
   "source": [
    "class SmallestGoodBase:\n",
    "    def solution(self, n:int)->int:\n",
    "        for i in range(63, 0, -1):\n",
    "            low, high = 2, n-1\n",
    "            while low <= high:\n",
    "                mid = int((low+high)/2)\n",
    "                val = 0\n",
    "                flag = False\n",
    "                x = 1\n",
    "                for j in range(i+1):\n",
    "                    val += x\n",
    "                    if val >= n:\n",
    "                        break\n",
    "                    if j < i and (n - val)/x < mid:\n",
    "                        flag = True\n",
    "                        break\n",
    "                    if j < i:\n",
    "                        x *= mid\n",
    "                if val > n or flag == True:\n",
    "                    high = mid - 1\n",
    "                elif val < n:\n",
    "                    low = mid + 1\n",
    "                else:\n",
    "                    return mid\n",
    "            \n",
    "obj = SmallestGoodBase()\n",
    "N = 4681\n",
    "obj.solution(N)"
   ]
  }
 ],
 "metadata": {
  "kernelspec": {
   "display_name": "Python 3 (ipykernel)",
   "language": "python",
   "name": "python3"
  },
  "language_info": {
   "codemirror_mode": {
    "name": "ipython",
    "version": 3
   },
   "file_extension": ".py",
   "mimetype": "text/x-python",
   "name": "python",
   "nbconvert_exporter": "python",
   "pygments_lexer": "ipython3",
   "version": "3.10.9"
  }
 },
 "nbformat": 4,
 "nbformat_minor": 5
}
