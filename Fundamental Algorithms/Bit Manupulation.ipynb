{
 "cells": [
  {
   "cell_type": "markdown",
   "id": "b55d8ab8-4c91-4cda-888a-bf31fe05547e",
   "metadata": {},
   "source": [
    "## Bitwise Operators-1\n",
    "<div class=\"subtopic-lecture-notes\"><p>A computer understands and stores information only in the form of Bits. Therefore, we have operators that allow us to work on the level of bits, called as Bitwise operators.<br></p><p><strong>Bitwise AND (&amp;) </strong>-<strong> </strong>This operator takes two numbers as operands and does AND for corresponding bits of the two numbers. &nbsp;</p><p>Eg. 5 &amp; 3 = (101)2 &amp; (011)2 = (001)2 = 1</p><ul><li>b1 &amp; b2 = 1, if b1=b2=1</li></ul><p>&nbsp;&nbsp;&nbsp;&nbsp;&nbsp;&nbsp;&nbsp;&nbsp;&nbsp;&nbsp;&nbsp;&nbsp;&nbsp;&nbsp;&nbsp;&nbsp;&nbsp;&nbsp;&nbsp;&nbsp;= 0, otherwise</p><ul><li>Bitwise AND of any number x with 0 is 0 itself<br>\n",
    "x &amp; 0 = 0<br></li></ul><p><strong>Bitwise OR (|) </strong>- This operator takes two numbers as operands and does OR for corresponding bits of the two numbers.&nbsp;</p><p>Eg. &nbsp;5 | 3 = (101)2 | (011)2 = (111)2 = 7</p><ul><li>b1 | b2 = 1, if b1=1 or b2=1</li></ul><p>&nbsp;&nbsp;&nbsp;&nbsp;&nbsp;&nbsp;&nbsp;&nbsp;&nbsp;&nbsp;&nbsp;&nbsp;&nbsp;&nbsp;&nbsp;&nbsp;&nbsp;&nbsp;= 0, otherwise</p><ul><li>Bitwise OR of any bit with 1 is 1<br>\n",
    "b1 | 1 = 1<br></li></ul><p><strong>Bitwise XOR (^) </strong>- This operator takes two numbers as operands and does XOR for corresponding bits of the two numbers.<br></p><ul><li>b1 ^ b2 = 1, if b1≠b2</li></ul><p>&nbsp;&nbsp;&nbsp;&nbsp;&nbsp;&nbsp;&nbsp;&nbsp;&nbsp;&nbsp;&nbsp;&nbsp;&nbsp;&nbsp;&nbsp;&nbsp;&nbsp;&nbsp;&nbsp;= 0, otherwise</p><ul><li>Bitwise XOR of a number with itself is equal to zero.<br>\n",
    "x ^ x = 0<br></li><li>Bitwise XOR of a number with zero is the number itself.<br>\n",
    "0 ^ x = x</li></ul><p><em>Note: All the above bitwise operators follow the rule of Associativity.&nbsp;</em></p></div></div>"
   ]
  },
  {
   "cell_type": "code",
   "execution_count": 7,
   "id": "655e1914-32f5-432b-8ddc-1f296f059cb8",
   "metadata": {},
   "outputs": [
    {
     "name": "stdout",
     "output_type": "stream",
     "text": [
      "Bitwsise AND: 7\n",
      "Bitwise OR: 15\n",
      "Bitwise XoR: 8\n"
     ]
    }
   ],
   "source": [
    "print(\"Bitwsise AND:\", 15 & 7)\n",
    "print(\"Bitwise OR:\", 15 | 7)\n",
    "print(\"Bitwise XoR:\", 15 ^ 7)"
   ]
  },
  {
   "cell_type": "markdown",
   "id": "0ab7169d-31c1-4706-a8fc-97b02ebe0de6",
   "metadata": {},
   "source": [
    "## Bitwise Operators-2\n",
    "<div class=\"subtopic-lecture-notes\"><p><strong>Left Shift (&lt;&lt;) </strong>- This operator takes two numbers and left shifts the bits of the first operand by ‘x’ places, where ‘x’ is the second operand.&nbsp;</p><p>Eg. (5&lt;&lt;2) = 20<br></p><p>For left shift, (num&lt;&lt;x) =&gt; num = num*(2^k)<br></p><p><em><strong>Integer Overflow</strong></em><em> - Ensure that there is no integer overflow while using the bitwise left shift operator.&nbsp;</em></p><p><em>Eg. int x = (1&lt;&lt;31), it can lead to integer overflow (2^</em><em>31</em> <em>is out of integer range)&nbsp;</em></p><p><em>long int x = (1&lt;&lt;31), it will lead to integer overflow, since the RHS value is still an integer.&nbsp;</em></p><p><em>long int x = (1L&lt;&lt;31), it will work fine.</em><br></p><p><strong>Right Shift (&gt;&gt;) </strong>- This operator takes two numbers and right shifts the bits of the first operand by ‘x’ places where ‘x’ is decided by the second operand.&nbsp;</p><p>Eg. (10&gt;&gt;2) = 2 <br></p><p>In right shift, (num&gt;&gt;x) =&gt; num = num/2k<br></p><p>&nbsp;<em>Note:&nbsp;</em></p><ul><li><em>Bitwise operators are faster as compared to other operators as they work on a bit level, and hence, they are closer to the system.<br></em></li><li><em>Bitwise operators have lower precedence order, therefore enclose them with parentheses, so that the expressions give rightful results. </em><br><em>Eg. int x = 2 + 3&lt;&lt;1; </em>&nbsp;&nbsp;<em>o/p = 10</em> <em>&nbsp;&nbsp;&nbsp;&nbsp;&nbsp;&nbsp;<br>\n",
    " &nbsp;&nbsp;&nbsp;&nbsp;&nbsp;int x = 2 + (3&lt;&lt;1); </em>&nbsp;<em>o/p = 8</em>&nbsp;</li></ul></div></div>"
   ]
  },
  {
   "cell_type": "code",
   "execution_count": 10,
   "id": "9c017eb9-21d5-490a-83a9-651dbf13fd7e",
   "metadata": {},
   "outputs": [
    {
     "name": "stdout",
     "output_type": "stream",
     "text": [
      "Bitwise Left Shift: 10\n",
      "Bitwise Right Shift: 5\n"
     ]
    }
   ],
   "source": [
    "print(\"Bitwise Left Shift:\", 5 << 1)\n",
    "print(\"Bitwise Right Shift:\", 10 >> 1)"
   ]
  },
  {
   "cell_type": "markdown",
   "id": "35e60f7e-1e01-4146-803f-40f5b9779cce",
   "metadata": {},
   "source": [
    "## Using Bitwise Operators\n",
    "<div class=\"subtopic-lecture-notes\"><p>In this lecture, we will learn how to use bitwise operators for some trivial tasks. <br></p><ul><li><strong>How to check if a number is Odd or Even: </strong><br>\n",
    "Since we know that all the powers of 2 (except 2^0) is even. Thus all the odd numbers will have 1 (2^0) as their least significant bit.<br><br><code><em>if(x&amp;1){</em></code><code><em><br></em></code><code><em>cout&lt;&lt;”odd”;</em></code><code><em><br></em></code><code><em>}<br></em></code><code>else{<br>\n",
    " &nbsp;&nbsp;&nbsp;cout&lt;&lt;”even”;</code><code><br></code><code>}</code><br><br></li><li><strong>How to check if the i-th bit of a number is 1/0, set/unset or ON/OFF: </strong><br>\n",
    "Since, (1&amp;x) = x, therefore, we can find a mask to check the i-th bit. <br>\n",
    "Eg. num = 1 0 1 1 <strong>0</strong> 0 1<br>\n",
    " &amp; mask = <u>0 0 0 0</u> <strong>1</strong> <u>0 0</u> <br>\n",
    "—--------------------------------<br>\n",
    " &nbsp;&nbsp;&nbsp;&nbsp;&nbsp;&nbsp;&nbsp;&nbsp;&nbsp;&nbsp;&nbsp;&nbsp;&nbsp;&nbsp;= 0 0 0 0 <strong>0</strong> 0 0 <br>\n",
    "Therefore, the 3rd bit here is 0. <br>\n",
    "Where mask = (1&lt;&lt;i)<br><br></li><li><strong>Is NUM a power of 2:</strong><br>\n",
    "If we carefully observe the powers of 2:<br>\n",
    "1 = 1 &nbsp;&nbsp;&nbsp;&nbsp;&nbsp;&nbsp;&nbsp;&nbsp;&nbsp;&nbsp;&nbsp;&nbsp;&nbsp;&nbsp;&nbsp;&nbsp;| &nbsp;0 = 0<br>\n",
    "2 = 10 &nbsp;&nbsp;&nbsp;&nbsp;&nbsp;&nbsp;&nbsp;&nbsp;&nbsp;&nbsp;&nbsp;&nbsp;&nbsp;| &nbsp;1 = 01<br>\n",
    "4 = 100 &nbsp;&nbsp;&nbsp;&nbsp;&nbsp;&nbsp;&nbsp;&nbsp;&nbsp;&nbsp;| &nbsp;3 = 011<br>\n",
    "8 = 1000 &nbsp;&nbsp;&nbsp;&nbsp;&nbsp;&nbsp;&nbsp;&nbsp;| &nbsp;7 = 0111<br>\n",
    "16 = 10000 &nbsp;&nbsp;&nbsp;&nbsp;| &nbsp;15 = 01111<br><br>\n",
    "Here, (N &amp; (N-1)) = 0, which is true for all the powers of 2. Thus we can check the value of bitwise AND of N and N-1. If it is zero, then N is a power of 2. <br><br><em>Note: We may have N&lt;0, in such cases it is important to have a check on N. </em>&nbsp;</li></ul></div></div>"
   ]
  },
  {
   "cell_type": "code",
   "execution_count": 16,
   "id": "f77ec338-313f-4e7f-84cd-2e398db069dd",
   "metadata": {},
   "outputs": [
    {
     "name": "stdout",
     "output_type": "stream",
     "text": [
      "Even\n",
      "0\n"
     ]
    }
   ],
   "source": [
    "def evenOrOdd(num:int):\n",
    "    if num & 1:\n",
    "        print(\"Odd\")\n",
    "    else:\n",
    "        print(\"Even\")   \n",
    "evenOrOdd(6)\n",
    "\n",
    "\n",
    "def ithBitisSetorUnset(num:int, i:int):\n",
    "    mask = 1 << i-1\n",
    "    if num & mask:\n",
    "        print(\"1\")\n",
    "    else:\n",
    "        print(\"0\")\n",
    "\n",
    "ithBitisSetorUnset(89, 3)  "
   ]
  },
  {
   "cell_type": "markdown",
   "id": "8f621320-d8dd-42f9-9dec-5fee26f80957",
   "metadata": {},
   "source": [
    "## Count of set bits\n",
    "<div class=\"subtopic-lecture-notes\"><p>Find the number of set bits in a given integer N.<br></p><p><u>Input</u>: N = 14</p><p><u>Output</u>: 3 &nbsp;&nbsp;&nbsp;&nbsp;&nbsp;(14 = (100101)2)<br><br><strong>Approach:</strong><br></p><ol><li>We can use a mask for every bit and respectively calculate the number of set and unset bits.<br>\n",
    "Time complexity: <strong>O(|32|)</strong><br>\n",
    "Space complexity: <strong>O(1)</strong><br><em>Note: Avoid the cases of integer overflow while creating the mask.<br></em><br></li><li>If you observe the bitwise AND operation between N &amp; N-1, then in every such operation we lose a 1 from the binary representation of N. Thus, we can carry out multiple such operations until N becomes zero.<br>\n",
    "Eventually, the number of bitwise AND operations will be the answer. &nbsp;<br></li></ol><figure><img src=\"https://i.imgur.com/1ieUsbJ.jpg\" height=\"auto\" width=\"700px\" alt=\"Count of set bits\"></figure><p><br>\n",
    "Time complexity: <strong>O(num_of_bits)</strong><br>\n",
    "Space complexity: <strong>O(1)&nbsp;</strong></p></div></div>"
   ]
  },
  {
   "cell_type": "code",
   "execution_count": 20,
   "id": "260103f7-2210-4afe-bf37-ec5c21e421a2",
   "metadata": {},
   "outputs": [
    {
     "data": {
      "text/plain": [
       "3"
      ]
     },
     "execution_count": 20,
     "metadata": {},
     "output_type": "execute_result"
    }
   ],
   "source": [
    "def countSetBit(num:int)->int:\n",
    "    count = 0\n",
    "    while num:\n",
    "        num = (num & (num-1))\n",
    "        count += 1\n",
    "    return count\n",
    "\n",
    "countSetBit(14)"
   ]
  },
  {
   "cell_type": "markdown",
   "id": "caf806d4-8889-4b61-8f97-36c38645f81d",
   "metadata": {},
   "source": [
    "## Cumulative Bitwise AND\n",
    "<div class=\"subtopic-lecture-notes\"><p>We have been given two integers <em>l</em> and <em>r</em>. Find the bitwise AND of all the numbers from left to right.<br></p><p><u>Input</u>: l=8, r=11</p><p><u>Output</u>: 8<br></p><p><strong>Approach:<br></strong></p><ol><li><strong>Brute Force </strong>- Calculate the bitwise AND of all the elements between l &amp; r one by one.<br>\n",
    "Time complexity: <strong>O(r-l)</strong><br><br></li><li><strong>Think at the level of bits and try to observe some pattern.<br></strong>Since we know that l&lt;r, therefore the bit at bit position bi (from left) in r will be greater than or equal to that in l. After the first point of difference in the bit position of l and r, the bits in the resultant answer will automatically become zero. See the examples below.<br></li></ol><figure><img src=\"https://i.imgur.com/H2m6CE1.jpg\" height=\"auto\" width=\"700px\" alt=\"Cumulative bitwise AND\"></figure><p><br>\n",
    "You can validate it with the help of a few more examples. For implementing it, we can create a mask to find the first point of difference and consequently the final answer.<br>\n",
    "Time complexity: <strong>O(|32|)</strong></p></div></div>"
   ]
  },
  {
   "cell_type": "code",
   "execution_count": 23,
   "id": "91eabf89-a9fd-4a71-9553-f250b52b34e3",
   "metadata": {},
   "outputs": [
    {
     "data": {
      "text/plain": [
       "8"
      ]
     },
     "execution_count": 23,
     "metadata": {},
     "output_type": "execute_result"
    }
   ],
   "source": [
    "def bitwiseAnd(left:int, right:int)->int:\n",
    "    mask = (1 << 31)\n",
    "    ans = 0\n",
    "    while mask:\n",
    "        if ((mask & left) == (mask & right)):\n",
    "            if mask & left:\n",
    "                ans += mask\n",
    "            mask = mask >> 1\n",
    "        else:\n",
    "            break\n",
    "    return ans\n",
    "\n",
    "bitwiseAnd(8, 11)      "
   ]
  },
  {
   "cell_type": "markdown",
   "id": "fe491931-d580-4cf5-be75-e320c72af09a",
   "metadata": {},
   "source": [
    "## Detecting odd one out\n",
    "\n",
    "<div class=\"subtopic-lecture-notes\"><p>We have been given an integer array Arr[N] containing elements appearing for even number of times, except one such element. Find that element.<br></p><p><u>Input</u>: Arr[ ] = {4, 11, 4, 7, 9, 7, 11}</p><p><u>Output</u>: 9<br></p><p><strong>Approach:<br></strong></p><ol><li>We can sort the elements and check which element is appearing once by traversing the array linearly.<br>\n",
    "Time complexity: <strong>O(NlogN)<br></strong><br></li><li><strong>Bit Manipulation </strong>- Since we know that x^x = 0, therefore we can take the XOR of all the array elements and the final answer will be the required element which is appearing once.<br>\n",
    "Time complexity: <strong>O(N)</strong><br></li></ol><p>Q. We have been given an integer array Arr[N] where every number comes thrice and one element appears once. Find that element.<br></p><p><strong>Approach:<br></strong></p><ol><li>We can sort the elements and check which element is appearing once by traversing the array linearly.<br><br></li><li><strong>Think at the level of bits and try to observe some pattern.</strong><br>\n",
    "Let’s take an example of an array containing only the elements that are appearing thrice.<br>\n",
    "Arr[ ] = {11, 3, 10, 11, 11, 3, 3, 10, 10}<br></li></ol><figure><img src=\"https://i.imgur.com/eH9nsf3.png\" height=\"auto\" width=\"700px\" alt=\"Detecting odd one out\"></figure><p><br>\n",
    "As you can see the count of the set bits of all the array elements is a multiple of 3. But, if we include an element that is appearing only once, then the count will get disturbed.<br><br>\n",
    "Hence, we can find the bit positions whose total count for set bits is not a multiple of 3, signifying the set bits for our answer variable.<br>\n",
    "Time complexity: <strong>O(N)&nbsp;</strong></p></div></div>"
   ]
  },
  {
   "cell_type": "code",
   "execution_count": 15,
   "id": "95655298-47d2-433d-88e4-650869a57675",
   "metadata": {},
   "outputs": [
    {
     "name": "stdout",
     "output_type": "stream",
     "text": [
      "Element which occured ones: 9\n",
      "Element which occurs only once in thrice pair: 8\n"
     ]
    }
   ],
   "source": [
    "# when the freq of element is even just take XoR \n",
    "\n",
    "def findOdd1(nums:list[int])->int:\n",
    "    ans = nums[0]\n",
    "    for i in range(1, len(nums)):\n",
    "        ans ^= nums[i]\n",
    "    return ans\n",
    "\n",
    "def findOdd2(nums:list[int])->int:\n",
    "    mask = (1 << 31)\n",
    "    ans = 0;\n",
    "    for i in range(31, -1, -1):\n",
    "        count = 0\n",
    "        for j in range(len(nums)):\n",
    "            if (mask & nums[j]):\n",
    "                count += 1\n",
    "        if count % 3 != 0:\n",
    "            ans += mask\n",
    "        mask >>= 1\n",
    "    return ans\n",
    "            \n",
    "nums = [4, 11, 4, 7, 9, 7, 11]\n",
    "print(\"Element which occured ones:\", findOdd1(nums))\n",
    "\n",
    "nums1 = [11, 3, 10, 11, 11, 3, 3, 10, 10, 8]\n",
    "print(\"Element which occurs only once in thrice pair:\", findOdd2(nums1))\n",
    "        \n",
    "    "
   ]
  },
  {
   "cell_type": "markdown",
   "id": "9e4ad774-6f87-4322-8628-d7117a0e7a99",
   "metadata": {},
   "source": [
    "## Hamming Distances\n",
    "\n",
    "<div class=\"subtopic-lecture-notes\"><p>Hamming Distance is computed between two integers a and b. It is the total number of corresponding bits that are different in the binary representation of a and b.<br><br>\n",
    "For a = 4, b=17<br>\n",
    "Hamming Distance (4, 17) = 3<br></p><p>Q. We have been given an integer array Arr[N] containing non-negative numbers. Find the sum of hamming distances between all pairs.<br></p><p><u>Input</u>: Arr[3] = {4, 5, 2}</p><p><u>Output</u>: 6 &nbsp;&nbsp;&nbsp;&nbsp;HD(4, 5) + HD(4, 2) + HD(5, 2) = 6<br></p><p><strong>Approach:<br></strong></p><ol><li>We can find all the pairs and use bitmask to check and compare the bits to calculate the Hamming distance.<br>\n",
    "Time complexity: <strong>O(N^2)</strong><br><br></li><li><strong>Reverse Lookup </strong>- Instead of finding the contribution of pairs, how about finding the contribution of a particular bit position?<br>\n",
    "Eg. Arr[ ] = {4, 5, 2}<br></li></ol><figure><img src=\"https://i.imgur.com/LHqUZtp.jpg\" height=\"auto\" width=\"700px\" alt=\"Reverse Lookup\"></figure><p><br>\n",
    "We can find the number of set and unset bits for all different bit positions and use the Rule of Product to find the sum of all the hamming distances.<br>\n",
    "Time complexity: <strong>O(|32|)&nbsp;</strong></p></div></div>"
   ]
  },
  {
   "cell_type": "code",
   "execution_count": 19,
   "id": "f6b70545-6740-47b5-b026-5c23ce40bee5",
   "metadata": {},
   "outputs": [
    {
     "data": {
      "text/plain": [
       "6"
      ]
     },
     "execution_count": 19,
     "metadata": {},
     "output_type": "execute_result"
    }
   ],
   "source": [
    "class HammingDistance:\n",
    "    def reverseLookupSolution(self, nums:list[int])->int:\n",
    "        n = len(nums)\n",
    "        mask = 1 << 31\n",
    "        ans = 0\n",
    "        for i in range(31, -1, -1):\n",
    "            count = 0\n",
    "            for j in range(n):\n",
    "                if mask & nums[j]:\n",
    "                    count += 1\n",
    "            ans += count *(n - count)\n",
    "            mask >>= 1\n",
    "        return ans\n",
    "                \n",
    "obj = HammingDistance()\n",
    "nums = [4, 5, 2]\n",
    "obj.reverseLookupSolution(nums)"
   ]
  },
  {
   "cell_type": "markdown",
   "id": "2d598ee0-e617-4654-b642-f49623b8d2dc",
   "metadata": {},
   "source": [
    "## Bitwise OR of subarrays\n",
    "<div class=\"subtopic-lecture-notes\"><p>We have been given an integer array Arr[N]. Find the bitwise OR of all its subarrays.<br></p><p><u>Input</u>: Arr[3] = {2, 1, 4}</p><p><u>Output</u>: 22<br></p><p><u>Explanation</u>: Subarray -<br>\n",
    "[2] = 2</p><p>[2, 1] = 2|1 = 3</p><p>[2, 1, 4] = 2|1|4 = 7</p><p>[1] = 1</p><p>[1, 4] = 5</p><p>[4] = 4</p><p>Sum = 2+3+7+1+5+4 = 22<br></p><p><strong>Approach:<br></strong></p><ol><li><strong>Brute Force </strong>- Create nested “for” loops to find all the subarrays and their respective bitwise OR values.<br>\n",
    "Time complexity: <strong>O(N^2)<br></strong></li><li><strong>Reverse Lookup: </strong>We can look at the level of bits and calculate the contribution due to a particular bit position bi. In the below example, we have taken the contribution at the level of b4.<br></li></ol><figure><img src=\"https://i.imgur.com/KPiNsw7.jpg\" height=\"auto\" width=\"800px\" alt=\"Bitwise OR of subarrays\"></figure><p><br></p><ol><li>We create initialise a variable next=N containing the index of the element with set bit at bit position bi.</li><li>We can then iterate from the end of the array and change the value of “next” as the nearest such element.</li><li>Total number of subarrays starting from index ‘j’ and containing set bit at position bi = N-j.</li><li>Total contribution of bi = 2i*(sum of subarrays containing set bit at bit position bi) &nbsp;&nbsp;&nbsp;<br><br>\n",
    "Time complexity: <strong>O(N)</strong></li></ol></div></div>"
   ]
  },
  {
   "cell_type": "code",
   "execution_count": 32,
   "id": "aecf0501-8304-4c7e-bf75-6424a9b08bc5",
   "metadata": {},
   "outputs": [
    {
     "ename": "SyntaxError",
     "evalue": "invalid syntax (1457264777.py, line 1)",
     "output_type": "error",
     "traceback": [
      "\u001b[1;36m  Cell \u001b[1;32mIn[32], line 1\u001b[1;36m\u001b[0m\n\u001b[1;33m    Wrong Wrong\u001b[0m\n\u001b[1;37m          ^\u001b[0m\n\u001b[1;31mSyntaxError\u001b[0m\u001b[1;31m:\u001b[0m invalid syntax\n"
     ]
    }
   ],
   "source": [
    "Wrong Wrong \n",
    "class BitwiseOROfSubArray:  \n",
    "    def brute_foce(self, nums:list[int])->int:\n",
    "        ans = 0\n",
    "        for i in range(len(nums)):\n",
    "            curr = 0\n",
    "            for j in range(i, len(nums)):\n",
    "                curr |= nums[j]\n",
    "                ans += curr  \n",
    "        return ans\n",
    "    \n",
    "    def solution(self, nums:list[int])->int:\n",
    "        mask = 1 << 31\n",
    "        ans = 0\n",
    "        n = len(nums)\n",
    "        \n",
    "        for i in range(31, -1, -1):\n",
    "            next = n;\n",
    "            for j in range(n-1, -1, -1):\n",
    "                if mask & nums[j]:\n",
    "                    next = j;\n",
    "            ans += ((n -next)*mask);\n",
    "            \n",
    "            mask >>= 1\n",
    "            \n",
    "        return ans\n",
    "\n",
    "obj = BitwiseOROfSubArray()\n",
    "#nums = [2, 1, 4]\n",
    "nums = [1, 2, 3, 4, 5] # 71\n",
    "nums = [99999, 99999, 99999, 99999, 99999]\n",
    "obj.brute_foce(nums)\n",
    "#obj.solution(nums)\n",
    "                "
   ]
  },
  {
   "cell_type": "markdown",
   "id": "fe689913-a623-4c64-a610-18d21be6b711",
   "metadata": {},
   "source": [
    "## Finding Minimum XOR\n",
    "<div class=\"subtopic-lecture-notes\"><p>We have been given an integer array Arr[N]. Find the minimum value of Arr[i]^Arr[j], i≠j. <br></p><p><strong>Approach: </strong><br></p><ol><li><strong>Brute Force </strong>- Create a nested loop to consider all such pairs and find the minimum value of Arr[i]^Arr[j] accordingly. <br>\n",
    "Time complexity: <strong>O(N^</strong><strong>2</strong><strong>)</strong><br><em>Note: Initialise the answer variable with 0, since 0^x = x</em> <br><br></li><li>For a sorted array, the answer will always &nbsp;be the XOR of adjacent pairs. <br>\n",
    "Proof: Let us consider three elements a, b, c such that a&lt;=b&lt;=c. <br>\n",
    "Then smallest: a = 0 1 0 <strong>0</strong>…..<br>\n",
    " &nbsp;&nbsp;&nbsp;&nbsp;&nbsp;&nbsp;&nbsp;&nbsp;&nbsp;&nbsp;&nbsp;&nbsp;&nbsp;&nbsp;&nbsp;&nbsp;&nbsp;&nbsp;&nbsp;&nbsp;&nbsp;&nbsp;&nbsp;&nbsp;&nbsp;b = 0 1 0 <strong>0/1</strong>…<br>\n",
    " &nbsp;&nbsp;&nbsp;&nbsp;&nbsp;&nbsp;&nbsp;&nbsp;&nbsp;&nbsp;&nbsp;&nbsp;&nbsp;&nbsp;&nbsp;&nbsp;&nbsp;&nbsp;&nbsp;&nbsp;&nbsp;&nbsp;&nbsp;&nbsp;&nbsp;c = 0 1 0 <strong>1</strong>…<br><br>\n",
    "In such a case the highlighted bit of b can be either 0 or 1. Let us investigate both the cases, one by one. <br>\n",
    "When highlighted bit = 0, then &nbsp;a^b = 0, b^c = 1, a^c = 1<br>\n",
    "Similarly, when highlighted bit = 1, then a^b = 1, b^c = 0, a^c = 1<br><br>\n",
    "Thus, it is clear from the above example that the answer will always come from the adjacent pairs in a sorted array. The above proof can also be extended to cases with more than three elements. <br><br>\n",
    "Time complexity: <strong>O(NlogN)</strong><strong>&nbsp;</strong></li></ol></div></div>"
   ]
  },
  {
   "cell_type": "code",
   "execution_count": 52,
   "id": "8cdc26ed-eb14-4462-981f-04cc7a4e56ef",
   "metadata": {},
   "outputs": [
    {
     "name": "stdout",
     "output_type": "stream",
     "text": [
      "1\n",
      "1\n"
     ]
    }
   ],
   "source": [
    "class MinimumXOR:\n",
    "    def brute_foce(self, nums:list[int])->int:\n",
    "        ans = 1e9\n",
    "        for i in range(len(nums)):\n",
    "            for j in range(i+1, len(nums)):\n",
    "                ans = min(ans, nums[i] ^ nums[j])\n",
    "        return ans\n",
    "    \n",
    "    def sortedSolution(self, nums:list[int])->int:\n",
    "        nums.sort()\n",
    "        ans = 1e9\n",
    "        for i in range(1, len(nums)):\n",
    "            ans = min(ans, nums[i-1]^ nums[i])\n",
    "        return ans\n",
    "obj = MinimumXOR()\n",
    "nums = [0, 4, 2, 6, 7]\n",
    "print(obj.brute_foce(nums))\n",
    "print(obj.sortedSolution(nums))"
   ]
  },
  {
   "cell_type": "markdown",
   "id": "a1555d7f-a41a-4901-ade0-2f62307ec513",
   "metadata": {},
   "source": [
    "## Multiple XOR queries\n",
    "<div class=\"subtopic-lecture-notes\"><p>We have been given an integer array Arr[N] and we have to process Q queries of the form [i, j]. For every query we have to find the XOR of elements from index i to j. <br><br><strong>Approach:</strong><br></p><ol><li><strong>Brute Force </strong>- Scan the array linearly to calculate the XOR for each query individually.<br>\n",
    "Time complexity: O(N*IQ)<br><br></li><li><strong>Precomputation/Calculating prefix XOR</strong>- Since we know that:\n",
    "    <ol><li>x^x = 0</li><li>0^x = x<br><br>\n",
    "Therefore, we can calculate Prefix XOR till index i, then we can easily answer the XOR for any query within O(1) time = PXOR[j]-PXOR[i-1] (where i&gt;0)<br>\n",
    "Time complexity: <strong>O(N+Q)</strong><br></li></ol></li></ol></div></div>"
   ]
  },
  {
   "cell_type": "code",
   "execution_count": 69,
   "id": "093294c3-a8a8-40ce-b00e-8d7d040dd5d7",
   "metadata": {},
   "outputs": [
    {
     "name": "stdout",
     "output_type": "stream",
     "text": [
      "5\n",
      "6\n",
      "5\n",
      "6\n"
     ]
    }
   ],
   "source": [
    "class MultipleXORQueries:\n",
    "    def brute_force(self, queries:list[list[int]], nums:list[int])->None:\n",
    "        \n",
    "        for q in queries:\n",
    "            l = q[0]\n",
    "            r = q[1]\n",
    "            ans = 0\n",
    "            for j in range(l, r+1):\n",
    "                ans ^= nums[j]\n",
    "            print(ans)\n",
    "    \n",
    "    def preComputation(self, queries:list[list[int]], nums:list[int])->None:\n",
    "        prefixXor = [0]*len(nums)\n",
    "        \n",
    "        prefixXor[0] = nums[0]\n",
    "        for i in range(1, len(nums)):\n",
    "            prefixXor[i] = prefixXor[i-1] ^ nums[i]\n",
    "        \n",
    "        for q in queries:\n",
    "            l = q[0]\n",
    "            r = q[1]\n",
    "            if l == 0:\n",
    "                print(prefixXor[l])\n",
    "            else:\n",
    "                print(prefixXor[r] ^ prefixXor[l-1])\n",
    "                \n",
    "obj = MultipleXORQueries()\n",
    "queries = [\n",
    "    [1, 3],\n",
    "    [2, 2],\n",
    "]\n",
    "nums = [5, 1, 6, 2]\n",
    "obj.brute_force(queries, nums)\n",
    "obj.preComputation(queries, nums)"
   ]
  },
  {
   "cell_type": "markdown",
   "id": "041b830c-39a0-4e4e-981a-5f49d2bb53fc",
   "metadata": {},
   "source": [
    "## Pair with given XOR\n",
    "<div class=\"subtopic-lecture-notes\"><p>We have been given an integer array Arr[N] and an integer k. We have to check if there is a pair (Arr[i], Arr[j]) such that Arr[i]^Arr[j]=k. <br></p><p><u>Input</u>: Arr[5] = {7, 10, 3, 5, 9}, k=15</p><p><u>Output</u>: True<br></p><p><strong>Approach:</strong><strong> <br></strong></p><ol><li><strong>Brute Force </strong>- We can create two nested loops to individually check the XOR of all the pairs and see if such a pair exists or not. <br>\n",
    "Time complexity: <strong>O(N^</strong><strong>2</strong><strong>)</strong><br><br></li><li>If we take XOR of both LHS and RHS then we get, Arr[j] = Arr[i]^k. <br>\n",
    "Therefore, We can fix one of the elements and search for the other one in the array. To make the process more efficient, we can sort the array and use binary search. <br>\n",
    "Time complexity: <strong>O(NlogN)</strong>&nbsp;</li></ol></div></div>"
   ]
  },
  {
   "cell_type": "code",
   "execution_count": 85,
   "id": "049d0522-b4c6-45c8-8673-bafc34fe7878",
   "metadata": {},
   "outputs": [
    {
     "name": "stdout",
     "output_type": "stream",
     "text": [
      "True\n"
     ]
    },
    {
     "data": {
      "text/plain": [
       "True"
      ]
     },
     "execution_count": 85,
     "metadata": {},
     "output_type": "execute_result"
    }
   ],
   "source": [
    "class PairWithXOR:\n",
    "    def brute_force(self, nums:list[int], k:int)->bool:\n",
    "        for i in range(len(nums)):\n",
    "            for j in range(i+1, len(nums)):\n",
    "                if (nums[i] ^ nums[j]) == k:\n",
    "                    return True\n",
    "        return False\n",
    "    \n",
    "    # helper function for binary search\n",
    "    def binary_search(self, l:int, h:int, nums:list[int], target:int)->bool:\n",
    "        low, high = l, h\n",
    "        while low <= high:\n",
    "            mid = int((low+high)/2)\n",
    "            if nums[mid] == target:\n",
    "                return True\n",
    "            if nums[mid] < target:\n",
    "                low = mid + 1\n",
    "            else:\n",
    "                high = mid -1;\n",
    "        return False\n",
    "            \n",
    "    def using_binary_search(self, nums:list[int], k:int)->bool:\n",
    "        nums.sort()\n",
    "        for i in range(len(nums)):\n",
    "            if self.binary_search(i+1, len(nums)-1, nums, nums[i]^k):\n",
    "                return True\n",
    "        return False\n",
    "\n",
    "obj = PairWithXOR()\n",
    "nums = [7, 10, 3, 5, 2, 9]\n",
    "k = 15\n",
    "print(obj.brute_force(nums, k))\n",
    "obj.using_binary_search(nums, k)    "
   ]
  },
  {
   "cell_type": "markdown",
   "id": "6eec62ba-1a6b-435e-91e1-1fd86ece23ee",
   "metadata": {},
   "source": [
    "## Find Two Elements\n",
    "<div class=\"subtopic-lecture-notes\"><p>We have been given an integer array Arr[N] where every element comes twice except two elements which come only once. Find the two elements n1 &amp; n2. <br></p><p><u>Input</u>: Arr[8] = {4, 7, 9, 7, 5, 4, 3, 3}<br><u>Output</u>: &nbsp;9, 5<br></p><p><strong>Approach:</strong><br></p><ol><li>We can sort and linearly traverse the array to find the elements that are appearing only once. <br>\n",
    "Time complexity: <strong>O(NlogN)</strong><br><br></li><li><strong>What will happen if we take XOR of all the elements?<br></strong><br>\n",
    "For the given input example, it will be 0^5^9 = 10 &nbsp;(1100)2<br><br>\n",
    "Now if we closely analyse, the output then we can certainly say that the bits at b3 and b2 are different in n1 and n2. <br>\n",
    "WIth the help of this fact, we can use categorisation, that is by categorising the elements with set and unset bits and then take their XOR separately. Now, since we know n1 &amp; n2 have different bits for that bit position, therefore they will be in different categories. <br><br>\n",
    "Category 1: n1^x^x^y^y^z^z = n1<br>\n",
    "Category 2: n2^p^p = n2<br><br>\n",
    "Time complexity: <strong>O(N)</strong><strong>&nbsp;</strong></li></ol></div></div>"
   ]
  },
  {
   "cell_type": "code",
   "execution_count": 3,
   "id": "06314bad-f7ed-4fb4-a895-9bc379ddc67a",
   "metadata": {},
   "outputs": [
    {
     "data": {
      "text/plain": [
       "[5, 9]"
      ]
     },
     "execution_count": 3,
     "metadata": {},
     "output_type": "execute_result"
    }
   ],
   "source": [
    "class FindTwoElements:\n",
    "    def solution(self, nums:list[int])->list:\n",
    "        overallXOR = 0\n",
    "        for val in nums:\n",
    "            overallXOR ^= val\n",
    "        leastSetBit = 1\n",
    "        while(not(leastSetBit & overallXOR)):\n",
    "            leastSetBit <<= 1\n",
    "        a1, a2 = 0, 0\n",
    "        for val in nums:\n",
    "            if val & leastSetBit:\n",
    "                a1 ^= val\n",
    "            else:\n",
    "                a2 ^= val\n",
    "        return [a1, a2]\n",
    "obj = FindTwoElements()\n",
    "nums = [4, 7, 9, 7, 5, 4, 3, 3]\n",
    "obj.solution(nums)"
   ]
  }
 ],
 "metadata": {
  "kernelspec": {
   "display_name": "Python 3 (ipykernel)",
   "language": "python",
   "name": "python3"
  },
  "language_info": {
   "codemirror_mode": {
    "name": "ipython",
    "version": 3
   },
   "file_extension": ".py",
   "mimetype": "text/x-python",
   "name": "python",
   "nbconvert_exporter": "python",
   "pygments_lexer": "ipython3",
   "version": "3.10.9"
  }
 },
 "nbformat": 4,
 "nbformat_minor": 5
}
