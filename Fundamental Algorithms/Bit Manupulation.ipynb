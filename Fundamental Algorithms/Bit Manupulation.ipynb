{
 "cells": [
  {
   "cell_type": "markdown",
   "id": "b55d8ab8-4c91-4cda-888a-bf31fe05547e",
   "metadata": {},
   "source": [
    "## Bitwise Operators-1\n",
    "<div class=\"subtopic-lecture-notes\"><p>A computer understands and stores information only in the form of Bits. Therefore, we have operators that allow us to work on the level of bits, called as Bitwise operators.<br></p><p><strong>Bitwise AND (&amp;) </strong>-<strong> </strong>This operator takes two numbers as operands and does AND for corresponding bits of the two numbers. &nbsp;</p><p>Eg. 5 &amp; 3 = (101)2 &amp; (011)2 = (001)2 = 1</p><ul><li>b1 &amp; b2 = 1, if b1=b2=1</li></ul><p>&nbsp;&nbsp;&nbsp;&nbsp;&nbsp;&nbsp;&nbsp;&nbsp;&nbsp;&nbsp;&nbsp;&nbsp;&nbsp;&nbsp;&nbsp;&nbsp;&nbsp;&nbsp;&nbsp;&nbsp;= 0, otherwise</p><ul><li>Bitwise AND of any number x with 0 is 0 itself<br>\n",
    "x &amp; 0 = 0<br></li></ul><p><strong>Bitwise OR (|) </strong>- This operator takes two numbers as operands and does OR for corresponding bits of the two numbers.&nbsp;</p><p>Eg. &nbsp;5 | 3 = (101)2 | (011)2 = (111)2 = 7</p><ul><li>b1 | b2 = 1, if b1=1 or b2=1</li></ul><p>&nbsp;&nbsp;&nbsp;&nbsp;&nbsp;&nbsp;&nbsp;&nbsp;&nbsp;&nbsp;&nbsp;&nbsp;&nbsp;&nbsp;&nbsp;&nbsp;&nbsp;&nbsp;= 0, otherwise</p><ul><li>Bitwise OR of any bit with 1 is 1<br>\n",
    "b1 | 1 = 1<br></li></ul><p><strong>Bitwise XOR (^) </strong>- This operator takes two numbers as operands and does XOR for corresponding bits of the two numbers.<br></p><ul><li>b1 ^ b2 = 1, if b1≠b2</li></ul><p>&nbsp;&nbsp;&nbsp;&nbsp;&nbsp;&nbsp;&nbsp;&nbsp;&nbsp;&nbsp;&nbsp;&nbsp;&nbsp;&nbsp;&nbsp;&nbsp;&nbsp;&nbsp;&nbsp;= 0, otherwise</p><ul><li>Bitwise XOR of a number with itself is equal to zero.<br>\n",
    "x ^ x = 0<br></li><li>Bitwise XOR of a number with zero is the number itself.<br>\n",
    "0 ^ x = x</li></ul><p><em>Note: All the above bitwise operators follow the rule of Associativity.&nbsp;</em></p></div></div>"
   ]
  },
  {
   "cell_type": "code",
   "execution_count": 7,
   "id": "655e1914-32f5-432b-8ddc-1f296f059cb8",
   "metadata": {},
   "outputs": [
    {
     "name": "stdout",
     "output_type": "stream",
     "text": [
      "Bitwsise AND: 7\n",
      "Bitwise OR: 15\n",
      "Bitwise XoR: 8\n"
     ]
    }
   ],
   "source": [
    "print(\"Bitwsise AND:\", 15 & 7)\n",
    "print(\"Bitwise OR:\", 15 | 7)\n",
    "print(\"Bitwise XoR:\", 15 ^ 7)"
   ]
  },
  {
   "cell_type": "markdown",
   "id": "0ab7169d-31c1-4706-a8fc-97b02ebe0de6",
   "metadata": {},
   "source": [
    "## Bitwise Operators-2\n",
    "<div class=\"subtopic-lecture-notes\"><p><strong>Left Shift (&lt;&lt;) </strong>- This operator takes two numbers and left shifts the bits of the first operand by ‘x’ places, where ‘x’ is the second operand.&nbsp;</p><p>Eg. (5&lt;&lt;2) = 20<br></p><p>For left shift, (num&lt;&lt;x) =&gt; num = num*(2^k)<br></p><p><em><strong>Integer Overflow</strong></em><em> - Ensure that there is no integer overflow while using the bitwise left shift operator.&nbsp;</em></p><p><em>Eg. int x = (1&lt;&lt;31), it can lead to integer overflow (2^</em><em>31</em> <em>is out of integer range)&nbsp;</em></p><p><em>long int x = (1&lt;&lt;31), it will lead to integer overflow, since the RHS value is still an integer.&nbsp;</em></p><p><em>long int x = (1L&lt;&lt;31), it will work fine.</em><br></p><p><strong>Right Shift (&gt;&gt;) </strong>- This operator takes two numbers and right shifts the bits of the first operand by ‘x’ places where ‘x’ is decided by the second operand.&nbsp;</p><p>Eg. (10&gt;&gt;2) = 2 <br></p><p>In right shift, (num&gt;&gt;x) =&gt; num = num/2k<br></p><p>&nbsp;<em>Note:&nbsp;</em></p><ul><li><em>Bitwise operators are faster as compared to other operators as they work on a bit level, and hence, they are closer to the system.<br></em></li><li><em>Bitwise operators have lower precedence order, therefore enclose them with parentheses, so that the expressions give rightful results. </em><br><em>Eg. int x = 2 + 3&lt;&lt;1; </em>&nbsp;&nbsp;<em>o/p = 10</em> <em>&nbsp;&nbsp;&nbsp;&nbsp;&nbsp;&nbsp;<br>\n",
    " &nbsp;&nbsp;&nbsp;&nbsp;&nbsp;int x = 2 + (3&lt;&lt;1); </em>&nbsp;<em>o/p = 8</em>&nbsp;</li></ul></div></div>"
   ]
  },
  {
   "cell_type": "code",
   "execution_count": 10,
   "id": "9c017eb9-21d5-490a-83a9-651dbf13fd7e",
   "metadata": {},
   "outputs": [
    {
     "name": "stdout",
     "output_type": "stream",
     "text": [
      "Bitwise Left Shift: 10\n",
      "Bitwise Right Shift: 5\n"
     ]
    }
   ],
   "source": [
    "print(\"Bitwise Left Shift:\", 5 << 1)\n",
    "print(\"Bitwise Right Shift:\", 10 >> 1)"
   ]
  },
  {
   "cell_type": "markdown",
   "id": "35e60f7e-1e01-4146-803f-40f5b9779cce",
   "metadata": {},
   "source": [
    "## Using Bitwise Operators\n",
    "<div class=\"subtopic-lecture-notes\"><p>In this lecture, we will learn how to use bitwise operators for some trivial tasks. <br></p><ul><li><strong>How to check if a number is Odd or Even: </strong><br>\n",
    "Since we know that all the powers of 2 (except 2^0) is even. Thus all the odd numbers will have 1 (2^0) as their least significant bit.<br><br><code><em>if(x&amp;1){</em></code><code><em><br></em></code><code><em>cout&lt;&lt;”odd”;</em></code><code><em><br></em></code><code><em>}<br></em></code><code>else{<br>\n",
    " &nbsp;&nbsp;&nbsp;cout&lt;&lt;”even”;</code><code><br></code><code>}</code><br><br></li><li><strong>How to check if the i-th bit of a number is 1/0, set/unset or ON/OFF: </strong><br>\n",
    "Since, (1&amp;x) = x, therefore, we can find a mask to check the i-th bit. <br>\n",
    "Eg. num = 1 0 1 1 <strong>0</strong> 0 1<br>\n",
    " &amp; mask = <u>0 0 0 0</u> <strong>1</strong> <u>0 0</u> <br>\n",
    "—--------------------------------<br>\n",
    " &nbsp;&nbsp;&nbsp;&nbsp;&nbsp;&nbsp;&nbsp;&nbsp;&nbsp;&nbsp;&nbsp;&nbsp;&nbsp;&nbsp;= 0 0 0 0 <strong>0</strong> 0 0 <br>\n",
    "Therefore, the 3rd bit here is 0. <br>\n",
    "Where mask = (1&lt;&lt;i)<br><br></li><li><strong>Is NUM a power of 2:</strong><br>\n",
    "If we carefully observe the powers of 2:<br>\n",
    "1 = 1 &nbsp;&nbsp;&nbsp;&nbsp;&nbsp;&nbsp;&nbsp;&nbsp;&nbsp;&nbsp;&nbsp;&nbsp;&nbsp;&nbsp;&nbsp;&nbsp;| &nbsp;0 = 0<br>\n",
    "2 = 10 &nbsp;&nbsp;&nbsp;&nbsp;&nbsp;&nbsp;&nbsp;&nbsp;&nbsp;&nbsp;&nbsp;&nbsp;&nbsp;| &nbsp;1 = 01<br>\n",
    "4 = 100 &nbsp;&nbsp;&nbsp;&nbsp;&nbsp;&nbsp;&nbsp;&nbsp;&nbsp;&nbsp;| &nbsp;3 = 011<br>\n",
    "8 = 1000 &nbsp;&nbsp;&nbsp;&nbsp;&nbsp;&nbsp;&nbsp;&nbsp;| &nbsp;7 = 0111<br>\n",
    "16 = 10000 &nbsp;&nbsp;&nbsp;&nbsp;| &nbsp;15 = 01111<br><br>\n",
    "Here, (N &amp; (N-1)) = 0, which is true for all the powers of 2. Thus we can check the value of bitwise AND of N and N-1. If it is zero, then N is a power of 2. <br><br><em>Note: We may have N&lt;0, in such cases it is important to have a check on N. </em>&nbsp;</li></ul></div></div>"
   ]
  },
  {
   "cell_type": "code",
   "execution_count": 16,
   "id": "f77ec338-313f-4e7f-84cd-2e398db069dd",
   "metadata": {},
   "outputs": [
    {
     "name": "stdout",
     "output_type": "stream",
     "text": [
      "Even\n",
      "0\n"
     ]
    }
   ],
   "source": [
    "def evenOrOdd(num:int):\n",
    "    if num & 1:\n",
    "        print(\"Odd\")\n",
    "    else:\n",
    "        print(\"Even\")   \n",
    "evenOrOdd(6)\n",
    "\n",
    "\n",
    "def ithBitisSetorUnset(num:int, i:int):\n",
    "    mask = 1 << i-1\n",
    "    if num & mask:\n",
    "        print(\"1\")\n",
    "    else:\n",
    "        print(\"0\")\n",
    "\n",
    "ithBitisSetorUnset(89, 3)  "
   ]
  },
  {
   "cell_type": "markdown",
   "id": "8f621320-d8dd-42f9-9dec-5fee26f80957",
   "metadata": {},
   "source": [
    "## Count of set bits\n",
    "<div class=\"subtopic-lecture-notes\"><p>Find the number of set bits in a given integer N.<br></p><p><u>Input</u>: N = 14</p><p><u>Output</u>: 3 &nbsp;&nbsp;&nbsp;&nbsp;&nbsp;(14 = (100101)2)<br><br><strong>Approach:</strong><br></p><ol><li>We can use a mask for every bit and respectively calculate the number of set and unset bits.<br>\n",
    "Time complexity: <strong>O(|32|)</strong><br>\n",
    "Space complexity: <strong>O(1)</strong><br><em>Note: Avoid the cases of integer overflow while creating the mask.<br></em><br></li><li>If you observe the bitwise AND operation between N &amp; N-1, then in every such operation we lose a 1 from the binary representation of N. Thus, we can carry out multiple such operations until N becomes zero.<br>\n",
    "Eventually, the number of bitwise AND operations will be the answer. &nbsp;<br></li></ol><figure><img src=\"https://i.imgur.com/1ieUsbJ.jpg\" height=\"auto\" width=\"700px\" alt=\"Count of set bits\"></figure><p><br>\n",
    "Time complexity: <strong>O(num_of_bits)</strong><br>\n",
    "Space complexity: <strong>O(1)&nbsp;</strong></p></div></div>"
   ]
  },
  {
   "cell_type": "code",
   "execution_count": 20,
   "id": "260103f7-2210-4afe-bf37-ec5c21e421a2",
   "metadata": {},
   "outputs": [
    {
     "data": {
      "text/plain": [
       "3"
      ]
     },
     "execution_count": 20,
     "metadata": {},
     "output_type": "execute_result"
    }
   ],
   "source": [
    "def countSetBit(num:int)->int:\n",
    "    count = 0\n",
    "    while num:\n",
    "        num = (num & (num-1))\n",
    "        count += 1\n",
    "    return count\n",
    "\n",
    "countSetBit(14)"
   ]
  },
  {
   "cell_type": "markdown",
   "id": "caf806d4-8889-4b61-8f97-36c38645f81d",
   "metadata": {},
   "source": [
    "## Cumulative Bitwise AND\n",
    "<div class=\"subtopic-lecture-notes\"><p>We have been given two integers <em>l</em> and <em>r</em>. Find the bitwise AND of all the numbers from left to right.<br></p><p><u>Input</u>: l=8, r=11</p><p><u>Output</u>: 8<br></p><p><strong>Approach:<br></strong></p><ol><li><strong>Brute Force </strong>- Calculate the bitwise AND of all the elements between l &amp; r one by one.<br>\n",
    "Time complexity: <strong>O(r-l)</strong><br><br></li><li><strong>Think at the level of bits and try to observe some pattern.<br></strong>Since we know that l&lt;r, therefore the bit at bit position bi (from left) in r will be greater than or equal to that in l. After the first point of difference in the bit position of l and r, the bits in the resultant answer will automatically become zero. See the examples below.<br></li></ol><figure><img src=\"https://i.imgur.com/H2m6CE1.jpg\" height=\"auto\" width=\"700px\" alt=\"Cumulative bitwise AND\"></figure><p><br>\n",
    "You can validate it with the help of a few more examples. For implementing it, we can create a mask to find the first point of difference and consequently the final answer.<br>\n",
    "Time complexity: <strong>O(|32|)</strong></p></div></div>"
   ]
  },
  {
   "cell_type": "code",
   "execution_count": 23,
   "id": "91eabf89-a9fd-4a71-9553-f250b52b34e3",
   "metadata": {},
   "outputs": [
    {
     "data": {
      "text/plain": [
       "8"
      ]
     },
     "execution_count": 23,
     "metadata": {},
     "output_type": "execute_result"
    }
   ],
   "source": [
    "def bitwiseAnd(left:int, right:int)->int:\n",
    "    mask = (1 << 31)\n",
    "    ans = 0\n",
    "    while mask:\n",
    "        if ((mask & left) == (mask & right)):\n",
    "            if mask & left:\n",
    "                ans += mask\n",
    "            mask = mask >> 1\n",
    "        else:\n",
    "            break\n",
    "    return ans\n",
    "\n",
    "bitwiseAnd(8, 11)      "
   ]
  },
  {
   "cell_type": "markdown",
   "id": "fe491931-d580-4cf5-be75-e320c72af09a",
   "metadata": {},
   "source": [
    "## Detecting odd one out\n",
    "\n",
    "<div class=\"subtopic-lecture-notes\"><p>We have been given an integer array Arr[N] containing elements appearing for even number of times, except one such element. Find that element.<br></p><p><u>Input</u>: Arr[ ] = {4, 11, 4, 7, 9, 7, 11}</p><p><u>Output</u>: 9<br></p><p><strong>Approach:<br></strong></p><ol><li>We can sort the elements and check which element is appearing once by traversing the array linearly.<br>\n",
    "Time complexity: <strong>O(NlogN)<br></strong><br></li><li><strong>Bit Manipulation </strong>- Since we know that x^x = 0, therefore we can take the XOR of all the array elements and the final answer will be the required element which is appearing once.<br>\n",
    "Time complexity: <strong>O(N)</strong><br></li></ol><p>Q. We have been given an integer array Arr[N] where every number comes thrice and one element appears once. Find that element.<br></p><p><strong>Approach:<br></strong></p><ol><li>We can sort the elements and check which element is appearing once by traversing the array linearly.<br><br></li><li><strong>Think at the level of bits and try to observe some pattern.</strong><br>\n",
    "Let’s take an example of an array containing only the elements that are appearing thrice.<br>\n",
    "Arr[ ] = {11, 3, 10, 11, 11, 3, 3, 10, 10}<br></li></ol><figure><img src=\"https://i.imgur.com/eH9nsf3.png\" height=\"auto\" width=\"700px\" alt=\"Detecting odd one out\"></figure><p><br>\n",
    "As you can see the count of the set bits of all the array elements is a multiple of 3. But, if we include an element that is appearing only once, then the count will get disturbed.<br><br>\n",
    "Hence, we can find the bit positions whose total count for set bits is not a multiple of 3, signifying the set bits for our answer variable.<br>\n",
    "Time complexity: <strong>O(N)&nbsp;</strong></p></div></div>"
   ]
  },
  {
   "cell_type": "code",
   "execution_count": 15,
   "id": "95655298-47d2-433d-88e4-650869a57675",
   "metadata": {},
   "outputs": [
    {
     "name": "stdout",
     "output_type": "stream",
     "text": [
      "Element which occured ones: 9\n",
      "Element which occurs only once in thrice pair: 8\n"
     ]
    }
   ],
   "source": [
    "# when the freq of element is even just take XoR \n",
    "\n",
    "def findOdd1(nums:list[int])->int:\n",
    "    ans = nums[0]\n",
    "    for i in range(1, len(nums)):\n",
    "        ans ^= nums[i]\n",
    "    return ans\n",
    "\n",
    "def findOdd2(nums:list[int])->int:\n",
    "    mask = (1 << 31)\n",
    "    ans = 0;\n",
    "    for i in range(31, -1, -1):\n",
    "        count = 0\n",
    "        for j in range(len(nums)):\n",
    "            if (mask & nums[j]):\n",
    "                count += 1\n",
    "        if count % 3 != 0:\n",
    "            ans += mask\n",
    "        mask >>= 1\n",
    "    return ans\n",
    "            \n",
    "nums = [4, 11, 4, 7, 9, 7, 11]\n",
    "print(\"Element which occured ones:\", findOdd1(nums))\n",
    "\n",
    "nums1 = [11, 3, 10, 11, 11, 3, 3, 10, 10, 8]\n",
    "print(\"Element which occurs only once in thrice pair:\", findOdd2(nums1))\n",
    "        \n",
    "    "
   ]
  },
  {
   "cell_type": "markdown",
   "id": "9e4ad774-6f87-4322-8628-d7117a0e7a99",
   "metadata": {},
   "source": [
    "## Hamming Distances\n",
    "\n",
    "<div class=\"subtopic-lecture-notes\"><p>Hamming Distance is computed between two integers a and b. It is the total number of corresponding bits that are different in the binary representation of a and b.<br><br>\n",
    "For a = 4, b=17<br>\n",
    "Hamming Distance (4, 17) = 3<br></p><p>Q. We have been given an integer array Arr[N] containing non-negative numbers. Find the sum of hamming distances between all pairs.<br></p><p><u>Input</u>: Arr[3] = {4, 5, 2}</p><p><u>Output</u>: 6 &nbsp;&nbsp;&nbsp;&nbsp;HD(4, 5) + HD(4, 2) + HD(5, 2) = 6<br></p><p><strong>Approach:<br></strong></p><ol><li>We can find all the pairs and use bitmask to check and compare the bits to calculate the Hamming distance.<br>\n",
    "Time complexity: <strong>O(N^2)</strong><br><br></li><li><strong>Reverse Lookup </strong>- Instead of finding the contribution of pairs, how about finding the contribution of a particular bit position?<br>\n",
    "Eg. Arr[ ] = {4, 5, 2}<br></li></ol><figure><img src=\"https://i.imgur.com/LHqUZtp.jpg\" height=\"auto\" width=\"700px\" alt=\"Reverse Lookup\"></figure><p><br>\n",
    "We can find the number of set and unset bits for all different bit positions and use the Rule of Product to find the sum of all the hamming distances.<br>\n",
    "Time complexity: <strong>O(|32|)&nbsp;</strong></p></div></div>"
   ]
  },
  {
   "cell_type": "code",
   "execution_count": 19,
   "id": "f6b70545-6740-47b5-b026-5c23ce40bee5",
   "metadata": {},
   "outputs": [
    {
     "data": {
      "text/plain": [
       "6"
      ]
     },
     "execution_count": 19,
     "metadata": {},
     "output_type": "execute_result"
    }
   ],
   "source": [
    "class HammingDistance:\n",
    "    def reverseLookupSolution(self, nums:list[int])->int:\n",
    "        n = len(nums)\n",
    "        mask = 1 << 31\n",
    "        ans = 0\n",
    "        for i in range(31, -1, -1):\n",
    "            count = 0\n",
    "            for j in range(n):\n",
    "                if mask & nums[j]:\n",
    "                    count += 1\n",
    "            ans += count *(n - count)\n",
    "            mask >>= 1\n",
    "        return ans\n",
    "                \n",
    "obj = HammingDistance()\n",
    "nums = [4, 5, 2]\n",
    "obj.reverseLookupSolution(nums)"
   ]
  },
  {
   "cell_type": "code",
   "execution_count": null,
   "id": "55dd43fa-a6be-4a4e-99f9-fd061024acd9",
   "metadata": {},
   "outputs": [],
   "source": []
  }
 ],
 "metadata": {
  "kernelspec": {
   "display_name": "Python 3 (ipykernel)",
   "language": "python",
   "name": "python3"
  },
  "language_info": {
   "codemirror_mode": {
    "name": "ipython",
    "version": 3
   },
   "file_extension": ".py",
   "mimetype": "text/x-python",
   "name": "python",
   "nbconvert_exporter": "python",
   "pygments_lexer": "ipython3",
   "version": "3.10.9"
  }
 },
 "nbformat": 4,
 "nbformat_minor": 5
}
