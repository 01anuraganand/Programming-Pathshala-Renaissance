{
 "cells": [
  {
   "cell_type": "markdown",
   "id": "588c58b3-1dc5-4081-ba4e-7c79abb1204c",
   "metadata": {},
   "source": [
    "## Basics of Recursion\n",
    "<div class=\"subtopic-lecture-notes\"><p>A process in which a function keeps calling itself is known as recursion and the corresponding function is called a recursive function. There are two important components to write a recursive function -</p><ol><li>Recurrence relation</li><li>Termination condition</li></ol><p>Eg. To find the factorial of a number N</p><p>Recurrence relation: N!=(N-1)*N</p><p>Termination condition: 0!=1<br></p></div></div>"
   ]
  },
  {
   "cell_type": "markdown",
   "id": "46b09961-c0d6-4259-8d1c-fefc05919c25",
   "metadata": {},
   "source": [
    "## Single Branch Recursion\n",
    "<div class=\"subtopic-lecture-notes\"><p>In Single branch recursion, a function calls itself only once inside its body leading to a single branch recursion tree. Recursion is internally implemented in the form of a stack where each function is treated as a member which is pushed into the stack.&nbsp;</p><p><code><em>int fact(int N){<br>\n",
    "&nbsp;&nbsp;&nbsp;if(N==0)return 1;<br>\n",
    "&nbsp;&nbsp;&nbsp;return N=fact(N-1);<br>\n",
    "}<br><br>\n",
    "main( ){<br>\n",
    "&nbsp;&nbsp;&nbsp;fact(5);<br>\n",
    "}</em></code><em><br><br></em>The control flow for the above code will be:</p><figure><img src=\"https://i.imgur.com/sR7QOi4.jpg\" height=\"auto\" width=\"500px\" alt=\"Control flow &amp; call stack\"></figure><p><br></p></div></div>"
   ]
  },
  {
   "cell_type": "code",
   "execution_count": 16,
   "id": "fca1f846-3ce8-4fa7-ac35-77359b2ea8b7",
   "metadata": {},
   "outputs": [
    {
     "data": {
      "text/plain": [
       "120"
      ]
     },
     "execution_count": 16,
     "metadata": {},
     "output_type": "execute_result"
    }
   ],
   "source": [
    "class SingleBranchCondition:\n",
    "    def factorial(self, n:int)->int:\n",
    "        if n == 0:\n",
    "            return 1;\n",
    "        return n*self.factorial(n-1)\n",
    "obj = SingleBranchCondition()\n",
    "obj.factorial(5)"
   ]
  },
  {
   "cell_type": "markdown",
   "id": "d0f03581-1a28-42b0-832c-18620a495757",
   "metadata": {},
   "source": [
    "## Recursion Tree Diagram\n",
    "<div class=\"subtopic-lecture-notes\"><p>A recursion tree diagram helps to understand the control flow of a code. And in this lecture, we will learn how to make a multi-branch recursion tree diagram with the help of a sample recursive code.<br><br><code><em>void f(int x){<br>\n",
    "Print x;<br>\n",
    "if(x&gt;=3) return;<br>\n",
    "f(x+1);<br>\n",
    "f(x+2);<br>\n",
    "}</em></code></p><p><code><em>int main( ){<br>\n",
    "f(0);<br>\n",
    "}</em></code></p><p>O/P = 012343234&nbsp;</p><figure><img src=\"https://i.imgur.com/vnkFIRm.jpg\" height=\"auto\" width=\"500px\" alt=\"Recursion Tree Diagram\"></figure><p><br></p></div></div>"
   ]
  },
  {
   "cell_type": "code",
   "execution_count": 18,
   "id": "3c494a8d-90e9-4c7c-bda0-b5fe03c19ad4",
   "metadata": {},
   "outputs": [
    {
     "name": "stdout",
     "output_type": "stream",
     "text": [
      "0 1 2 3 4 3 2 3 4 "
     ]
    }
   ],
   "source": [
    "class RecursionTree:\n",
    "    def recursionCall(self, x:int)->None:\n",
    "        print(x, end = \" \")\n",
    "        if x >= 3:\n",
    "            return \n",
    "        self.recursionCall(x+1)\n",
    "        self.recursionCall(x+2)\n",
    "\n",
    "obj = RecursionTree()\n",
    "obj.recursionCall(0) "
   ]
  },
  {
   "cell_type": "markdown",
   "id": "e9a84684-3894-4141-86da-1d44f6fcc4b7",
   "metadata": {},
   "source": [
    "## Pass by Reference\n",
    "<div class=\"subtopic-lecture-notes\"><p>There are two ways to pass a variable to a function - <strong>Pass by value </strong>and <strong>Pass by reference</strong>. <br><br>\n",
    "In pass by reference, the function directly passes the address of the variable as an argument such that whatever changes are made in the function are reflected back onto the variable. <br><br>\n",
    "While in Pass by value, the function passes a copy of the variable. Hence, the changes are not reflected back onto the original variable.&nbsp;</p><p><strong>Pass by value:</strong><strong>&nbsp;</strong></p><p><code><em>void func2(int y){<br>\n",
    " &nbsp;y++;<br>\n",
    " &nbsp;cout&lt;&lt;y;<br>\n",
    " &nbsp;return;<br>\n",
    "}</em></code></p><p><code><em>void func( ){<br>\n",
    " &nbsp;int x = 5;<br>\n",
    " &nbsp;func2(x);<br>\n",
    " &nbsp;cout&lt;&lt;x; <br>\n",
    "}</em></code><br><br>\n",
    "O/P: 65</p><p><strong>Pass by reference:</strong><strong> <br><br></strong><code><em>void func2(int&amp; y){<br>\n",
    " &nbsp;y++;<br>\n",
    " &nbsp;cout&lt;&lt;y;<br>\n",
    " &nbsp;return;<br>\n",
    "}</em></code></p><p><code><em>void func( ){<br>\n",
    " &nbsp;int x = 5;<br>\n",
    " &nbsp;func2(x);<br>\n",
    " &nbsp;cout&lt;&lt;x;<br>\n",
    "}</em></code></p><p>O/P: 66</p></div></div>"
   ]
  },
  {
   "cell_type": "code",
   "execution_count": 23,
   "id": "bdf380af-7f3b-445b-82dc-6443853f3503",
   "metadata": {},
   "outputs": [
    {
     "name": "stdout",
     "output_type": "stream",
     "text": [
      "func2: 6\n",
      "func: 5\n"
     ]
    }
   ],
   "source": [
    "class PassByValue:\n",
    "    def func2(self, y:int)->None:\n",
    "        y += 1\n",
    "        print(\"func2:\", y)\n",
    "    \n",
    "    def func1(self)->None:\n",
    "        x = 5\n",
    "        self.func2(x)\n",
    "        print(\"func:\", x)\n",
    "obj = PassByValue()\n",
    "obj.func1()"
   ]
  },
  {
   "cell_type": "code",
   "execution_count": 27,
   "id": "0a8a4b62-85f1-487c-a573-8bba7f1e236e",
   "metadata": {},
   "outputs": [
    {
     "name": "stdout",
     "output_type": "stream",
     "text": [
      "func2: 6\n",
      "func: 6\n"
     ]
    }
   ],
   "source": [
    "class Data:\n",
    "    def __init__(self, value):\n",
    "        self.value = value\n",
    "        \n",
    "class PassByReference:\n",
    "    def func2(self, data:Data)->None:\n",
    "        data.value += 1\n",
    "        print(\"func2:\", data.value)\n",
    "    \n",
    "    def func1(self)->None:\n",
    "        data_instance = Data(5)\n",
    "        self.func2(data_instance)\n",
    "        print(\"func:\", data_instance.value)\n",
    "obj = PassByReference()\n",
    "obj.func1()"
   ]
  },
  {
   "cell_type": "markdown",
   "id": "2b6eeaf8-cc58-4fbd-8364-1b549102b176",
   "metadata": {},
   "source": [
    "## Print from 1 to N\n",
    "<div class=\"subtopic-lecture-notes\"><p>In this lecture, we will learn how to print the natural numbers from 1 to N with the help of recursion.</p><p>Step 1: Think of function definition - specify the function name, arguments and return type<br>\n",
    "Step 2: Termination condition, otherwise, stack overflow may occur<br>\n",
    "Step 3: Find a Recurrence relation<br>\n",
    "Step 4: Make the First call to the function</p><p><em>void print(int N){<br>\n",
    " &nbsp;if(N==0) return;<br>\n",
    " &nbsp;print(N-1);<br>\n",
    " &nbsp;cout&lt;&lt;N&lt;&lt;endl;<br>\n",
    "}</em></p><p><em>int main(){<br>\n",
    " print(5);<br>\n",
    " return 0;<br>\n",
    "}</em>&nbsp;</p></div></div>"
   ]
  },
  {
   "cell_type": "code",
   "execution_count": 38,
   "id": "2f84c471-cf14-424e-a9e7-3ebba0553fa8",
   "metadata": {},
   "outputs": [
    {
     "name": "stdout",
     "output_type": "stream",
     "text": [
      "1 2 3 4 5 \n",
      "1 2 3 4 5 "
     ]
    }
   ],
   "source": [
    "class Print1ToN:\n",
    "    def solution1(self, n:int)->None:\n",
    "        if n == 0:\n",
    "            return\n",
    "        self.solution1(n-1)\n",
    "        print(n, end = \" \")\n",
    "    \n",
    "    def solution2(self, x:int, n:int)->None:\n",
    "        if x > n:\n",
    "            return \n",
    "        print(x, end = \" \")\n",
    "        self.solution2(x+1, n)\n",
    "\n",
    "obj = Print1ToN()\n",
    "obj.solution1(5)\n",
    "print()\n",
    "obj.solution2(1, 5)"
   ]
  },
  {
   "cell_type": "code",
   "execution_count": 45,
   "id": "59baf0b7-f79e-4150-9911-5f1adf805a95",
   "metadata": {},
   "outputs": [
    {
     "name": "stdout",
     "output_type": "stream",
     "text": [
      "5 4 3 2 1 \n",
      "5 4 3 2 1 "
     ]
    }
   ],
   "source": [
    "class PrintNTo1:\n",
    "    def solution1(self, n:int)->None:\n",
    "        if n == 0:\n",
    "            return\n",
    "        print(n, end = \" \")\n",
    "        self.solution1(n-1)\n",
    "    \n",
    "    def solution2(self, x:int, n:int)->None:\n",
    "        if x > n:\n",
    "            return \n",
    "        self.solution2(x+1, n)\n",
    "        print(x, end = \" \")\n",
    "obj = PrintNTo1()\n",
    "obj.solution1(5)\n",
    "print()\n",
    "obj.solution2(1, 5)"
   ]
  },
  {
   "cell_type": "markdown",
   "id": "4ebcd1b4-4b19-4324-b94b-b049e18328d0",
   "metadata": {},
   "source": [
    "## Distinct Paths - 1\n",
    "<div class=\"subtopic-lecture-notes\"><p>We have been given a 2D matrix of dimension M x N. We have to find the total number of distinct paths to reach from (0,0) to (M-1, N-1) under the constrained movement of one unit rightwards or downwards each time.&nbsp;</p><p><strong>Approach: Top to Bottom</strong></p><ul><li><strong>Recurrence Relation:</strong> If we know the number of unique paths from (1,0) &amp; (0,1) to (M-1, N-1) individually. Then the total number of distinct paths from (0,0) to (M-1, N-1) will be:<br>\n",
    "CountPaths(0,0) = CountPaths(0,1) + CountPaths(1,0)<br><br>\n",
    "Thus we can form a recursive relation as:<br>\n",
    "CountPaths(i, j) = CountPaths(i, j+1) + CountPaths(i+1, j)</li><li><strong>Termination Condition: </strong>Since we know that i&lt;M and j&lt;N and for i==M-1 or j==N-1 there is only one path to reach the destination. Therefore, the termination condition can be written as:<br>\n",
    "if(i==M-1 or j==N-1) return 1;</li><li><strong>Recursion Tree:</strong></li></ul><figure><img src=\"https://i.imgur.com/GTgfMUZ.png\" height=\"auto\" width=\"842px\" alt=\"Recursion Tree\"></figure><p>Time complexity: <strong>O(2^(M+N))</strong><br>\n",
    "Space complexity: <strong>O(M+N)</strong>&nbsp;</p></div></div>"
   ]
  },
  {
   "cell_type": "code",
   "execution_count": 4,
   "id": "b38b2799-ad7a-4bf2-bd05-73d2aa1f93c8",
   "metadata": {},
   "outputs": [
    {
     "name": "stdout",
     "output_type": "stream",
     "text": [
      "6\n"
     ]
    }
   ],
   "source": [
    "class DistinctPath1:\n",
    "    def approach1(self,i:int, j:int, n:int, m:int)->int:\n",
    "        if i == n-1 or j == m-1:\n",
    "            return 1\n",
    "        \n",
    "        return self.approach1(i+1, j, n, m) + self.approach1(i, j+1, n, m)\n",
    "\n",
    "obj = DistinctPath1()\n",
    "ans = obj.approach1(0, 0, 3, 3)\n",
    "print(ans)  "
   ]
  },
  {
   "cell_type": "markdown",
   "id": "65badd38-c9a1-4936-9242-cca42c15021e",
   "metadata": {},
   "source": [
    "## Distinct Paths: Alternate Implementation\n",
    "<div class=\"subtopic-lecture-notes\"><p>In this previous problem on “Distinct Paths” we used a Top to Bottom approach. However, in this lecture, we will learn how we can solve the same problem using a Bottom to Top approach. <br><br><strong>Approach: Bottom to Top</strong></p><ul><li><strong>Recurrence Relation: </strong>Since we know that the number of distinct paths to reach (M-1, N-1) is equal to the sum of the number of distinct paths to reach (M-1, N-2) &amp; (M-2, N-1). <br>\n",
    "Thus we can form a recursive relation as:<br><strong>CountPaths(i, j) = CountPaths(i-1, j) + CountPaths(i, j-1)</strong></li><li><strong>Termination Condition:</strong> Since we know that i&gt;=0 &amp; j&gt;=0 and for i==0 or j==0 there is only one path to reach that cell. Therefore, the termination condition can be written as:<br>\n",
    "if(i==0 or j==0) return 1;</li><li><strong>Recursion Tree:<br></strong>Time complexity: <strong>O(2^(M+N))</strong><br>\n",
    "Space complexity: <strong>O(M+N)</strong>&nbsp;</li></ul></div></div>"
   ]
  },
  {
   "cell_type": "code",
   "execution_count": 9,
   "id": "f7a901d6-04c5-454b-a1c6-a0812eb49964",
   "metadata": {},
   "outputs": [
    {
     "name": "stdout",
     "output_type": "stream",
     "text": [
      "6\n"
     ]
    }
   ],
   "source": [
    "class DistinctPath:\n",
    "    def approach2(self, i:int, j:int)->int:\n",
    "        if i == 0 or j == 0:\n",
    "            return 1\n",
    "        return self.approach2(i-1, j) + self.approach2(i, j-1)\n",
    "obj = DistinctPath()\n",
    "n = 3\n",
    "m = 3\n",
    "ans = obj.approach2(n-1, m-1)\n",
    "print(ans)"
   ]
  },
  {
   "cell_type": "markdown",
   "id": "ffcef11a-336e-4ed5-b45a-61fba0f869f9",
   "metadata": {},
   "source": [
    "## Letter Combinations\n",
    "<div class=\"subtopic-lecture-notes\"><p>We have been given a string containing digits from 2-9 inclusive and we have to return all possible letter combinations that the digit string could represent. The digits have been mapped to letters similar to the telephone buttons with 1 being mapped to none of the letters.&nbsp;</p><p><br></p><figure><img src=\"https://i.imgur.com/H6GXNh3.jpg\" height=\"auto\" width=\"400px\" alt=\"Telephone keypad\"></figure><p><strong>Approach:&nbsp;</strong></p><ol><li>We know that each digit points to a set of alphabets. So we can create nested loops to find all the possible letter combinations from a digit string. For eg. digit string = “23”<br><code><em>for(c1 ∈ [a,b,c]){<br>\n",
    " &nbsp;for(c2 ∈ [d,e,f]){</em></code><code><em><br></em></code><code><em>str = c1+c2;</em></code><code><em><br></em></code><code><em>print(str);<br>\n",
    " &nbsp;}<br>\n",
    "}</em></code><br>\n",
    "Will the above logic work for digit strings with different sizes?</li><li>In questions where we have multiple choices, we have the option to use recursion. Let us try to draw the recursion tree for the digit string = “237” <br></li></ol><figure><img src=\"https://i.imgur.com/nYFfRy8.jpg\" height=\"auto\" width=\"600px\" alt=\"Recursion Tree diagram\"></figure><p><br><strong>Note: </strong>We will pass the empty string by value and the digit string by reference since the former is changing in every function call while the latter remains the same.&nbsp;</p></div></div>"
   ]
  },
  {
   "cell_type": "code",
   "execution_count": 48,
   "id": "6dc10a25-19e9-49d2-aab2-2577b86ce4af",
   "metadata": {},
   "outputs": [
    {
     "name": "stdout",
     "output_type": "stream",
     "text": [
      "ad\n",
      "ae\n",
      "af\n",
      "bd\n",
      "be\n",
      "bf\n",
      "cd\n",
      "ce\n",
      "cf\n"
     ]
    }
   ],
   "source": [
    "class LetterCombination:\n",
    "    def letterCombination_solution(self, index: int, digit: str, digitMap: list, temp: str = \"\") -> None:\n",
    "        if index == len(digit):\n",
    "            print(temp)\n",
    "            return\n",
    "\n",
    "        for j in range(len(digitMap[int(digit[index]) - 2])):\n",
    "            self.letterCombination_solution(index + 1, digit, digitMap, temp + digitMap[int(digit[index]) - 2][j])\n",
    "\n",
    "\n",
    "digitMapVal = [\n",
    "    ['a', 'b', 'c'],\n",
    "    ['d', 'e', 'f'],\n",
    "    ['g', 'h', 'i'],\n",
    "    ['j', 'k', 'l'],\n",
    "    ['m', 'n', 'o'],\n",
    "    ['p', 'q', 'r', 's'],\n",
    "    ['t', 'u', 'v'],\n",
    "    ['w', 'x', 'y', 'z'],\n",
    "]\n",
    "\n",
    "obj = LetterCombination()\n",
    "digit = \"23\"\n",
    "obj.letterCombination_solution(0, digit, digitMapVal)"
   ]
  },
  {
   "cell_type": "markdown",
   "id": "95cb02db-188a-4e60-8e0b-62351ad10401",
   "metadata": {},
   "source": [
    "## Letter Combinations: Saving Space\n",
    "<div class=\"subtopic-lecture-notes\"><p>In this lecture, we will analyze the solution to the previous problem of “Letter combinations” and see how we can find a space-efficient solution for it. <br><br>\n",
    "In the previous approach, for every function call, we were creating a new string to store the letter combinations because of which our program was space inefficient. Can you think of any alternative?</p><p>We can create a character array - char tmp[digits.length()+1] and pass it by reference. And we can take the help of overwriting to find the desired letter combinations within the same character array. <br><br>\n",
    "Space complexity: O(digits.length( ))</p></div></div>"
   ]
  },
  {
   "cell_type": "code",
   "execution_count": 51,
   "id": "5d1eb279-73f9-4c1b-95b2-9f358c23fdd3",
   "metadata": {},
   "outputs": [
    {
     "name": "stdout",
     "output_type": "stream",
     "text": [
      "ad\n",
      "ae\n",
      "af\n",
      "bd\n",
      "be\n",
      "bf\n",
      "cd\n",
      "ce\n",
      "cf\n"
     ]
    }
   ],
   "source": [
    "class LetterCombination:\n",
    "    def letterCombination_solution(self, index: int, digit: str, digitMap: list, temp: list) -> None:\n",
    "        if index == len(digit):\n",
    "            print(\"\".join(temp))\n",
    "            return\n",
    "\n",
    "        for j in range(len(digitMap[int(digit[index]) - 2])):\n",
    "            temp[index] = digitMap[int(digit[index]) - 2][j]\n",
    "            self.letterCombination_solution(index + 1, digit, digitMap, temp)\n",
    "\n",
    "digitMapVal = [\n",
    "    ['a', 'b', 'c'],\n",
    "    ['d', 'e', 'f'],\n",
    "    ['g', 'h', 'i'],\n",
    "    ['j', 'k', 'l'],\n",
    "    ['m', 'n', 'o'],\n",
    "    ['p', 'q', 'r', 's'],\n",
    "    ['t', 'u', 'v'],\n",
    "    ['w', 'x', 'y', 'z'],\n",
    "]\n",
    "\n",
    "obj = LetterCombination()\n",
    "digit = \"23\"\n",
    "# Create a character array to store the letter combinations\n",
    "temp = [''] * len(digit)\n",
    "obj.letterCombination_solution(0, digit, digitMapVal, temp)"
   ]
  },
  {
   "cell_type": "code",
   "execution_count": 91,
   "id": "46694c94-3033-40ff-98c7-c64f7a4bafe5",
   "metadata": {},
   "outputs": [
    {
     "name": "stdout",
     "output_type": "stream",
     "text": [
      "[]\n",
      "[3]\n",
      "[2]\n",
      "[2, 3]\n",
      "[1]\n",
      "[1, 3]\n",
      "[1, 2]\n",
      "[1, 2, 3]\n",
      "Using second Approach\n",
      "[]\n",
      "[3]\n",
      "[2]\n",
      "[2, 3]\n",
      "[1]\n",
      "[1, 3]\n",
      "[1, 2]\n",
      "[1, 2, 3]\n"
     ]
    }
   ],
   "source": [
    "class AllSubsetOfSet:\n",
    "    def generateSubset1(self, index:int, nums:list, n:int, ans:list)->None:\n",
    "        if index == n:\n",
    "            print(ans)\n",
    "            return\n",
    "        self.generateSubset1(index+1, nums, n, ans)\n",
    "        self.generateSubset1(index+1, nums,  n, ans + [nums[index]])\n",
    "        \n",
    "    def generateSubset2(self, index:int, nums:list, n:int, ans:list, size:int)->None:\n",
    "        if index == n:\n",
    "            print(ans[:size])\n",
    "            return\n",
    "        \n",
    "        self.generateSubset2(index+1, nums, n, ans, size)\n",
    "        ans[size] = nums[index]\n",
    "        self.generateSubset2(index+1, nums, n, ans, size+1)\n",
    "        \n",
    "obj = AllSubsetOfSet()\n",
    "ans = []\n",
    "nums = [1, 2, 3]\n",
    "n = len(nums)\n",
    "obj.generateSubset1(0, nums, n, ans)\n",
    "\n",
    "print(\"Using second Approach\")\n",
    "obj1 = AllSubsetOfSet()\n",
    "ans1 = [0]*n\n",
    "obj1.generateSubset2(0, nums, n, ans1, 0)"
   ]
  },
  {
   "cell_type": "markdown",
   "id": "b29738f3-eae7-4496-9a33-11d0aaa6f832",
   "metadata": {},
   "source": [
    "## Subsets of a set with Bitmasking\n",
    "<div class=\"subtopic-lecture-notes\"><p>Bitmasking is a technique used to select a certain number of bits from a collection of bits. In this lecture, we will learn how to find all the subsets of a set with the help of bitmasking.</p><p>A set S = {1, 2, 3} has the following subsets:&nbsp;</p><figure><img src=\"https://i.imgur.com/zaKPDgJ.jpg\" height=\"auto\" width=\"600px\" alt=\"Bitmasking table\"></figure><p>From the above table, we can clearly see how the binary representation of digits from 0 to 2^N-1 accounts for all the possible subsets of a set S with ‘N’ elements. Therefore, we can iterate over the numbers to find their binary representation and extract the 1s to print the elements of the subset.&nbsp;</p><p>Time complexity: <strong>O(2^</strong><strong>N</strong><strong>)</strong><br>\n",
    "Space complexity: <strong>O(N)</strong></p></div></div>"
   ]
  },
  {
   "cell_type": "code",
   "execution_count": 130,
   "id": "58950960-3bb7-4bbc-af6d-dcd98e805f35",
   "metadata": {},
   "outputs": [
    {
     "data": {
      "text/plain": [
       "[[],\n",
       " [1],\n",
       " [2],\n",
       " [1, 2],\n",
       " [3],\n",
       " [1, 3],\n",
       " [2, 3],\n",
       " [1, 2, 3],\n",
       " [4],\n",
       " [1, 4],\n",
       " [2, 4],\n",
       " [1, 2, 4],\n",
       " [3, 4],\n",
       " [1, 3, 4],\n",
       " [2, 3, 4],\n",
       " [1, 2, 3, 4]]"
      ]
     },
     "execution_count": 130,
     "metadata": {},
     "output_type": "execute_result"
    }
   ],
   "source": [
    "class SubsetWithBitMasking:\n",
    "    def generate(self, nums:list)->list:\n",
    "        n = len(nums)\n",
    "        counter = 2**n\n",
    "        ans = []\n",
    "        for i in range(counter):\n",
    "            temp = []\n",
    "            for j in range(0, n):\n",
    "                if i & (1 << j):\n",
    "                    temp.append(nums[j])\n",
    "            ans.append(temp)\n",
    "        return ans\n",
    "\n",
    "obj = SubsetWithBitMasking()\n",
    "nums = [1, 2, 3, 4]\n",
    "obj.generate(nums)"
   ]
  },
  {
   "cell_type": "markdown",
   "id": "5bcbc628-83d3-4a9a-bb3a-17e8b2eda688",
   "metadata": {},
   "source": [
    "## Divide and Conquer\n",
    "<div class=\"subtopic-lecture-notes\"><p>Divide and Conquer is an algorithmic paradigm where we divide a certain problem into several subproblems and recursively solve these subproblems. Once we get the result of the smaller subproblems, we start combining them to get the final result. Let us understand this concept with the help of a problem. <br><br>\n",
    "Q. Find the maximum element in Arr[N] = [7, 1, 4, 3, 2, 6, 5] through Recursion.&nbsp;</p><p><strong>Approach:</strong></p><ul><li>We can divide the Arr[ ] into two parts from the middle and can separately find the maximum elements of the two halves. We can later compare the two maximas to find the overall maximum.&nbsp;</li><li>On the above logic, we can further divide the parts into two parts so that we have the smallest subproblem whose answer is already known to us.&nbsp;</li><li>In the given question, we can break a subarray with i=starting index and j=ending index into two halves - left(i,m) &amp; right(m+1, j) where m=(i+j)/2. Then we can start solving the subproblems and return their maximum after every call.&nbsp;</li><li>Recurrence Relation: return max(findMax(i,m), findMax(m+1,j)):</li><li>Termination Condition: if(i==j) return Arr[ i ];<br>\n",
    "Since it is the only element left in the array when i becomes equal to j.&nbsp;</li><li>Recursion Tree: &nbsp;</li></ul><figure><img src=\"https://i.imgur.com/nju4WXj.jpg\" height=\"auto\" width=\"600px\" alt=\"Recursion Tree\"></figure><p>Time complexity: <strong>O(N)</strong><br>\n",
    "Space complexity: <strong>Maximum size of call stack = O(log</strong><strong>2</strong><strong>N)</strong>&nbsp;</p></div></div>"
   ]
  },
  {
   "cell_type": "code",
   "execution_count": 133,
   "id": "374aeabe-8b4e-4a92-9d57-90d1a297fcb0",
   "metadata": {},
   "outputs": [
    {
     "data": {
      "text/plain": [
       "78"
      ]
     },
     "execution_count": 133,
     "metadata": {},
     "output_type": "execute_result"
    }
   ],
   "source": [
    "class DivideAndConquer:\n",
    "    def findMax(self, nums:int, i:int, j:int)->int:\n",
    "        if i==j: \n",
    "            return nums[i]\n",
    "        mid = int((i+j)/2)\n",
    "        leftMax = self.findMax(nums, i, mid)\n",
    "        rightMax = self.findMax(nums, mid+1, j)\n",
    "        return max(leftMax, rightMax)\n",
    "    \n",
    "obj = DivideAndConquer()\n",
    "nums = [7, 1, 4, 3, 2, 6, 78]\n",
    "startIndex = 0\n",
    "endIndex = len(nums)-1\n",
    "obj.findMax(nums, startIndex, endIndex)"
   ]
  },
  {
   "cell_type": "markdown",
   "id": "0ea45325-2b03-437d-8aba-b4f32dd2c02e",
   "metadata": {},
   "source": [
    "## Fast Exponentiation\n",
    "<div class=\"subtopic-lecture-notes\"><p>In this lecture, we will learn the fast exponentiation technique which is used to calculate large exponents of a number. Generally, it takes O(k) time to calculate N^k but with the help of the divide &amp; conquer algorithm and recursion we can find it in O(log2k) time.&nbsp;</p><p>Eg. For 5^9</p><figure><img src=\"https://i.imgur.com/YmB1a60.jpg\" height=\"auto\" width=\"500px\" alt=\"Fast Exponentiation\"></figure><p>As clear from the example, we can divide the powers into two and can reduce the number of calculations to reach the final answer.&nbsp;</p><p>N^k = N^(k/2)*N^(k/2) &nbsp;if k is even</p><p>&nbsp;&nbsp;&nbsp;&nbsp;&nbsp;= N^(k/2)*N^(K/2)*N if k is odd</p><p>Time complexity: <strong>O(log2k)</strong><br>\n",
    "Space complexity: <strong>O(log2k)</strong>&nbsp;</p></div></div>"
   ]
  },
  {
   "cell_type": "code",
   "execution_count": 11,
   "id": "a5510d33-1b9f-43d3-abe5-5f5e34b5575e",
   "metadata": {},
   "outputs": [
    {
     "name": "stdout",
     "output_type": "stream",
     "text": [
      "512\n",
      "512\n"
     ]
    }
   ],
   "source": [
    "class FastExponential:\n",
    "    # Approach described above\n",
    "    def power(self, n:int, k:int)->int:\n",
    "        if k == 0:\n",
    "            return 1\n",
    "        x = self.power(n, int(k/2))\n",
    "        if k % 2 == 0:\n",
    "            return x*x\n",
    "        else:\n",
    "            return x*x*n\n",
    "    \n",
    "    # In term of TC this is better approach(log3k) but in SC (2log3k)\n",
    "    def powApproach2(self, n:int, k:int)->int:\n",
    "        if k == 0:\n",
    "            return 1\n",
    "        x = self.powApproach2(n, int(k/3))\n",
    "        if k % 3 == 0:\n",
    "            return x*x*x\n",
    "        elif k % 3 == 1:\n",
    "            return x*x*x*n\n",
    "        elif k % 3 == 2:\n",
    "            return x*x*x*n*n\n",
    "            \n",
    "\n",
    "obj = FastExponential()\n",
    "print(obj.power(2, 9))\n",
    "print(obj.powApproach2(2, 9))\n"
   ]
  },
  {
   "cell_type": "code",
   "execution_count": null,
   "id": "9843a474-db56-4571-8cac-295845b7aea8",
   "metadata": {},
   "outputs": [],
   "source": []
  }
 ],
 "metadata": {
  "kernelspec": {
   "display_name": "Python 3 (ipykernel)",
   "language": "python",
   "name": "python3"
  },
  "language_info": {
   "codemirror_mode": {
    "name": "ipython",
    "version": 3
   },
   "file_extension": ".py",
   "mimetype": "text/x-python",
   "name": "python",
   "nbconvert_exporter": "python",
   "pygments_lexer": "ipython3",
   "version": "3.10.9"
  }
 },
 "nbformat": 4,
 "nbformat_minor": 5
}
