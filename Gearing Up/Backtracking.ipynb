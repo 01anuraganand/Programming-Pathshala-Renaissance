{
 "cells": [
  {
   "cell_type": "markdown",
   "id": "65bab817-ee67-4efa-92e4-5c77a01dcbf6",
   "metadata": {},
   "source": [
    "## Permutations of a String - 1\n",
    "\n",
    "<div class=\"subtopic-lecture-notes\"><p>Permutation of a string ‘S’ is the rearrangement of its elements such that there is a one-to-one correspondence with the string itself. A string of length ‘N’ containing all distinct elements has ‘N!’ permutations.&nbsp;</p><p>In this lecture, we will learn the fundamentals of backtracking and will see how we can apply it to print all the permutations of a string.&nbsp;</p><p><strong>Approach:</strong><strong>&nbsp;</strong></p><ol><li><strong>Recursion: </strong>We can place all the ‘N’ characters one by one at the zero index and then move on to the further indices to place the available characters respectively. <br><br><strong>Disadvantage:</strong> Using call by value leads to enormous memory usage and if we use call by reference then the string changes during each function call. Because of this, we may not be able to print all the permutations.<br><strong>Solution: </strong>Use backtracking &amp; call by reference. <br></li></ol><figure><img src=\"https://i.imgur.com/kStX7S1.jpg\" height=\"auto\" width=\"600px\" alt=\"Recursion Tree\"></figure><p><br></p><ol><li><strong>Backtracking:</strong> It states to -&nbsp;\n",
    "    <ol><li><strong>Do something:</strong> If ‘i’ points to the current index, then perform the operation swap(s[i], s[j]) where i&lt;=j&lt;N to generate different permutations.&nbsp;</li><li><strong>Recurse: </strong>Permute(s, i+1); &nbsp;//make the recursive call for the next index</li><li><strong>Undo that thing: </strong>Now we have to undo the previous swapping operation i.e. unswap(s[i], s[j]) where i&lt;=j&lt;N&nbsp;</li></ol></li></ol><figure><img src=\"https://i.imgur.com/2TC4mVn.jpg\" height=\"auto\" width=\"600px\" alt=\"Backtracking\"></figure><p>Time complexity:<strong> O(N!) = O(N^</strong><strong>N</strong><strong>)</strong></p><p><strong>Note: </strong>A string ‘t’ is a permutation of a string ‘s’ if and only if ‘t’ contains all the characters of ‘s’.&nbsp;</p></div></div>"
   ]
  },
  {
   "cell_type": "code",
   "execution_count": 145,
   "id": "c3556198-7bbf-4f87-af28-0e428cb7edf5",
   "metadata": {},
   "outputs": [
    {
     "name": "stdout",
     "output_type": "stream",
     "text": [
      "ABC\n",
      "ACB\n",
      "BAC\n",
      "BCA\n",
      "CBA\n",
      "CAB\n"
     ]
    }
   ],
   "source": [
    "class PermutationString1:\n",
    "    def recursion_backtracking(self,index:int, s:list)->None:\n",
    "        if index == len(s):\n",
    "            print(\"\".join(s))\n",
    "            return\n",
    "        for idx in range(index, len(s)):\n",
    "            s[index], s[idx] = s[idx], s[index]\n",
    "            self.recursion_backtracking(index+1, s)\n",
    "            s[index], s[idx] = s[idx], s[index]\n",
    "    \n",
    "obj = PermutationString1()\n",
    "s = \"ABC\"\n",
    "slist = list(s)\n",
    "obj.recursion_backtracking(0, slist)  "
   ]
  },
  {
   "cell_type": "markdown",
   "id": "0b98ea7d-3fb0-489d-aae5-ed8052edf03b",
   "metadata": {},
   "source": [
    "## Permutations of a String - 2\n",
    "<div class=\"subtopic-lecture-notes\"><p>In this lecture, we will consider another version of the previous problem, here we are given a string ‘s’ and we need to print all the permutations of that string in lexicographic order.<br><br><u>Lexicographic order</u> also known as lexical order is generally the ascending order of strings based on the characters &amp; symbols.&nbsp;</p><p>Eg. ABC &lt; ACB &lt; BAC &lt; BCA &lt; CAB &lt; CBA<br><br><strong>Approach:</strong></p><ul><li>Use recursion &amp; backtracking to generate all the permutations and store them in a vector. Sort the vector to print all the different permutations in lexicographic order.<br>\n",
    "Time complexity: O(N! + NlogN) = O(N!)<br>\n",
    "Space complexity: O(N!)</li><li>If we carefully analyse the approach followed in the previous lecture, we got non-lexicographic permutations only in the cases where the portion of the string, rightward to our current index is unsorted. As indicated in the below recursion tree diagram:</li></ul><figure><img src=\"https://i.imgur.com/edM4Zx3.jpg\" height=\"auto\" width=\"600px\" alt=\"Recursion Tree\"></figure><p>As evident from the above diagram, we need to sort the array from index ‘i+1’ to ‘j’ after swapping s[i] &amp; s[j]. Is there a better way to do it?</p><ul><li>Since we know that the initial array is already sorted, we can do it intelligently by right rotating the array elements from ‘i’ to ‘j’ by one unit.<br><br><strong>Do:</strong> Right rotate the array by one unit<br><strong>Recurse: </strong>Permute(s, i+1);<br><strong>Undo: </strong>Left rotate the array by one unit<br><br>\n",
    "Previous: ...<u>a</u> b c d <u>e</u> f…<br>\n",
    "Now: ...<u>e</u> <u>a</u> b c d f...<br>\n",
    "This way we can easily print all the permutations in lexicographic order. &nbsp;</li></ul></div></div>"
   ]
  },
  {
   "cell_type": "code",
   "execution_count": 163,
   "id": "7d620096-a6f3-4dd9-a247-68df42c9691c",
   "metadata": {},
   "outputs": [
    {
     "name": "stdout",
     "output_type": "stream",
     "text": [
      "123\n",
      "132\n",
      "213\n",
      "231\n",
      "312\n",
      "321\n"
     ]
    }
   ],
   "source": [
    "class PermutationString2:\n",
    "    def rightRotate(self, s:list, startIdx:int, endIdx:int)->None:\n",
    "        temp = s[endIdx]\n",
    "        for i in range(endIdx, startIdx, -1):\n",
    "            s[i] = s[i-1]\n",
    "        s[startIdx] = temp\n",
    "    \n",
    "    def leftRotate(self, s:list, startIdx:int, endIdx:int)->None:\n",
    "        temp = s[startIdx]\n",
    "        for i in range(startIdx, endIdx):\n",
    "            s[i] = s[i+1]\n",
    "        s[endIdx] = temp\n",
    "        \n",
    "    def recursive_backtracking(self, index:int, s:list)->None:\n",
    "        if index == len(s):\n",
    "            print(\"\".join(s))\n",
    "            return \n",
    "        for idx in range(index, len(s)):\n",
    "            self.rightRotate(s, index, idx)\n",
    "            self.recursive_backtracking(index+1, s)\n",
    "            self.leftRotate(s, index, idx)\n",
    "\n",
    "obj = PermutationString2()\n",
    "s = list(\"123\")\n",
    "#obj.rightRotate(s, 0, 3)\n",
    "#obj.leftRotate(s, 0, 3)\n",
    "#print(s)\n",
    "obj.recursive_backtracking(0, s)\n",
    "        "
   ]
  },
  {
   "cell_type": "markdown",
   "id": "96efe59c-a1ff-470c-82fd-c034f067b75b",
   "metadata": {},
   "source": [
    "## Permutations of a String - 3\n",
    "<div class=\"subtopic-lecture-notes\"><p>In this lecture, we will discuss an advanced version of the “Permutation of a String” problem. Here, we have been given a string ‘s’ with non-distinct characters and we have to print all its permutations.&nbsp;</p><p>If ‘N’ is the length of a string and ‘a’, ‘b’ is the no. of repetitions of two different characters then the no. of permutations will be = N!/(a!*b!)</p><p>Eg. For s=”ababc” <br>\n",
    "Number of Permutations = 5!/(2!*2!) = 30</p><p><strong>Approach:</strong><strong> <br><br></strong><strong>What problem can arise if we follow the approach used in the previous two lectures?</strong></p><p>It can lead to repetitions as evident from the below recursion tree diagram. The repetitions occur in two cases:&nbsp;</p><ul><li>If we are swapping a character with itself. Eg. Node 1 &amp; 3. <br>\n",
    "In Node 3 we swapped ‘a’ with ‘a’, thus leading to the same left(‘a’) &amp; right(P(“bab”)) halves and the same set of permutations later on.&nbsp;</li><li>If we are swapping the current index with the same character that we had swapped it earlier with. &nbsp;<br>\n",
    "Eg. Node 2 &amp; 4. In Node 2 we swapped ‘a’ with ‘b’ &amp; in node 4 we again swapped ‘a’ with ‘b’, thus leading to the same left(‘b) &amp; right halves and the same set of permutations later on.<br><strong>How same right halves? </strong>Since, P(“aab”) = P(“baa”) = {“baa”, “aba”, “aab”}&nbsp;</li></ul><figure><img src=\"https://i.imgur.com/CBXCpwQ.jpg\" height=\"auto\" width=\"600px\" alt=\"Backtracking\"></figure><p>Therefore we have to account for the above two cases while writing the code. To implement this, we can maintain an array to keep track of all the swapped characters and we can swap s[‘i’] with s[‘j’] only if(frequency[s[j]-’a’]==0). After swapping we can increment the frequency of s[‘j’] so that the same character is not swapped again at its future occurrences.&nbsp;</p></div></div>"
   ]
  },
  {
   "cell_type": "code",
   "execution_count": 162,
   "id": "187dfb89-e157-4b98-a9bb-39890bc859b4",
   "metadata": {},
   "outputs": [
    {
     "name": "stdout",
     "output_type": "stream",
     "text": [
      "abab\n",
      "abba\n",
      "aabb\n",
      "baab\n",
      "baba\n",
      "bbaa\n"
     ]
    }
   ],
   "source": [
    "class Permutation3:\n",
    "    def recursive_backtracking(self, index:int, s:list[str])->None:\n",
    "        if index == len(s):\n",
    "            print(''.join(s))\n",
    "            return \n",
    "        alphabetFreq = [0]*26\n",
    "        for idx in range(index, len(s)):\n",
    "            if alphabetFreq[ord(s[idx]) - ord('a')] == 0:\n",
    "                s[index], s[idx] = s[idx], s[index]\n",
    "                self.recursive_backtracking(index+1, s)\n",
    "                s[index], s[idx] = s[idx], s[index]\n",
    "            alphabetFreq[ord(s[idx])- ord('a')] += 1\n",
    "\n",
    "obj = Permutation3()\n",
    "s = \"abab\"\n",
    "slist = list(s)\n",
    "obj.recursive_backtracking(0, slist)\n",
    "\n",
    "                \n",
    "            \n",
    "        "
   ]
  },
  {
   "cell_type": "code",
   "execution_count": 161,
   "id": "b849af64-ca8c-481c-8162-b67dd060ca73",
   "metadata": {},
   "outputs": [
    {
     "name": "stdin",
     "output_type": "stream",
     "text": [
      " abab\n"
     ]
    },
    {
     "name": "stdout",
     "output_type": "stream",
     "text": [
      "a b a b\n",
      "a b b a\n",
      "a a b b\n",
      "b a a b\n",
      "b a b a\n",
      "b b a a\n"
     ]
    }
   ],
   "source": [
    "s = input()\n",
    "sArr = list(s)\n",
    "    \n",
    "def permute(sArr, idx):\n",
    "    if (idx == len(sArr)):\n",
    "        print(*sArr)\n",
    "    \n",
    "    freq = [0]*26  \n",
    "    for j in range(idx, len(sArr)):\n",
    "        if (freq[ord(sArr[j]) - ord('a')] == 0):\n",
    "            sArr[idx], sArr[j] = sArr[j], sArr[idx]\n",
    "            permute(sArr, idx+1)\n",
    "            sArr[idx], sArr[j] = sArr[j], sArr[idx]\n",
    "            \n",
    "        freq[ord(sArr[j]) - ord('a')] += 1\n",
    "\n",
    "permute(sArr, 0)"
   ]
  },
  {
   "cell_type": "markdown",
   "id": "571441a3-9c6a-4b95-8f53-14206a0be732",
   "metadata": {},
   "source": [
    "## Paths - 1\n",
    "<div class=\"subtopic-lecture-notes\"><p>We have been given a 2D matrix of dimension NxN with source(0,0) and destination(N-1, N-1). The matrix is filled with 0s &amp; 1s, where ‘0’ indicates the cells that can be used for traversal while ‘1’ represents the cells that are not safe to travel. We have to print all the possible paths to reach from the source to the destination given that the steps are restricted to one unit rightwards or downwards at a time.&nbsp;</p><figure><img src=\"https://i.imgur.com/XdtklFA.png\" alt=\"Grid\" width=\"600px\" height=\"auto\"></figure><p><strong>Approach:</strong></p><ul><li><strong>How do we print a path? </strong>We can print the sequence of cells (i, j) in a valid path by storing them in a vector of pairs &lt;vector&lt;pair&lt;int, int&gt;&gt;&gt;<br><br><strong>Do: </strong>Push the cell in the vector if it is safe(‘0’) to travel<br><strong>Recurse: </strong>Move right &amp; recurse<br>\n",
    "&nbsp;&nbsp;&nbsp;&nbsp;&nbsp;&nbsp;&nbsp;&nbsp;&nbsp;&nbsp;&nbsp;&nbsp;&nbsp;&nbsp;&nbsp;Move down &amp; recurse<br><em>Note: Ensure that the right or down move is possible - boundary conditions</em><br><strong>Undo:</strong> Pop the cell from the vector</li><li><strong>Termination Condition: </strong>if(i==N-1 and i==j){ print(path); return; }&nbsp;</li></ul></div></div>"
   ]
  },
  {
   "cell_type": "code",
   "execution_count": 56,
   "id": "931f7329-01e6-4b88-a857-b9a19e36295e",
   "metadata": {},
   "outputs": [
    {
     "name": "stdout",
     "output_type": "stream",
     "text": [
      "[[0, 0], [0, 1], [1, 1], [2, 1], [3, 1], [3, 2], [3, 3]]\n",
      "[[0, 0], [1, 0], [1, 1], [2, 1], [3, 1], [3, 2], [3, 3]]\n"
     ]
    }
   ],
   "source": [
    "class Path1:\n",
    "    def solution(self, i:int, j:int, matrix:list, n:int, ds:list)->None:\n",
    "        if matrix[i][j] == 1:\n",
    "            return ;\n",
    "        if i >= n or j>= n:\n",
    "            return\n",
    "        if i == n-1 and j == n-1:\n",
    "            ds.append([i, j])\n",
    "            print(ds)\n",
    "            ds.pop()\n",
    "            return \n",
    "        \n",
    "        ds.append([i, j])\n",
    "        \n",
    "        if i == n-1:\n",
    "            self.solution(i, j+1, matrix, n, ds)\n",
    "        elif j == n-1:\n",
    "            self.solution(i+1, j, matrix, n, ds)\n",
    "        else:\n",
    "            self.solution(i, j+1, matrix, n, ds)\n",
    "            self.solution(i+1, j, matrix, n, ds)\n",
    "        ds.pop()\n",
    "        \n",
    "matrix = [\n",
    "    [0, 0, 1, 1],\n",
    "    [0, 0, 1, 0],\n",
    "    [1, 0, 1, 1],\n",
    "    [0, 0, 0, 0]\n",
    "]\n",
    "obj = Path1()\n",
    "ds = []\n",
    "obj.solution(0, 0, matrix, len(matrix),ds)"
   ]
  },
  {
   "cell_type": "markdown",
   "id": "8c0dbf66-b853-4c90-92a5-0714bd72c30a",
   "metadata": {},
   "source": [
    "## Paths - 2\n",
    "<div class=\"subtopic-lecture-notes\"><p>Here, we have been given a 2D maze of dimension NxN containing 4 digits: 0(safe to travel), 1(source), 2(destination), -1(unsafe to travel). We have to print the count of distinct paths from the source to the destination considering that at a time we can move only one unit in any of the four directions.<br><br><strong>Approach:&nbsp;</strong></p><ul><li>If we know the number of distinct valid paths originating from all the first moves i.e. top(x), down(y), left(z) and right(w) from the source then the answer will be x+y+z+w.&nbsp;</li><li>In the previous question, each of our moves were progressive &amp; it was impossible to go back. But here a step against the destination can also be taken. This can lead to a problem as we can revisit the same cell multiple times leading to an infinite loop. &nbsp;</li></ul><figure><img src=\"https://i.imgur.com/L3jVO4u.png\" height=\"auto\" width=\"600px\" alt=\"Paths-1\"></figure><p><br></p><ul><li>Therefore, we need to keep track of all the cells that have been visited. For this, we can use a boolean 2D array and mark the cells once they are visited. <br>\n",
    "Can it lead to any problem?</li><li>Hence, we have to use backtracking<br><strong>Do:</strong> Visit a cell and mark visited<br>\n",
    "Move one unit in all four directions &amp; recurse<br><strong>Note: </strong>Keep a check on the boundary conditions while recursing in different directions<br><strong>Undo: </strong>Unmark the cell once the recursion call is complete</li></ul></div></div>"
   ]
  },
  {
   "cell_type": "code",
   "execution_count": 93,
   "id": "b83fbbbe-5ab1-4143-9fb4-911fff562a12",
   "metadata": {},
   "outputs": [
    {
     "ename": "SyntaxError",
     "evalue": "invalid syntax (758266095.py, line 1)",
     "output_type": "error",
     "traceback": [
      "\u001b[1;36m  Cell \u001b[1;32mIn[93], line 1\u001b[1;36m\u001b[0m\n\u001b[1;33m    Wrong Answer\u001b[0m\n\u001b[1;37m          ^\u001b[0m\n\u001b[1;31mSyntaxError\u001b[0m\u001b[1;31m:\u001b[0m invalid syntax\n"
     ]
    }
   ],
   "source": [
    " Wrong Answer\n",
    "class Path2:\n",
    "    def solution(self, i:int, j:int, matrix:list, visited:list)->int:\n",
    "        if matrix[i][j] == 2:\n",
    "            return 1\n",
    "        if matrix[i][j] == -1:\n",
    "            return 0\n",
    "        visited[i][j] = 1\n",
    "        \n",
    "        sum = 0\n",
    "        if(i+1 >= 0 and i+1 <len(matrix) and not visited[i+1][j]):\n",
    "            sum += self.solution(i+1, j, matrix, visited)\n",
    "            \n",
    "        if(j+1 >= 0 and j+1 <len(matrix[0]) and not visited[i][j+1]):\n",
    "            sum += self.solution(i, j+1, matrix, visited)\n",
    "        \n",
    "        if(i-1 >= 0 and i-1 <len(matrix) and not visited[i-1][j]):\n",
    "            sum += self.solution(i-1, j, matrix, visited)\n",
    "        \n",
    "        if(j-1 >= 0 and j-1 <len(matrix[0]) and not visited[i][j-1]):\n",
    "            sum += self.solution(i, j-1, matrix, visited)\n",
    "        \n",
    "        visited[i][j] = 0;\n",
    "        return 0+ sum\n",
    "    \n",
    "\"\"\"       \n",
    "matrix = [\n",
    "    [0, 1, 0],\n",
    "    [0, 0, 0], \n",
    "    [0, 2, -1]\n",
    "]\"\"\"\n",
    "matrix = [[1,0,0,0],[0,0,0,0],[0,0,0,2]]\n",
    "visited =[ [0 for j in range(len(matrix[0]))] for i in range(len(matrix))]\n",
    "\n",
    "obj = Path2()\n",
    "for i in range(len(matrix)):\n",
    "    for j in range(len(matrix[0])):\n",
    "        if matrix[i][j] == 1:\n",
    "            print(obj.solution(i, j, matrix, visited))\n",
    "            break\n"
   ]
  },
  {
   "cell_type": "markdown",
   "id": "f91a8d51-297a-4f66-bc0a-06bcccd6ca19",
   "metadata": {},
   "source": [
    "## N-Queens\n",
    "<div class=\"subtopic-lecture-notes\"><p>Place ‘N’ Queens on an NxN chessboard such that no queen attacks other queens. &nbsp;</p><p><strong>Approach:</strong></p><ul><li>For N=1&nbsp;</li></ul><figure><img src=\"https://i.imgur.com/SFQDtOH.jpg\" height=\"auto\" width=\"auto\" alt=\"N=1\"></figure><p><br></p><ul><li>For N=2, Not possible<br></li></ul><figure><img src=\"https://i.imgur.com/aVfbxz0.jpg\" height=\"auto\" width=\"auto\" alt=\"N=2\"></figure><p><br></p><ul><li>For N=3, Not possible&nbsp;</li></ul><figure><img src=\"https://i.imgur.com/3wiubVZ.jpg\" height=\"auto\" width=\"auto\" alt=\"N=3\"></figure><p><br></p><ul><li>For N=4, 2 possibilities&nbsp;</li></ul><figure><img src=\"https://i.imgur.com/5jlMOg3.jpg\" height=\"auto\" width=\"auto\" alt=\"N=4\"></figure><p><br></p><ul><li>We can use recursion and backtracking to place the queens row-wise in such a way that they do not attack each other. If there are no possible configurations then we should return 0 otherwise add them in the count.&nbsp;</li><li>We can return the configuration of the queens by storing it in a 2D vector.&nbsp;</li><li><strong>Do:</strong> Place a queen in a cell of a row<br><strong>Recurse: </strong>Make a recursion call for that placement of the queen<br><strong>Undo: </strong>Remove the queen from that cell</li><li>During recursion, there are multiple states where exploring each node can be a waste of time as the queen placement may not be appropriate in the beginning only. Therefore we can prune off these unnecessary states by using an isSafe method.&nbsp;</li></ul><p><code>bool isSafe(int i, int j){<br>\n",
    "&nbsp;intx = i-1;<br>\n",
    "&nbsp;&nbsp;while(x&gt;=0){ &nbsp;&nbsp;//check in same column<br>\n",
    "&nbsp;if(arr[x][j]==1){<br>\n",
    "&nbsp;&nbsp;&nbsp;return false;<br>\n",
    "}<br>\n",
    "x--;<br>\n",
    "x = i-1;<br>\n",
    "nt y = j-1;</code></p><p><code>while(x&gt;=0 and y&gt;=0){ //check in principal diagonal<br>\n",
    "&nbsp;&nbsp;&nbsp;if(arr[x][y]==1){<br>\n",
    "&nbsp;&nbsp;&nbsp;return false;<br>\n",
    "}<br>\n",
    "x--; y--;<br>\n",
    "}<br>\n",
    "x = i-1;<br>\n",
    "y = j+1;<br>\n",
    "while(x&gt;=0 and y&lt;n){ &nbsp;//check in secondary diagonal<br>\n",
    "if(arr[x][j]==1){<br>\n",
    "return;<br>\n",
    "}<br>\n",
    "x--; y++;<br>\n",
    "}<br>\n",
    "return true;<br>\n",
    "}</code></p></div></div>"
   ]
  },
  {
   "cell_type": "code",
   "execution_count": 142,
   "id": "4be901a6-c011-4095-8c0c-7e9692f7a918",
   "metadata": {},
   "outputs": [
    {
     "name": "stdout",
     "output_type": "stream",
     "text": [
      "[['.', 'Q', '.', '.'], ['.', '.', '.', 'Q'], ['Q', '.', '.', '.'], ['.', '.', 'Q', '.']]\n",
      "[['.', '.', 'Q', '.'], ['Q', '.', '.', '.'], ['.', '.', '.', 'Q'], ['.', 'Q', '.', '.']]\n"
     ]
    }
   ],
   "source": [
    "class NQueen:\n",
    "    \n",
    "    def isSafe(self, i:int, j:int, state:list)->bool:\n",
    "        # check vertical upright\n",
    "        row = i-1\n",
    "        col = j\n",
    "        while row >= 0:\n",
    "            if state[row][col] == 'Q':\n",
    "                return False;\n",
    "            row -= 1\n",
    "        \n",
    "    \n",
    "        # check diagonal left\n",
    "        row = i-1\n",
    "        col = j-1\n",
    "        while row >= 0 and col >= 0:\n",
    "            if state[row][col] == 'Q':\n",
    "                return False\n",
    "            row -= 1\n",
    "            col -= 1\n",
    "        \n",
    "        # check diagonal right\n",
    "        row = i-1\n",
    "        col = j+1\n",
    "        while row >= 0 and col < len(state):\n",
    "            if state[row][col] == 'Q':\n",
    "                return False\n",
    "            row -= 1\n",
    "            col += 1\n",
    "            \n",
    "        return True\n",
    "\n",
    "    def solution(self, row:int,  state:list[str])->None:\n",
    "        if row == len(state):\n",
    "            print(state, sep = \"\\t\")\n",
    "            return \n",
    "        \n",
    "        for col in range(len(state[0])):\n",
    "            if self.isSafe(row, col, state):\n",
    "                state[row][col] = 'Q';\n",
    "                self.solution(row+1, state)\n",
    "                state[row][col] = '.' \n",
    "\n",
    "obj = NQueen()\n",
    "\n",
    "N = 4\n",
    "state =[['.' for _ in range(N)] for _ in range(N)]\n",
    "obj.solution(0, state)                "
   ]
  },
  {
   "cell_type": "markdown",
   "id": "43274819-4141-4e68-9bfc-d5bab0621ff0",
   "metadata": {},
   "source": [
    "## Sudoku Solver\n",
    "\n",
    "<div class=\"subtopic-lecture-notes\"><p>Sudoku Solver:-&nbsp;</p><p>You have given a board(matrix) of 9 * 9. some cells are filled and some cells are empty. You need to fill those empty cells in such a way that every row and column should contain all the numbers from 1 to 9, any row or column should not contain duplicate values and the 3 * 3 submatrices should also contain &nbsp;all the numbers from 1 to 9 and no duplicate value should be present.</p><p>Eg.&nbsp;</p><p>Given the sudoku board.</p><p>&nbsp;</p><figure><img src=\"https://lh6.googleusercontent.com/1C3zb-Sq58LRL6l1KGryvwo2lZQisek_BsNpijVqqPlsbEuRp1PfoVC5thpJMOHq0ddIgrPf5c3ut645_Zeob1rKDeCV_2A4uqx4nS3UFWTcraKt4zoJUCbtQn1wRwIglDdZuOzlsTQ-u2mkwaOlqLwfIPTXBj41xD2VtXkAoFSkPS_ZLJSQL0liyILlfQ\" alt=\"\" height=\"\" width=\"\"><br><br></figure><p>One of the solutions is shown below.</p><p><br></p><figure><img src=\"https://lh5.googleusercontent.com/MeSsmahI_IDHRCpBrcCE-LHvuBM7GolQv8SPnJ17fzIENoi7jMaaaPpWOk0QaHuJhufdzfJ8JknzNCKHVQ_7won5cL4YhV7r93C2b8eacV1W5ADzzi2NU90EpRjQNrjYkShIZwBlzSkMWq8ZbZBRL37qjanGFYZZgm16tRFELDu_ByCPJC_uWp3VRQcQZQ\" alt=\"\" height=\"\" width=\"\"><br></figure><p>Approach:-&nbsp;</p><p>We can solve this problem by using a backtracking algorithm, where we will try to put every value from 1 to 9 and while putting the values, check the condition that our sudoku board is valid or not. By doing this, we are removing the useless choices. At any point, if there is no possible solution from that point, we'll backtrack from the process and try to put some other values. If we are able to fill all the empty cells without violating the rules of the sudoku board, our sudoku board is solved, and we return that grid.<br></p><p>Algorithm:-&nbsp;</p><ol><li><br></li></ol><p>Start from (0,0) cells, and check if it is not empty move to (0,1) else try to put values from 1 to 9 by which our sudoku board is valid and move to the next cell. Do it recursively.</p><ol><li><br></li></ol><p>Take care of the next cell. When we will be at the last column of any row, then move to the next row cell.</p><ol><li><br></li></ol><p>At any point, if we are not able to put any values at that cell, then backtrack the process.</p><ol><li><br></li></ol><p>The base case is when we reach the 9th row, our board would be completely filled, then return that board.<br></p><p>&nbsp;Check conditions while putting values on the board:-</p><ol><li><br></li></ol><p>Check in the same row whether the same value is present or not. If present, return false.</p><ol><li><br></li></ol><p>Check in the same column whether the same value is present or not. If present, return false.</p><ol><li><br></li></ol><p>Check in the 3 * 3 submatrix, in which this row and column belong. If the row is i and the column is j, then starting cell of the submatrix will be [ (i /3 ) * 3, (j / 3) * 3 ]. &nbsp;If present, return false.</p><ol><li><br></li></ol><p>If all the above conditions are true, return true at last.<br></p><p>In the check condition function, we are iterating the row and column of the board and submatrix for checking the condition, can we do it in a better way?</p><p>Yes, we can do this by taking three matrices. First will store whether a particular value is present in a particular row or not. The second will store whether a particular value is present in a particular column or not. The third will store whether the particular value is present in a particular submatrix or not:</p><ol><li><br></li></ol><p>rowf</p><ol><li><br></li></ol><p>columnf</p><ol><li><br></li></ol><p>matrixf<br></p><p>Pseudo code:-&nbsp;</p><p>&nbsp;&nbsp;void solveSudoku (board) {</p><p>bool ansFound = false;</p><p>vector &lt;vector&lt;int&gt;&gt; rowf , columnf, matrixf;</p><p>for(int i = 0; i &lt; 9; i++){</p><p>vector&lt;int&gt; vec(9,0);</p><p>for(int j = 0; j &lt; 9; j++){</p><p>if(board[i][j] != 0) vec[board[i][j]-1]++;</p><p>}</p><p>rowf.push_back(vec);</p><p>}</p><p>for(int j = 0; j &lt; 9; j++){</p><p>vector&lt;int&gt;vec(9,0);</p><p>for(int i = 0; i &lt; 9; i++){</p><p>if(board[i][j] != 0) vec[board[i][j]-1]++;</p><p>}</p><p>columnf.push_back(vec);</p><p>}</p><p>for(int i = 0; i &lt; 9; i+=3){</p><p>for(int j = 0; j &lt; 9; j+=3){</p><p>vector&lt;int&gt;vec(9,0);</p><p>for(int i1 = i; i1 &lt; i + 3; i1++) {</p><p>for(int j1 = j; j1 &lt; j + 3; j1++) {</p><p>if(board[i1][j1] != 0) vec[board[i1][j1]-1]++;</p><p>}</p><p>}</p><p>matrixf.push_back(vec);</p><p>}</p><p>}</p><p>vector&lt;vector&lt;int&gt;&gt;ans;</p><p>SS(board, 0, 0, ansFound, rowf, columnf, matrixf, ans);</p><p>board &nbsp;= ans; &nbsp;// copy the final answer to the board</p><p>}<br></p><p>void SS(board, i, j, ansFound, rowf, columnf, matrixf, ans){</p><p>if(ansFound){</p><p>return;</p><p>}</p><p>if(i == 9) {</p><p>&nbsp;&nbsp;&nbsp;ansFound = true;</p><p>ans = board;</p><p>return;</p><p>}</p><p>if(board[i][j] != 0) {</p><p>if(j &lt; 8) SS(board, i, j + 1, ansFound, rowf , columnf , matrixf, ans);</p><p>// next cell of same row<br></p><p>&nbsp;&nbsp;&nbsp;else SS(board, i+1, 0, ansFound, rowf, columnf, matrixf, ans);</p><p>// first cell of next row</p><p>}<br></p><p>int matrixNumber = getSubmatrixNum(i,j);</p><p>// first submatrix is 0 , second is 1 , third is 2 and so on till the board . <br></p><p>for(int val = 1 to 9) {</p><p>if(rowf[i][val-1] == 0 and columnf[j][val-1] == 0 and matrixf[matrixNumber][val-1] == 0)</p><p>{</p><p>board[i][j] = val;</p><p>rowf[i][val-1] = 1;</p><p>columnf[j][val-1] = 1;</p><p>matrixf[matrixNumber][val - 1] = 1;<br></p><p>if(j &lt; 8) SS(board, i , j + 1, ansfound &nbsp;, rowf , colf , matrixf, ans);</p><p>// next cell of same row<br><br></p><p>else SS(board , i + 1 , 0 , ansfound , rowf , colf , matrixf , ans);</p><p>// first cell of next row<br></p><p>board[i][j] = 0;</p><p>rowf[i][val-1] = 0;</p><p>columnf[j][val-1] = 0;</p><p>matrixf[matrixNumber][val - 1] = 0;</p><p>}</p><p>}</p><p>}<br></p><p>&nbsp;</p><p>&nbsp;<br></p><p>&nbsp;<br></p></div></div>"
   ]
  },
  {
   "cell_type": "code",
   "execution_count": 4,
   "id": "6dff5630-7492-44b6-a27c-96bd2bb2adc9",
   "metadata": {},
   "outputs": [
    {
     "ename": "SyntaxError",
     "evalue": "expected ':' (3845858499.py, line 18)",
     "output_type": "error",
     "traceback": [
      "\u001b[1;36m  Cell \u001b[1;32mIn[4], line 18\u001b[1;36m\u001b[0m\n\u001b[1;33m    for i in rage\u001b[0m\n\u001b[1;37m                 ^\u001b[0m\n\u001b[1;31mSyntaxError\u001b[0m\u001b[1;31m:\u001b[0m expected ':'\n"
     ]
    }
   ],
   "source": [
    "class Suduko:\n",
    "    def getMatrixNum(self, i:int, j:int)->int:\n",
    "        if i < 3:\n",
    "            if j < 3:return 0\n",
    "            if j < 6:return 1\n",
    "            if j < 9: return 2\n",
    "        if i < 6:\n",
    "            if j < 3: return 3\n",
    "            if j < 6: return 4\n",
    "            if j < 9: return 5\n",
    "        if i < 9:\n",
    "            if j < 3: return 6\n",
    "            if j < 6: return 7\n",
    "        return 8\n",
    "    \n",
    "    def solveSudoku(self, matrix:list[str])->None:\n",
    "        board = [[0 for _ in range(0,9)] for _ in range(0, 9)]\n",
    "        for i in range(9):\n",
    "            for j in range(9):\n",
    "                if matrix[i][j] != '.':\n",
    "                    board[i][j] = matrix[i][j] - ord('0')\n",
    "        ansFound = False\n",
    "        rf = cf = mf = list()\n",
    "        \n",
    "        for i in range(9):\n",
    "            lst = [0]*9\n",
    "            for j in range(9):\n",
    "                if board[i][j] != 0:\n",
    "                    lst[board[i][j] - 1]++\n",
    "                \n",
    "            \n",
    "        "
   ]
  },
  {
   "cell_type": "code",
   "execution_count": 7,
   "id": "535d5a7a-11e3-4070-91e6-08c1ea0f73b0",
   "metadata": {},
   "outputs": [
    {
     "data": {
      "text/plain": [
       "[['.', '.', '.', '.', '.', '.', '.', '.', '.'],\n",
       " ['.', '.', '.', '.', '.', '.', '.', '.', '.'],\n",
       " ['.', '.', '.', '.', '.', '.', '.', '.', '.'],\n",
       " ['.', '.', '.', '.', '.', '.', '.', '.', '.'],\n",
       " ['.', '.', '.', '.', '.', '.', '.', '.', '.'],\n",
       " ['.', '.', '.', '.', '.', '.', '.', '.', '.'],\n",
       " ['.', '.', '.', '.', '.', '.', '.', '.', '.'],\n",
       " ['.', '.', '.', '.', '.', '.', '.', '.', '.'],\n",
       " ['.', '.', '.', '.', '.', '.', '.', '.', '.']]"
      ]
     },
     "execution_count": 7,
     "metadata": {},
     "output_type": "execute_result"
    }
   ],
   "source": [
    "matrix = [['.' for _ in range(0,9)] for _ in range(0, 9)]\n",
    "matrix"
   ]
  }
 ],
 "metadata": {
  "kernelspec": {
   "display_name": "Python 3 (ipykernel)",
   "language": "python",
   "name": "python3"
  },
  "language_info": {
   "codemirror_mode": {
    "name": "ipython",
    "version": 3
   },
   "file_extension": ".py",
   "mimetype": "text/x-python",
   "name": "python",
   "nbconvert_exporter": "python",
   "pygments_lexer": "ipython3",
   "version": "3.10.9"
  }
 },
 "nbformat": 4,
 "nbformat_minor": 5
}
