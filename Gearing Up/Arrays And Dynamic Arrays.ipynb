{
 "cells": [
  {
   "cell_type": "markdown",
   "id": "4cec61e7-8fd0-46fa-8f3f-68768ea594e9",
   "metadata": {},
   "source": [
    "### Fundamental \n",
    "<div class=\"subtopic-lecture-notes\"><p>An <strong>array</strong> is a collection of elements of the same data type stored in <u>contiguous memory cells</u>. It has a <u>fixed size</u> and is by default <u>passed by reference</u> to a function.&nbsp;</p><p><code>Eg. int arr[6] = {4, -3, 8, 5, -1, 6};</code></p><p>It initializes an integer array 'arr' storing 6 elements.&nbsp;</p><p><em>Assuming the size of an integer to be 4 bytes and base cell address to be 2000. It can be represented as -&nbsp;</em></p><figure><img src=\"https://i.imgur.com/E93uW83.jpg\" height=\"auto\" width=\"500px\" alt=\"Arrays are stored in contiguous memory cells\"></figure><p>A <strong>dynamic array</strong> is similar to a static array but it has the ability to <u>automatically resize</u> itself when an element is inserted or deleted.&nbsp;</p><p>They are available as <u>vectors in C++</u> and likewise l<u>ists in Java</u>.&nbsp;</p><p><code>Eg. list&lt;int&gt; l;<br>\n",
    "&nbsp;&nbsp;&nbsp;&nbsp;&nbsp;vector&lt;int&gt; v;<br></code></p><p>Vectors are slightly less efficient than static arrays due to the occasional resizing and copying of elements.&nbsp;&nbsp;</p><p>The amortized time complexity of insertion in a dynamic array is O(1).&nbsp;</p><blockquote><strong>[Amortized Time complexity = No. of operations / No. of pushbacks]</strong></blockquote><p>By default, vectors are passed by value to a function.<br><br><em>Note:</em><em> Sometimes you may get TLE on passing vectors to a function. The intention there can be to use Pass by Reference instead of Pass by Value.<br>\n",
    "Pass by Reference: </em><em><strong>O(1)</strong></em><em><br>\n",
    "Pass by Value: </em><em><strong>O(N)</strong></em><em>&nbsp;</em>&nbsp;&nbsp;&nbsp;&nbsp;&nbsp;&nbsp;&nbsp;&nbsp;&nbsp;&nbsp;&nbsp;&nbsp;&nbsp;&nbsp;&nbsp;&nbsp;&nbsp;&nbsp;&nbsp;&nbsp;&nbsp;&nbsp;&nbsp;&nbsp;&nbsp;&nbsp;&nbsp;&nbsp;&nbsp;&nbsp;&nbsp;&nbsp;&nbsp;&nbsp;&nbsp;&nbsp;&nbsp;&nbsp;&nbsp;&nbsp;&nbsp;&nbsp;&nbsp;&nbsp;&nbsp;&nbsp;&nbsp;&nbsp;&nbsp;&nbsp;&nbsp;&nbsp;&nbsp;&nbsp;</p></div>"
   ]
  },
  {
   "cell_type": "markdown",
   "id": "8e00cf18-6e31-406d-a653-b07b726b0b24",
   "metadata": {},
   "source": [
    "### Pre-computation Techniques\n",
    "\n",
    "<div class=\"subtopic-lecture-notes\"><p>In this lecture, we will learn the applications of <strong>pre-computation techniques</strong> like <u>prefix sum</u>, <u>prefix max</u>, <u>suffix max</u> etc. Pre-processing helps in efficiently answering multiple queries and is used with linear data structures like arrays and vectors.</p><p>In the given problem, there is an integer array ‘Arr[N]’ and we have to print the individual sum of ‘Q’ subarrays whose first index - ‘l’ and the last index - ‘r’ is given.</p><p><strong>Approach:</strong></p><ol><li><strong>Brute force </strong>- Create two nested loops to print the sum of different subarrays respectively.<br>\n",
    "Time Complexity: <strong>O(Q*N)<br></strong>Space Complexity: <strong>O(1)<br><br></strong></li><li><strong>Prefix sum </strong>- We can pre-compute the prefix sum of the array and store it in an array PS[N].</li></ol><p>PS[ i ] = Arr[ i ] + PS[ i - 1 ];</p><p>&nbsp;We can then print the sum of subarray(l, r) within O(1) time complexity.</p><p>Sum of Subarray(l, r) = PS[ r ] - PS[ l - 1 ] &nbsp;(l&gt;=1)<br>\n",
    "&nbsp;&nbsp;&nbsp;&nbsp;&nbsp;&nbsp;&nbsp;&nbsp;&nbsp;&nbsp;&nbsp;&nbsp;&nbsp;&nbsp;&nbsp;&nbsp;&nbsp;&nbsp;&nbsp;&nbsp;&nbsp;&nbsp;&nbsp;&nbsp;&nbsp;&nbsp;&nbsp;&nbsp;&nbsp;&nbsp;&nbsp;&nbsp;&nbsp;&nbsp;&nbsp;&nbsp;= PS[ r ] &nbsp;&nbsp;&nbsp;&nbsp;&nbsp;&nbsp;&nbsp;&nbsp;&nbsp;&nbsp;&nbsp;&nbsp;&nbsp;&nbsp;&nbsp;&nbsp;&nbsp;&nbsp;&nbsp;&nbsp;(l==0)</p><p>Time Complexity: <strong>O(N+Q)</strong></p><p>Space Complexity: <strong>O(N)<br></strong></p><p><em>Note: It can also be solved in O(1) space complexity if we use the original array to store the prefix sum.</em>&nbsp;</p></div></div>"
   ]
  },
  {
   "cell_type": "code",
   "execution_count": 1,
   "id": "e2109c30-3cdf-43ab-9644-cbe13fd1f2c7",
   "metadata": {},
   "outputs": [
    {
     "name": "stdout",
     "output_type": "stream",
     "text": [
      "13 25 39 38 29 \n",
      "[5, 13, 13, 22, 25, 44, 51, 54]\n",
      "13 25 39 38 29 None\n"
     ]
    }
   ],
   "source": [
    "class PreComputationTechniques:\n",
    "    def range_sum_brute_foce(self, nums:list, queries:list)->list:\n",
    "        for i in range(len(queries)):\n",
    "            l = queries[i][0]\n",
    "            r = queries[i][1]\n",
    "            sum = 0\n",
    "            for j in range(l, r+1):\n",
    "                sum += nums[j]\n",
    "            print(sum, end = \" \")\n",
    "                \n",
    "    \n",
    "    def range_sum_prefix_sum(self, nums:list, queries:list)->list:\n",
    "        for i in range(1, len(nums)):\n",
    "            nums[i] += nums[i-1]\n",
    "        \n",
    "        for i in range(len(queries)):\n",
    "            l = queries[i][0]\n",
    "            r = queries[i][1]\n",
    "            if l == 0:\n",
    "                print(nums[r], end = \" \")\n",
    "            else:\n",
    "                print(nums[r] - nums[l-1], end = \" \")\n",
    "        print()\n",
    "        return nums\n",
    "        \n",
    "obj = PreComputationTechniques()\n",
    "nums = [5, 8, 0, 9, 3, 19, 7, 3]\n",
    "queries = [[0, 2], [0, 4], [1, 5], [3, 6], [5, 7]]\n",
    "print(obj.range_sum_prefix_sum(nums, queries))\n",
    "nums = [5, 8, 0, 9, 3, 19, 7, 3]\n",
    "print(obj.range_sum_brute_foce(nums, queries))"
   ]
  },
  {
   "cell_type": "markdown",
   "id": "61371a16-ec17-4e13-b818-a205299ee45f",
   "metadata": {},
   "source": [
    "### Maximize the Expression\n",
    "<div class=\"subtopic-lecture-notes\"><p>In this lecture, we will look at another problem based on the pre-computation technique. Here, we have been given an array ‘Arr[N]’ and we have to maximise ‘s’<br><strong>s = p*Arri + q*Arrj + r*Arrk where p, q, r ∈ Z and i &lt; j &lt; k</strong></p><p><strong>Approach:</strong></p><ol><li><strong>Brute force </strong>- Run three nested loops to find the sum of all possible combinations and hence the maximum value of ‘s’.<br>\n",
    "Time Complexity: <strong>O(N^3)</strong><br>\n",
    "Space Complexity: <strong>O(1)<br><br></strong></li><li><strong>How about choosing the first three largest elements to calculate ‘s’?<br></strong>No, it may not work since we are not dealing with positive numbers alone. Let us see an example -<br>\n",
    "Arr[5] = { 1, 2, 3, 4, -5}, p = 1, q = 2, r = -3<br>\n",
    "According to the above approach,<br>\n",
    "s = 1(2) + 2(3) + (-3)(4) = -4, which is not the correct answer.<br><br></li><li><strong>What if we know all the three maximum terms separately?<br></strong>Let a = p*Arri, b = q*Arrj and c = r*Arrk. If we can fix the second term (b) and find the maximum possible value of a &amp; c corresponding to that b. And if we repeat the process for all the possible values of b then we can easily find the maximum value of ‘s’.<br><br>\n",
    "For implementing this, we can create a prefix max(PMAX) and a suffix max(SMAX) array for the first and the third term respectively. We can then iterate on the array for the second term to find the answer.<br><br>\n",
    "ans = max (ans, PMAX[j-1]+q*Arr[j]+SMAX[j+1])<br><br>\n",
    "Time complexity: <strong>O(N)</strong><br>\n",
    "Space complexity: <strong>O(N)&nbsp;</strong></li></ol></div></div>"
   ]
  },
  {
   "cell_type": "code",
   "execution_count": 2,
   "id": "e88cbc65-931f-4728-9e2d-65379f19a23c",
   "metadata": {},
   "outputs": [
    {
     "name": "stdout",
     "output_type": "stream",
     "text": [
      "26\n"
     ]
    },
    {
     "data": {
      "text/plain": [
       "26"
      ]
     },
     "execution_count": 2,
     "metadata": {},
     "output_type": "execute_result"
    }
   ],
   "source": [
    "import sys\n",
    "class MaximizeTheExperession:\n",
    "    def brute_force(self, p:int, q:int, r:int, nums:list)->int:\n",
    "        ans = -sys.maxsize\n",
    "        for i in range(len(nums)):\n",
    "            for j in range(i+1, len(nums)):\n",
    "                for k in range(j+1, len(nums)):\n",
    "                    ans = max(ans, p*nums[i] + q*nums[j] + r*nums[k])\n",
    "        return ans\n",
    "    \n",
    "    def optimized_approach(self, p:int, q:int, r:int, nums:list)->int:\n",
    "        n = len(nums)\n",
    "        prefixMax = [0]*n\n",
    "        suffixMax = [0]*n\n",
    "        prefixMax[0] = nums[0]\n",
    "        suffixMax[n-1] = nums[n-1]\n",
    "        \n",
    "        for i in range(1, n):\n",
    "            prefixMax[i] = max(prefixMax[i-1], nums[i])\n",
    "            \n",
    "        for i in range(n-2, -1, -1):\n",
    "            suffixMax[i] = max(suffixMax[i+1], nums[i])\n",
    "        \n",
    "        ans = -sys.maxsize\n",
    "        for i in range(1, n-1):\n",
    "            ans = max(ans, p*prefixMax[i-1] + q*nums[i] + r*suffixMax[i+1])\n",
    "        return ans\n",
    "                  \n",
    "obj = MaximizeTheExperession()\n",
    "p, q, r = 1, 2, 3\n",
    "nums = [1, 2, 3, 4, 5]\n",
    "print(obj.brute_force(p, q, r, nums))\n",
    "obj.optimized_approach(p, q, r, nums)"
   ]
  },
  {
   "cell_type": "markdown",
   "id": "bb833393-6c52-434e-921b-23c62ce06f79",
   "metadata": {},
   "source": [
    "## Histogram Problem\n",
    "<div class=\"subtopic-lecture-notes\"><p>In this lecture, we will discuss the Rainwater collection problem. Here, we have been given an integer array ‘Arr[N]’ containing the heights of 'N' pillars. We have to find the total height of the water column trapped between the pillars after the rainfall.&nbsp;</p><p><strong>Approach:</strong></p><ul><li><strong>Which pillars will hold water on their tops?</strong></li></ul><figure><img src=\"https://i.imgur.com/eCldQqj.png\" height=\"auto\" width=\"auto\" alt=\"Histogram\"></figure><p>It can be seen in the above illustration, only the pillars with a larger pillar in their left and right neighbourhood can hold water.&nbsp;</p><ul><li><strong>Will the boundary pillars hold water?</strong><br>\n",
    "No, since there is no supporting pillar on the other side.&nbsp;</li><li><strong>Solution</strong> - If we know the largest left and right neighbours for each pillar then we can find the amount of water that it can hold on its top.&nbsp;</li></ul><p>Amount of water on the top of pillar 'i' = max(0, (min(largest left neighbour, largest right neighbour) - height of pillar i))</p><ul><li><strong>Implementation </strong>- Can you think of how to apply a <strong>pre-computation technique </strong>that was<strong> </strong>taught in the previous lecture?<br>\n",
    "For pre-processing, we can calculate the prefix and suffix max for each pillar and use it to find the amount of water they will hold on their top.<br><br>\n",
    "Time complexity: <strong>O(N)</strong><br>\n",
    "Space complexity: <strong>O(N)</strong></li></ul></div></div>"
   ]
  },
  {
   "cell_type": "code",
   "execution_count": 3,
   "id": "07faa4ee-49f6-44ef-894c-e234604978a5",
   "metadata": {},
   "outputs": [
    {
     "data": {
      "text/plain": [
       "3"
      ]
     },
     "execution_count": 3,
     "metadata": {},
     "output_type": "execute_result"
    }
   ],
   "source": [
    "class RainWaterProblem:\n",
    "    def solution(self, height:list)->int:\n",
    "        n = len(height)\n",
    "        prefixMax, suffixMax = [0]*n, [0]*n\n",
    "        prefixMax[0], suffixMax[n-1] = height[0], height[n-1]\n",
    "        for i in range(1, n):\n",
    "            prefixMax[i] = max(prefixMax[i-1], height[i])\n",
    "        \n",
    "        for i in range(n-2, -1, -1):\n",
    "            suffixMax[i] = max(suffixMax[i+1], height[i])\n",
    "        \n",
    "        waterAmount = 0\n",
    "        for i in range(2, n-1):\n",
    "            deciding_height = min(prefixMax[i-1], suffixMax[i+1])\n",
    "            if height[i] < deciding_height:\n",
    "                waterAmount += deciding_height - height[i]\n",
    "        return waterAmount\n",
    "            \n",
    "obj = RainWaterProblem()\n",
    "height = [2, 3, 2, 1, 4, 3]\n",
    "obj.solution(height)"
   ]
  },
  {
   "cell_type": "markdown",
   "id": "0dae3ac8-3d94-4cc6-ab8e-4a39e7bc06a3",
   "metadata": {},
   "source": [
    "## Maximum Chunks\n",
    "<div class=\"subtopic-lecture-notes\"><p>Here we have been given a permutation array ‘Arr[N]’ - containing all the elements from 0 to N-1. We have to split the array into the maximum number of chunks (contiguous subarrays) such that after sorting all the chunks individually, we get a sorted array.</p><p>Input: Arr[5] = { 1, 2, 0, 3, 4 }<br>\n",
    "Output: 3<br><br>\n",
    "We can divide the array into three chunks - [ <u>1 0 2</u> &nbsp;<u>3</u> &nbsp;<u>4</u> ]. After sorting each chunk individually we get a sorted array - [ 0, 1, 2, 3, 4 ]<br></p><p><strong>Approach:<br></strong></p><ul><li><strong>What will be the minimum number of chunks?</strong><br><strong>One</strong>, if we consider the whole array as a chunk then sorting the chunk can yield us a sorted array. [<u> 5 4 3 2 1 </u>] =&gt; [ 1 2 3 4 5 ]&nbsp;<br><br></li><li><strong>Observation</strong> - Every chunk from index i to j should be a permutation of numbers from i to j.<br>\n",
    "Eg. &nbsp;&nbsp;&nbsp;&nbsp;&nbsp;&nbsp;[ <u>&nbsp;1 2 0 </u>&nbsp;<u>3</u>&nbsp;<u>4</u>&nbsp;]<br>\n",
    "Index: &nbsp;&nbsp;&nbsp;0 1 &nbsp;2 &nbsp;3 4<br><br></li><li><strong>Implementation</strong> -</li></ul><ol><li><strong>Brute Force</strong> - Create two nested loops to check each subarray starting from 'i', if it can be chunked or not. If it can be chunked then we can increase the count of the answer variable and move our iterator after that chunk.<br>\n",
    "Time complexity: <strong>O(N^2)</strong><br>\n",
    "Space complexity: <strong>O(1)<br><br></strong></li><li><strong>Prefix Max </strong>- From the above observation, we can also infer that the chunks are divided at the index where the prefix max is equal to the array index. Since a chunk from the index, i to j is basically a permutation of numbers from i to j.<br>\n",
    "Eg. &nbsp;&nbsp;&nbsp;&nbsp;&nbsp;&nbsp;&nbsp;&nbsp;&nbsp;&nbsp;&nbsp;&nbsp;&nbsp;[ <u>1 &nbsp;2 0</u>&nbsp; <u>3</u>&nbsp; <u>4</u> ]<br>\n",
    "Index: &nbsp;&nbsp;&nbsp;&nbsp;&nbsp;&nbsp;&nbsp;&nbsp;&nbsp;&nbsp;0 1 &nbsp;<u>2</u> &nbsp;<u>3</u> &nbsp;<u>4</u><br>\n",
    "Prefix Max: &nbsp;&nbsp;1 &nbsp;2 <u>2</u> &nbsp;<u>3</u> &nbsp;<u>4</u><br>\n",
    "Time complexity: <strong>O(N)</strong><br>\n",
    "Space complexity: <strong>O(1) </strong>- we can use the input array for calculating prefix max.</li></ol></div></div>"
   ]
  },
  {
   "cell_type": "code",
   "execution_count": 4,
   "id": "f1fbb419-4e87-4e25-afa7-365ab79eb21c",
   "metadata": {},
   "outputs": [
    {
     "name": "stdout",
     "output_type": "stream",
     "text": [
      "3\n",
      "3\n",
      "3\n"
     ]
    }
   ],
   "source": [
    "class MaximumChunks:\n",
    "    # Helper function for brute force technique\n",
    "    def isPossibleChunk(self, nums:list, i, j)->bool:\n",
    "        count = 0\n",
    "        for k in range(i, j+1):\n",
    "            if nums[k] >= i and nums[k] <= j:\n",
    "                count += 1\n",
    "        return count == j-i+1\n",
    "            \n",
    "    def brute_force(self, nums:list)->int:\n",
    "        i , n = 0, len(nums)\n",
    "        maxChunk = 0\n",
    "        while i < n:\n",
    "            for j in range(i, len(nums)):\n",
    "                if self.isPossibleChunk(nums, i, j):\n",
    "                    break\n",
    "            i = j + 1\n",
    "            maxChunk += 1\n",
    "        return maxChunk\n",
    "    \n",
    "    def solution_prefixMax(self, nums:list)->int:\n",
    "        n = len(nums)\n",
    "        count = 0\n",
    "        prefixMax = [0]*n\n",
    "        prefixMax[0] = nums[0]\n",
    "        for i in range(1, n):\n",
    "            prefixMax[i] = max(prefixMax[i-1], nums[i])\n",
    "        for i in range(n):\n",
    "            if prefixMax[i] == i:\n",
    "                count += 1\n",
    "        return count\n",
    "    \n",
    "    # instead of storing the prefixMax use maximum variable to check for max chunk cut\n",
    "    def solution_prefixMax_optimized(self, nums:list)->int:\n",
    "        n = len(nums)\n",
    "        count = 0\n",
    "        maximum = nums[0]\n",
    "        for i in range(n):\n",
    "            if nums[i] > maximum:\n",
    "                maximum = nums[i]\n",
    "            if i == maximum:\n",
    "                count += 1\n",
    "        return count\n",
    "                \n",
    "obj = MaximumChunks()\n",
    "nums = [1, 2, 0, 3, 4]\n",
    "print(obj.brute_force(nums)) \n",
    "print(obj.solution_prefixMax(nums))\n",
    "print(obj.solution_prefixMax_optimized(nums))"
   ]
  },
  {
   "cell_type": "markdown",
   "id": "f4ba2f50-b8d1-41f9-ac07-5f4561221511",
   "metadata": {},
   "source": [
    "## Rotate the Array\n",
    "<div class=\"subtopic-lecture-notes\"><p>In this lecture, we will learn how to rotate an array by ‘k’ units clockwise using different methods.</p><p>Input: Arr[6] = { 1, 2, 3, 4, 5, 6 }, k = 3<br>\n",
    "O: Arr[6] = { 4, 5, 6, 1, 2, 3 }<br><br></p><p><strong>Approach:</strong></p><ol><li><strong>Brute Force</strong> - Rotate the array clockwise by 1 unit and repeat the steps ‘k’ times.<br>\n",
    "Time complexity: <strong>O(kN)</strong><br>\n",
    "Space complexity: <strong>O(1)<br><br></strong></li><li><strong>Using a temporary array</strong> - We can create a temporary array and store the elements at their new position after rotation.<br></li></ol><figure><img src=\"https://i.imgur.com/vc9MdHL.jpg\" height=\"auto\" width=\"400px\" alt=\"Using Array Reversal\"></figure><p><br></p><figure><img src=\"https://i.imgur.com/Qxbeu1D.jpg\" height=\"auto\" width=\"400px\" alt=\"Changed positions\"></figure><p>Time complexity: <strong>O(N)</strong><br>\n",
    "Space complexity: <strong>O(N)</strong>&nbsp;<br><br>\n",
    "3. &nbsp;<strong>Using Array Reversal </strong>-&nbsp;<br></p><p>Input: Arr[5] = { 1 7 3 4 5 }, k = 3</p><p>Output: Arr[5] = [ 3 4 5 1 7 ]<br></p><p>[ <u>1 7</u> <u>3 4 5</u> ] → [ <u>3 4 5</u> <u>1 7</u> ]&nbsp;</p><p>We can divide the array into two subarrays of length N-k and k. Now, if we carefully look at the reverse of the two subarrays -&nbsp;</p><p>reverse of [ 1 7 ] → [ 7 1 ]</p><p>reverse of [ 3 4 5 ] → [ 5 4 3 ]&nbsp;<br></p><p>Combining the above two reversed sub-arrays, we get → [ <u>7 1</u> <u>5 4 3</u> ]<br><br>\n",
    "And on reversing the above array, we get → [ 3 4 5 1 7 ], which is the desired output. <br><br><em>Note: The above method is based on the logic that an array if reversed twice yields the same array.</em></p><p><br>\n",
    "Time complexity: <strong>O(N)</strong><br>\n",
    "Space complexity: <strong>O(1)</strong></p></div></div>"
   ]
  },
  {
   "cell_type": "code",
   "execution_count": null,
   "id": "9acfc836-aaa5-4e8f-9c5a-4528850bd3b5",
   "metadata": {},
   "outputs": [],
   "source": []
  }
 ],
 "metadata": {
  "kernelspec": {
   "display_name": "Python 3 (ipykernel)",
   "language": "python",
   "name": "python3"
  },
  "language_info": {
   "codemirror_mode": {
    "name": "ipython",
    "version": 3
   },
   "file_extension": ".py",
   "mimetype": "text/x-python",
   "name": "python",
   "nbconvert_exporter": "python",
   "pygments_lexer": "ipython3",
   "version": "3.10.9"
  }
 },
 "nbformat": 4,
 "nbformat_minor": 5
}
