{
 "cells": [
  {
   "cell_type": "markdown",
   "id": "4cec61e7-8fd0-46fa-8f3f-68768ea594e9",
   "metadata": {},
   "source": [
    "### Fundamental \n",
    "<div class=\"subtopic-lecture-notes\"><p>An <strong>array</strong> is a collection of elements of the same data type stored in <u>contiguous memory cells</u>. It has a <u>fixed size</u> and is by default <u>passed by reference</u> to a function.&nbsp;</p><p><code>Eg. int arr[6] = {4, -3, 8, 5, -1, 6};</code></p><p>It initializes an integer array 'arr' storing 6 elements.&nbsp;</p><p><em>Assuming the size of an integer to be 4 bytes and base cell address to be 2000. It can be represented as -&nbsp;</em></p><figure><img src=\"https://i.imgur.com/E93uW83.jpg\" height=\"auto\" width=\"500px\" alt=\"Arrays are stored in contiguous memory cells\"></figure><p>A <strong>dynamic array</strong> is similar to a static array but it has the ability to <u>automatically resize</u> itself when an element is inserted or deleted.&nbsp;</p><p>They are available as <u>vectors in C++</u> and likewise l<u>ists in Java</u>.&nbsp;</p><p><code>Eg. list&lt;int&gt; l;<br>\n",
    "&nbsp;&nbsp;&nbsp;&nbsp;&nbsp;vector&lt;int&gt; v;<br></code></p><p>Vectors are slightly less efficient than static arrays due to the occasional resizing and copying of elements.&nbsp;&nbsp;</p><p>The amortized time complexity of insertion in a dynamic array is O(1).&nbsp;</p><blockquote><strong>[Amortized Time complexity = No. of operations / No. of pushbacks]</strong></blockquote><p>By default, vectors are passed by value to a function.<br><br><em>Note:</em><em> Sometimes you may get TLE on passing vectors to a function. The intention there can be to use Pass by Reference instead of Pass by Value.<br>\n",
    "Pass by Reference: </em><em><strong>O(1)</strong></em><em><br>\n",
    "Pass by Value: </em><em><strong>O(N)</strong></em><em>&nbsp;</em>&nbsp;&nbsp;&nbsp;&nbsp;&nbsp;&nbsp;&nbsp;&nbsp;&nbsp;&nbsp;&nbsp;&nbsp;&nbsp;&nbsp;&nbsp;&nbsp;&nbsp;&nbsp;&nbsp;&nbsp;&nbsp;&nbsp;&nbsp;&nbsp;&nbsp;&nbsp;&nbsp;&nbsp;&nbsp;&nbsp;&nbsp;&nbsp;&nbsp;&nbsp;&nbsp;&nbsp;&nbsp;&nbsp;&nbsp;&nbsp;&nbsp;&nbsp;&nbsp;&nbsp;&nbsp;&nbsp;&nbsp;&nbsp;&nbsp;&nbsp;&nbsp;&nbsp;&nbsp;&nbsp;</p></div>"
   ]
  },
  {
   "cell_type": "markdown",
   "id": "8e00cf18-6e31-406d-a653-b07b726b0b24",
   "metadata": {},
   "source": [
    "### Pre-computation Techniques\n",
    "\n",
    "<div class=\"subtopic-lecture-notes\"><p>In this lecture, we will learn the applications of <strong>pre-computation techniques</strong> like <u>prefix sum</u>, <u>prefix max</u>, <u>suffix max</u> etc. Pre-processing helps in efficiently answering multiple queries and is used with linear data structures like arrays and vectors.</p><p>In the given problem, there is an integer array ‘Arr[N]’ and we have to print the individual sum of ‘Q’ subarrays whose first index - ‘l’ and the last index - ‘r’ is given.</p><p><strong>Approach:</strong></p><ol><li><strong>Brute force </strong>- Create two nested loops to print the sum of different subarrays respectively.<br>\n",
    "Time Complexity: <strong>O(Q*N)<br></strong>Space Complexity: <strong>O(1)<br><br></strong></li><li><strong>Prefix sum </strong>- We can pre-compute the prefix sum of the array and store it in an array PS[N].</li></ol><p>PS[ i ] = Arr[ i ] + PS[ i - 1 ];</p><p>&nbsp;We can then print the sum of subarray(l, r) within O(1) time complexity.</p><p>Sum of Subarray(l, r) = PS[ r ] - PS[ l - 1 ] &nbsp;(l&gt;=1)<br>\n",
    "&nbsp;&nbsp;&nbsp;&nbsp;&nbsp;&nbsp;&nbsp;&nbsp;&nbsp;&nbsp;&nbsp;&nbsp;&nbsp;&nbsp;&nbsp;&nbsp;&nbsp;&nbsp;&nbsp;&nbsp;&nbsp;&nbsp;&nbsp;&nbsp;&nbsp;&nbsp;&nbsp;&nbsp;&nbsp;&nbsp;&nbsp;&nbsp;&nbsp;&nbsp;&nbsp;&nbsp;= PS[ r ] &nbsp;&nbsp;&nbsp;&nbsp;&nbsp;&nbsp;&nbsp;&nbsp;&nbsp;&nbsp;&nbsp;&nbsp;&nbsp;&nbsp;&nbsp;&nbsp;&nbsp;&nbsp;&nbsp;&nbsp;(l==0)</p><p>Time Complexity: <strong>O(N+Q)</strong></p><p>Space Complexity: <strong>O(N)<br></strong></p><p><em>Note: It can also be solved in O(1) space complexity if we use the original array to store the prefix sum.</em>&nbsp;</p></div></div>"
   ]
  },
  {
   "cell_type": "code",
   "execution_count": 1,
   "id": "e2109c30-3cdf-43ab-9644-cbe13fd1f2c7",
   "metadata": {},
   "outputs": [
    {
     "name": "stdout",
     "output_type": "stream",
     "text": [
      "13 25 39 38 29 \n",
      "[5, 13, 13, 22, 25, 44, 51, 54]\n",
      "13 25 39 38 29 None\n"
     ]
    }
   ],
   "source": [
    "class PreComputationTechniques:\n",
    "    def range_sum_brute_foce(self, nums:list, queries:list)->list:\n",
    "        for i in range(len(queries)):\n",
    "            l = queries[i][0]\n",
    "            r = queries[i][1]\n",
    "            sum = 0\n",
    "            for j in range(l, r+1):\n",
    "                sum += nums[j]\n",
    "            print(sum, end = \" \")\n",
    "                \n",
    "    \n",
    "    def range_sum_prefix_sum(self, nums:list, queries:list)->list:\n",
    "        for i in range(1, len(nums)):\n",
    "            nums[i] += nums[i-1]\n",
    "        \n",
    "        for i in range(len(queries)):\n",
    "            l = queries[i][0]\n",
    "            r = queries[i][1]\n",
    "            if l == 0:\n",
    "                print(nums[r], end = \" \")\n",
    "            else:\n",
    "                print(nums[r] - nums[l-1], end = \" \")\n",
    "        print()\n",
    "        return nums\n",
    "        \n",
    "obj = PreComputationTechniques()\n",
    "nums = [5, 8, 0, 9, 3, 19, 7, 3]\n",
    "queries = [[0, 2], [0, 4], [1, 5], [3, 6], [5, 7]]\n",
    "print(obj.range_sum_prefix_sum(nums, queries))\n",
    "nums = [5, 8, 0, 9, 3, 19, 7, 3]\n",
    "print(obj.range_sum_brute_foce(nums, queries))"
   ]
  },
  {
   "cell_type": "markdown",
   "id": "61371a16-ec17-4e13-b818-a205299ee45f",
   "metadata": {},
   "source": [
    "### Maximize the Expression\n",
    "<div class=\"subtopic-lecture-notes\"><p>In this lecture, we will look at another problem based on the pre-computation technique. Here, we have been given an array ‘Arr[N]’ and we have to maximise ‘s’<br><strong>s = p*Arri + q*Arrj + r*Arrk where p, q, r ∈ Z and i &lt; j &lt; k</strong></p><p><strong>Approach:</strong></p><ol><li><strong>Brute force </strong>- Run three nested loops to find the sum of all possible combinations and hence the maximum value of ‘s’.<br>\n",
    "Time Complexity: <strong>O(N^3)</strong><br>\n",
    "Space Complexity: <strong>O(1)<br><br></strong></li><li><strong>How about choosing the first three largest elements to calculate ‘s’?<br></strong>No, it may not work since we are not dealing with positive numbers alone. Let us see an example -<br>\n",
    "Arr[5] = { 1, 2, 3, 4, -5}, p = 1, q = 2, r = -3<br>\n",
    "According to the above approach,<br>\n",
    "s = 1(2) + 2(3) + (-3)(4) = -4, which is not the correct answer.<br><br></li><li><strong>What if we know all the three maximum terms separately?<br></strong>Let a = p*Arri, b = q*Arrj and c = r*Arrk. If we can fix the second term (b) and find the maximum possible value of a &amp; c corresponding to that b. And if we repeat the process for all the possible values of b then we can easily find the maximum value of ‘s’.<br><br>\n",
    "For implementing this, we can create a prefix max(PMAX) and a suffix max(SMAX) array for the first and the third term respectively. We can then iterate on the array for the second term to find the answer.<br><br>\n",
    "ans = max (ans, PMAX[j-1]+q*Arr[j]+SMAX[j+1])<br><br>\n",
    "Time complexity: <strong>O(N)</strong><br>\n",
    "Space complexity: <strong>O(N)&nbsp;</strong></li></ol></div></div>"
   ]
  },
  {
   "cell_type": "code",
   "execution_count": 2,
   "id": "e88cbc65-931f-4728-9e2d-65379f19a23c",
   "metadata": {},
   "outputs": [
    {
     "name": "stdout",
     "output_type": "stream",
     "text": [
      "26\n"
     ]
    },
    {
     "data": {
      "text/plain": [
       "26"
      ]
     },
     "execution_count": 2,
     "metadata": {},
     "output_type": "execute_result"
    }
   ],
   "source": [
    "import sys\n",
    "class MaximizeTheExperession:\n",
    "    def brute_force(self, p:int, q:int, r:int, nums:list)->int:\n",
    "        ans = -sys.maxsize\n",
    "        for i in range(len(nums)):\n",
    "            for j in range(i+1, len(nums)):\n",
    "                for k in range(j+1, len(nums)):\n",
    "                    ans = max(ans, p*nums[i] + q*nums[j] + r*nums[k])\n",
    "        return ans\n",
    "    \n",
    "    def optimized_approach(self, p:int, q:int, r:int, nums:list)->int:\n",
    "        n = len(nums)\n",
    "        prefixMax = [0]*n\n",
    "        suffixMax = [0]*n\n",
    "        prefixMax[0] = nums[0]\n",
    "        suffixMax[n-1] = nums[n-1]\n",
    "        \n",
    "        for i in range(1, n):\n",
    "            prefixMax[i] = max(prefixMax[i-1], nums[i])\n",
    "            \n",
    "        for i in range(n-2, -1, -1):\n",
    "            suffixMax[i] = max(suffixMax[i+1], nums[i])\n",
    "        \n",
    "        ans = -sys.maxsize\n",
    "        for i in range(1, n-1):\n",
    "            ans = max(ans, p*prefixMax[i-1] + q*nums[i] + r*suffixMax[i+1])\n",
    "        return ans\n",
    "                  \n",
    "obj = MaximizeTheExperession()\n",
    "p, q, r = 1, 2, 3\n",
    "nums = [1, 2, 3, 4, 5]\n",
    "print(obj.brute_force(p, q, r, nums))\n",
    "obj.optimized_approach(p, q, r, nums)"
   ]
  },
  {
   "cell_type": "markdown",
   "id": "bb833393-6c52-434e-921b-23c62ce06f79",
   "metadata": {},
   "source": [
    "## Histogram Problem\n",
    "<div class=\"subtopic-lecture-notes\"><p>In this lecture, we will discuss the Rainwater collection problem. Here, we have been given an integer array ‘Arr[N]’ containing the heights of 'N' pillars. We have to find the total height of the water column trapped between the pillars after the rainfall.&nbsp;</p><p><strong>Approach:</strong></p><ul><li><strong>Which pillars will hold water on their tops?</strong></li></ul><figure><img src=\"https://i.imgur.com/eCldQqj.png\" height=\"auto\" width=\"auto\" alt=\"Histogram\"></figure><p>It can be seen in the above illustration, only the pillars with a larger pillar in their left and right neighbourhood can hold water.&nbsp;</p><ul><li><strong>Will the boundary pillars hold water?</strong><br>\n",
    "No, since there is no supporting pillar on the other side.&nbsp;</li><li><strong>Solution</strong> - If we know the largest left and right neighbours for each pillar then we can find the amount of water that it can hold on its top.&nbsp;</li></ul><p>Amount of water on the top of pillar 'i' = max(0, (min(largest left neighbour, largest right neighbour) - height of pillar i))</p><ul><li><strong>Implementation </strong>- Can you think of how to apply a <strong>pre-computation technique </strong>that was<strong> </strong>taught in the previous lecture?<br>\n",
    "For pre-processing, we can calculate the prefix and suffix max for each pillar and use it to find the amount of water they will hold on their top.<br><br>\n",
    "Time complexity: <strong>O(N)</strong><br>\n",
    "Space complexity: <strong>O(N)</strong></li></ul></div></div>"
   ]
  },
  {
   "cell_type": "code",
   "execution_count": 3,
   "id": "07faa4ee-49f6-44ef-894c-e234604978a5",
   "metadata": {},
   "outputs": [
    {
     "data": {
      "text/plain": [
       "3"
      ]
     },
     "execution_count": 3,
     "metadata": {},
     "output_type": "execute_result"
    }
   ],
   "source": [
    "class RainWaterProblem:\n",
    "    def solution(self, height:list)->int:\n",
    "        n = len(height)\n",
    "        prefixMax, suffixMax = [0]*n, [0]*n\n",
    "        prefixMax[0], suffixMax[n-1] = height[0], height[n-1]\n",
    "        for i in range(1, n):\n",
    "            prefixMax[i] = max(prefixMax[i-1], height[i])\n",
    "        \n",
    "        for i in range(n-2, -1, -1):\n",
    "            suffixMax[i] = max(suffixMax[i+1], height[i])\n",
    "        \n",
    "        waterAmount = 0\n",
    "        for i in range(2, n-1):\n",
    "            deciding_height = min(prefixMax[i-1], suffixMax[i+1])\n",
    "            if height[i] < deciding_height:\n",
    "                waterAmount += deciding_height - height[i]\n",
    "        return waterAmount\n",
    "            \n",
    "obj = RainWaterProblem()\n",
    "height = [2, 3, 2, 1, 4, 3]\n",
    "obj.solution(height)"
   ]
  },
  {
   "cell_type": "markdown",
   "id": "0dae3ac8-3d94-4cc6-ab8e-4a39e7bc06a3",
   "metadata": {},
   "source": [
    "## Maximum Chunks\n",
    "<div class=\"subtopic-lecture-notes\"><p>Here we have been given a permutation array ‘Arr[N]’ - containing all the elements from 0 to N-1. We have to split the array into the maximum number of chunks (contiguous subarrays) such that after sorting all the chunks individually, we get a sorted array.</p><p>Input: Arr[5] = { 1, 2, 0, 3, 4 }<br>\n",
    "Output: 3<br><br>\n",
    "We can divide the array into three chunks - [ <u>1 0 2</u> &nbsp;<u>3</u> &nbsp;<u>4</u> ]. After sorting each chunk individually we get a sorted array - [ 0, 1, 2, 3, 4 ]<br></p><p><strong>Approach:<br></strong></p><ul><li><strong>What will be the minimum number of chunks?</strong><br><strong>One</strong>, if we consider the whole array as a chunk then sorting the chunk can yield us a sorted array. [<u> 5 4 3 2 1 </u>] =&gt; [ 1 2 3 4 5 ]&nbsp;<br><br></li><li><strong>Observation</strong> - Every chunk from index i to j should be a permutation of numbers from i to j.<br>\n",
    "Eg. &nbsp;&nbsp;&nbsp;&nbsp;&nbsp;&nbsp;[ <u>&nbsp;1 2 0 </u>&nbsp;<u>3</u>&nbsp;<u>4</u>&nbsp;]<br>\n",
    "Index: &nbsp;&nbsp;&nbsp;0 1 &nbsp;2 &nbsp;3 4<br><br></li><li><strong>Implementation</strong> -</li></ul><ol><li><strong>Brute Force</strong> - Create two nested loops to check each subarray starting from 'i', if it can be chunked or not. If it can be chunked then we can increase the count of the answer variable and move our iterator after that chunk.<br>\n",
    "Time complexity: <strong>O(N^2)</strong><br>\n",
    "Space complexity: <strong>O(1)<br><br></strong></li><li><strong>Prefix Max </strong>- From the above observation, we can also infer that the chunks are divided at the index where the prefix max is equal to the array index. Since a chunk from the index, i to j is basically a permutation of numbers from i to j.<br>\n",
    "Eg. &nbsp;&nbsp;&nbsp;&nbsp;&nbsp;&nbsp;&nbsp;&nbsp;&nbsp;&nbsp;&nbsp;&nbsp;&nbsp;[ <u>1 &nbsp;2 0</u>&nbsp; <u>3</u>&nbsp; <u>4</u> ]<br>\n",
    "Index: &nbsp;&nbsp;&nbsp;&nbsp;&nbsp;&nbsp;&nbsp;&nbsp;&nbsp;&nbsp;0 1 &nbsp;<u>2</u> &nbsp;<u>3</u> &nbsp;<u>4</u><br>\n",
    "Prefix Max: &nbsp;&nbsp;1 &nbsp;2 <u>2</u> &nbsp;<u>3</u> &nbsp;<u>4</u><br>\n",
    "Time complexity: <strong>O(N)</strong><br>\n",
    "Space complexity: <strong>O(1) </strong>- we can use the input array for calculating prefix max.</li></ol></div></div>"
   ]
  },
  {
   "cell_type": "code",
   "execution_count": 4,
   "id": "f1fbb419-4e87-4e25-afa7-365ab79eb21c",
   "metadata": {},
   "outputs": [
    {
     "name": "stdout",
     "output_type": "stream",
     "text": [
      "3\n",
      "3\n",
      "3\n"
     ]
    }
   ],
   "source": [
    "class MaximumChunks:\n",
    "    # Helper function for brute force technique\n",
    "    def isPossibleChunk(self, nums:list, i, j)->bool:\n",
    "        count = 0\n",
    "        for k in range(i, j+1):\n",
    "            if nums[k] >= i and nums[k] <= j:\n",
    "                count += 1\n",
    "        return count == j-i+1\n",
    "            \n",
    "    def brute_force(self, nums:list)->int:\n",
    "        i , n = 0, len(nums)\n",
    "        maxChunk = 0\n",
    "        while i < n:\n",
    "            for j in range(i, len(nums)):\n",
    "                if self.isPossibleChunk(nums, i, j):\n",
    "                    break\n",
    "            i = j + 1\n",
    "            maxChunk += 1\n",
    "        return maxChunk\n",
    "    \n",
    "    def solution_prefixMax(self, nums:list)->int:\n",
    "        n = len(nums)\n",
    "        count = 0\n",
    "        prefixMax = [0]*n\n",
    "        prefixMax[0] = nums[0]\n",
    "        for i in range(1, n):\n",
    "            prefixMax[i] = max(prefixMax[i-1], nums[i])\n",
    "        for i in range(n):\n",
    "            if prefixMax[i] == i:\n",
    "                count += 1\n",
    "        return count\n",
    "    \n",
    "    # instead of storing the prefixMax use maximum variable to check for max chunk cut\n",
    "    def solution_prefixMax_optimized(self, nums:list)->int:\n",
    "        n = len(nums)\n",
    "        count = 0\n",
    "        maximum = nums[0]\n",
    "        for i in range(n):\n",
    "            if nums[i] > maximum:\n",
    "                maximum = nums[i]\n",
    "            if i == maximum:\n",
    "                count += 1\n",
    "        return count\n",
    "                \n",
    "obj = MaximumChunks()\n",
    "nums = [1, 2, 0, 3, 4]\n",
    "print(obj.brute_force(nums)) \n",
    "print(obj.solution_prefixMax(nums))\n",
    "print(obj.solution_prefixMax_optimized(nums))"
   ]
  },
  {
   "cell_type": "markdown",
   "id": "f4ba2f50-b8d1-41f9-ac07-5f4561221511",
   "metadata": {},
   "source": [
    "## Rotate the Array\n",
    "<div class=\"subtopic-lecture-notes\"><p>In this lecture, we will learn how to rotate an array by ‘k’ units clockwise using different methods.</p><p>Input: Arr[6] = { 1, 2, 3, 4, 5, 6 }, k = 3<br>\n",
    "O: Arr[6] = { 4, 5, 6, 1, 2, 3 }<br><br></p><p><strong>Approach:</strong></p><ol><li><strong>Brute Force</strong> - Rotate the array clockwise by 1 unit and repeat the steps ‘k’ times.<br>\n",
    "Time complexity: <strong>O(kN)</strong><br>\n",
    "Space complexity: <strong>O(1)<br><br></strong></li><li><strong>Using a temporary array</strong> - We can create a temporary array and store the elements at their new position after rotation.<br></li></ol><figure><img src=\"https://i.imgur.com/vc9MdHL.jpg\" height=\"auto\" width=\"400px\" alt=\"Using Array Reversal\"></figure><p><br></p><figure><img src=\"https://i.imgur.com/Qxbeu1D.jpg\" height=\"auto\" width=\"400px\" alt=\"Changed positions\"></figure><p>Time complexity: <strong>O(N)</strong><br>\n",
    "Space complexity: <strong>O(N)</strong>&nbsp;<br><br>\n",
    "3. &nbsp;<strong>Using Array Reversal </strong>-&nbsp;<br></p><p>Input: Arr[5] = { 1 7 3 4 5 }, k = 3</p><p>Output: Arr[5] = [ 3 4 5 1 7 ]<br></p><p>[ <u>1 7</u> <u>3 4 5</u> ] → [ <u>3 4 5</u> <u>1 7</u> ]&nbsp;</p><p>We can divide the array into two subarrays of length N-k and k. Now, if we carefully look at the reverse of the two subarrays -&nbsp;</p><p>reverse of [ 1 7 ] → [ 7 1 ]</p><p>reverse of [ 3 4 5 ] → [ 5 4 3 ]&nbsp;<br></p><p>Combining the above two reversed sub-arrays, we get → [ <u>7 1</u> <u>5 4 3</u> ]<br><br>\n",
    "And on reversing the above array, we get → [ 3 4 5 1 7 ], which is the desired output. <br><br><em>Note: The above method is based on the logic that an array if reversed twice yields the same array.</em></p><p><br>\n",
    "Time complexity: <strong>O(N)</strong><br>\n",
    "Space complexity: <strong>O(1)</strong></p></div></div>"
   ]
  },
  {
   "cell_type": "code",
   "execution_count": 5,
   "id": "9acfc836-aaa5-4e8f-9c5a-4528850bd3b5",
   "metadata": {},
   "outputs": [
    {
     "name": "stdout",
     "output_type": "stream",
     "text": [
      "[4, 5, 6, 1, 2, 3]\n",
      "[1, 2, 3, 4, 5, 6]\n",
      "[4, 5, 6, 1, 2, 3]\n"
     ]
    }
   ],
   "source": [
    "class RotateArray:\n",
    "    def brute_force(self, nums:list, k:int)->list:\n",
    "        n = len(nums)\n",
    "        k %= n\n",
    "        for _ in range(k):\n",
    "            num1 = nums[0]\n",
    "            for i in range(1, n):\n",
    "                nums[i-1] = nums[i];\n",
    "            nums[n-1] = num1;\n",
    "        return nums;\n",
    "    \n",
    "    def using_temporary_list(self, nums:list, k:int)->list:\n",
    "        n = len(nums)\n",
    "        k %= n\n",
    "        temp = [0]*n\n",
    "        for i in range(n):\n",
    "            temp[(i+k)%n] = nums[i]\n",
    "        return temp;\n",
    "    \n",
    "    def using_reversal(self, nums:list, k:int)->list:\n",
    "        n = len(nums)\n",
    "        k %= n\n",
    "        nums.reverse()\n",
    "        nums[:k] = reversed(nums[:k])\n",
    "        nums[k:] = reversed(nums[k:])\n",
    "        return nums\n",
    "    \n",
    "obj = RotateArray()\n",
    "nums = [1, 2, 3, 4, 5, 6]\n",
    "nums2 = [1, 2, 3, 4, 5, 6]\n",
    "k = 3\n",
    "print(obj.brute_force(nums, k))\n",
    "print(obj.using_temporary_list(nums, k))\n",
    "print(obj.using_reversal(nums2, k))"
   ]
  },
  {
   "cell_type": "markdown",
   "id": "0b98d3e6-06f8-46aa-8baa-b674b1b36676",
   "metadata": {},
   "source": [
    "## Sliding Window Technique\n",
    "<div class=\"subtopic-lecture-notes\"><p>The <strong>Sliding Window Technique</strong> helps in reducing the time complexity of a solution by converting nested loops into a single loop. In the lecture, we will take a glimpse at different types of problems that can be solved using the Sliding window technique.</p><p>Given an integer array ‘Arr[N]’. Print the individual sum of all the subarrays of length ‘k’.<br><br><strong>Approach:</strong></p><ol><li><strong>Brute Force</strong> - Create two nested loops to find all the subarrays of size ‘k’ and print their sum.<br>\n",
    "Time complexity: <strong>O(kN)</strong><br>\n",
    "Space complexity: <strong>O(1)<br><br></strong></li><li><strong>Sliding Window Technique</strong> - In this technique, we first calculate the sum of a window (subarray of size ‘k’) and then slide the window by one unit each, to find the sum of the remaining subarrays respectively. &nbsp;</li></ol><figure><img src=\"https://i.imgur.com/sB2PzFQ.jpg\" height=\"auto\" width=\"500px\" alt=\"Sliding Window Technique\"></figure><p>Time complexity: <strong>O(N)</strong><br>\n",
    "Space complexity: <strong>O(1)&nbsp;</strong></p></div></div>"
   ]
  },
  {
   "cell_type": "code",
   "execution_count": 6,
   "id": "a93cdb72-2547-4788-b379-99054470f7b7",
   "metadata": {},
   "outputs": [
    {
     "name": "stdout",
     "output_type": "stream",
     "text": [
      "14\n",
      "11\n",
      "9\n",
      "8\n",
      "\n",
      "14\n",
      "11\n",
      "9\n",
      "8\n"
     ]
    }
   ],
   "source": [
    "class SlidingWindowTechnique:\n",
    "    def brute_force(self, nums:list, k:int)->None:\n",
    "        n = len(nums)\n",
    "        for i in range(n):\n",
    "            if(k+i) > n: break\n",
    "            sum = 0\n",
    "            for j in range(i, k+i):\n",
    "                sum += nums[j]\n",
    "            print(sum)\n",
    "    \n",
    "    def sliding_window_technique(self, nums:list, k:int)->None:\n",
    "        # initially sum the first k number\n",
    "        sum = 0\n",
    "        for i in range(k):\n",
    "            sum += nums[i]\n",
    "        for i in range(k, len(nums)):\n",
    "            print(sum)\n",
    "            sum += nums[i]\n",
    "            sum -= nums[i-k]\n",
    "        print(sum)\n",
    "        \n",
    "        \n",
    "obj = SlidingWindowTechnique()\n",
    "nums = [4, 7, 3, 1, 5, 2]\n",
    "nums1 = [4, 7, 3, 1, 5, 2]\n",
    "k = 3\n",
    "obj.brute_force(nums, k)\n",
    "print()\n",
    "obj.sliding_window_technique(nums1, k)        "
   ]
  },
  {
   "cell_type": "markdown",
   "id": "f62ff9ee-3a01-410a-b8be-763332428fdc",
   "metadata": {},
   "source": [
    "## Reverse Lookup in 1-Dimension\n",
    "\n",
    "<div class=\"subtopic-lecture-notes\"><p>In this lecture, we will learn the application of reverse lookup in a one-dimensional array. Here, we have been given an integer array 'Arr[N]' and we have to find the sum of all its subarrays.&nbsp;<br><br></p><p><strong>Approach:</strong></p><ol><li><strong>Brute Force </strong>- Create two nested loops to find all the subarrays of array ‘Arr’, followed by another loop to calculate their sum.<br>\n",
    "Time complexity: <strong>O(N^3)</strong><br>\n",
    "Space complexity: <strong>O(1)</strong><br><br></li><li><strong>Optimised Brute Force </strong>- We can simultaneously compute the sum while finding the subarrays of array ‘Arr’.<br>\n",
    "Time complexity: <strong>O(N^2)</strong><br>\n",
    "Space complexity: <strong>O(1)</strong><br><br>\n",
    "An array has N(N+1)/2 subarrays, therefore we can not solve this problem in less than O(N2) time complexity if we are trying to find all the subarrays.<br><br><strong>Is there a way to solve it without finding the different subarrays?</strong>&nbsp;<br><br></li><li><strong>Using Reverse Lookup</strong> - This method insists to think in a reverse manner. Try to think how many times an element will appear if we consider all the subarrays. &nbsp;</li></ol><figure><img src=\"https://i.imgur.com/jnsnnw0.jpg\" height=\"auto\" width=\"400px\" alt=\"Reverse Lookup in 1D\"></figure><p>An element at index i will be a part of all the subarrays whose starting index lies between 0 &amp; i and the ending index lies between i to N-1.<br><br>\n",
    "Therefore, using the <strong>Rule of Products</strong>, the total number of times an element Arr[i] appears = (i + 1)*(N - i).<br><strong>Total sum = Σ(Arr[i]*(i+1)*(N-i))</strong> &nbsp;&nbsp;&nbsp;<em>[from i=0 to i=N-1]</em><strong><br></strong><br>\n",
    "Time complexity: <strong>O(N)</strong><br>\n",
    "Space complexity: <strong>O(1)</strong><br><br><em>Note: The above method involves integer multiplication and the product may go out of the valid integer range. Therefore, we may have to calculate the modulus of the product each time with some large prime number, for example, 10^9 + 7.</em></p></div></div>"
   ]
  },
  {
   "cell_type": "code",
   "execution_count": 7,
   "id": "755dfafa-e0d4-4045-a67b-f4a59b0ed3e0",
   "metadata": {},
   "outputs": [
    {
     "name": "stdout",
     "output_type": "stream",
     "text": [
      "33\n",
      "33\n"
     ]
    },
    {
     "data": {
      "text/plain": [
       "33"
      ]
     },
     "execution_count": 7,
     "metadata": {},
     "output_type": "execute_result"
    }
   ],
   "source": [
    "class ReverseLookUp1D:\n",
    "    # helper function for brute force approach\n",
    "    def subListSum(self, nums:list, leftIdx:int, rightIdx:int)->int:\n",
    "        sum = 0\n",
    "        for i in range(leftIdx, rightIdx+1):\n",
    "            sum += nums[i]\n",
    "        return sum\n",
    "\n",
    "    def brute_force(self, nums:list)->int:\n",
    "        sum = 0\n",
    "        for i in range(len(nums)):\n",
    "            for j in range(i, len(nums)):\n",
    "                sum += self.subListSum(nums, i, j)\n",
    "        return sum\n",
    "    \n",
    "    def optimized_brute_force(self, nums:list)->int:\n",
    "        total_sum = 0\n",
    "        for i in range(len(nums)):\n",
    "            sum = 0\n",
    "            for j in range(i, len(nums)):\n",
    "                sum += nums[j]\n",
    "                total_sum += sum\n",
    "        return total_sum\n",
    "    \n",
    "    def using_reverse_lookup(self, nums:list)->int:\n",
    "        n = len(nums)\n",
    "        sum = 0\n",
    "        for i in range(n):\n",
    "            sum += (i+1)*(n-i)*nums[i]\n",
    "        return sum\n",
    "    \n",
    "    \n",
    "obj = ReverseLookUp1D()\n",
    "nums = [1, 3, 6]\n",
    "print(obj.brute_force(nums))\n",
    "print(obj.optimized_brute_force(nums))\n",
    "obj.using_reverse_lookup(nums)"
   ]
  },
  {
   "cell_type": "markdown",
   "id": "433bc87f-d372-498b-98b1-c7d11b7e2e4f",
   "metadata": {},
   "source": [
    "## Reverse Lookup in 2-Dimension\n",
    "<div class=\"subtopic-lecture-notes\"><p>In this lecture, we will solve a problem based on reverse lookup in a 2D array. We have a 2d matrix Arr[M][N] and we have to find the sum of all the submatrices.<br></p><p><strong>How to define a submatrix uniquely?<br></strong>We can define a unique submatrix by using the indices of either -&nbsp;</p><ul><li>Top Left (TL) &amp; Bottom Right (BR) cell</li><li>Bottom Left (BL) &amp; Top Right (TR) cell<br><br><strong>Approach:</strong>&nbsp;</li></ul><ol><li><strong>Brute Force </strong>- Create nested loops to iterate through every possible TL &amp; BR valid cell combination to find all the submatrices and calculate their total sum respectively.<br>\n",
    "Time complexity: <strong>O((M^3)*(N^3))</strong><br>\n",
    "Space complexity: <strong>O(1)<br><br></strong></li><li><strong>Using Reverse Lookup</strong> - Can we use the approach followed in the previous question to find out the contribution of each array element to the total sum?</li></ol><figure><img src=\"https://i.imgur.com/4qEiTZg.jpg\" height=\"auto\" width=\"auto\" alt=\"Reverse Lookup in a 2D Array\"></figure><p>An element Arr[ i ][ j ] will be a part of all those submatrices who have -&nbsp;</p><ol><li>0&lt;=TLi&lt;=i &amp; 0&lt;=TLj&lt;=j</li><li>i&lt;=BRi&lt;=M-1 &amp; j&lt;=BRj&lt;=N-1</li></ol><p>Therefore, by the Rule of Products, Arr[ i ][ j ] appears = (i+1)*(j+1)*(M-i)*(N-j)<br><br>\n",
    "Total sum = <strong>Σi(Σj(Arr[i][j]*(i+1)*(j+1)*(M-i)*(N-j))) &nbsp;&nbsp;&nbsp;&nbsp;</strong><em>[from i=0 to M-1 &amp; j=0 to N-1]</em><br><br>\n",
    "Time complexity: <strong>O(MN)<br></strong>Space complexity: <strong>O(1)</strong><br><br><em>Note: The above method involves integer multiplication and the product may be out of the valid integer range. Therefore we may have to calculate the modulus of the product each time by some large prime number say, 10^9 + 7. &nbsp;</em></p></div></div>"
   ]
  },
  {
   "cell_type": "code",
   "execution_count": 8,
   "id": "408e4520-ec38-4d66-ad8d-d6852d81e1b7",
   "metadata": {},
   "outputs": [
    {
     "name": "stdout",
     "output_type": "stream",
     "text": [
      "16\n",
      "16\n"
     ]
    }
   ],
   "source": [
    "class ReverseLookUp2D:\n",
    "    # helper function for sum\n",
    "    def getSumMatrix(self, matrix:list, i:int, j:int, rightMostRow:int, downMostCol:int)->int:\n",
    "        sum = 0\n",
    "        for k in range(i, rightMostRow+1):\n",
    "            for l in range(j, downMostCol+1):\n",
    "                sum += matrix[k][l]\n",
    "        return sum\n",
    "    \n",
    "    def brute_force(self, matrix:list)->int:\n",
    "        ans = 0\n",
    "        n = len(matrix)\n",
    "        m = len(matrix[0])\n",
    "        for i in range(n):\n",
    "            for j in range(m):\n",
    "                for RightMostRow in range(i, n):\n",
    "                    for downMostCol in range(j, m):\n",
    "                        ans += self.getSumMatrix(matrix,i, j, RightMostRow, downMostCol)\n",
    "        return ans\n",
    "    \n",
    "    def using_reverse_lookup(self, matrix:list):\n",
    "        sum = 0\n",
    "        n = len(matrix)\n",
    "        m = len(matrix[0])\n",
    "        for i in range(n):\n",
    "            for j in range(m):\n",
    "                sum += ((i+1)*(j+1) * (n-i)*(m - j) * matrix[i][j])\n",
    "        return sum\n",
    "    \n",
    "    \n",
    "    \n",
    "obj = ReverseLookUp2D()\n",
    "matrix = [[1, 1], [1, 1]]\n",
    "print(obj.brute_force(matrix))\n",
    "print(obj.using_reverse_lookup(matrix))"
   ]
  },
  {
   "cell_type": "markdown",
   "id": "9fec730b-c47b-4c27-97c1-0e2175909ee4",
   "metadata": {},
   "source": [
    "## Processing Queries Efficiently\n",
    "\n",
    "<div class=\"subtopic-lecture-notes\"><p>In this lecture, we will learn how to process multiple queries for a 2d matrix efficiently.<br><br>\n",
    "Here, we have been given a 2d matrix Arr[M][N] and we have to find the sum of the ‘Q’ sub-matrices defined by TL(i1, j1) &amp; BR(i2, j2) cells.<br><br><strong>Approach:</strong><br></p><ol><li><strong>Brute Force </strong>- Calculate the sum of each submatrix individually to answer the query.<br>\n",
    "Time complexity: <strong>O(Q*(M*N))</strong><br>\n",
    "Space complexity: <strong>O(1)<br><br></strong></li><li><strong>Prefix Sum </strong>- &nbsp;Think of applying the concept of Prefix sum in a 2D array.<br></li></ol><figure><img src=\"https://i.imgur.com/FiOuaoG.png\" height=\"auto\" width=\"800px\" alt=\"Arrays_L10(1)\"></figure><p>Since we now know how to define the Prefix sum for a 2D array, we can create a prefix sum matrix PS[ M ][ N ].<br><br>\n",
    "For a submatrix: TL(i1, j1) and BR(i2, j2) - &nbsp;<br></p><figure><img src=\"https://i.imgur.com/uod2W58.jpg\" height=\"auto\" width=\"800px\" alt=\"Arrays_L10(2)\"></figure><p><strong>Required Sum = PS[i2][j2] - A1 - A2 + A3 </strong><em>where,<br></em><br>\n",
    "A1 = PS[i1-1][j2] &nbsp;&nbsp;&nbsp;&nbsp;&nbsp;&nbsp;&nbsp;&nbsp;&nbsp;&nbsp;; i1&gt;=1<br>\n",
    "A2 = PS[i2][j1-1] &nbsp;&nbsp;&nbsp;&nbsp;&nbsp;&nbsp;&nbsp;&nbsp;&nbsp;;j1&gt;=1<br>\n",
    "A3 = PS[i1-1][j1-1] &nbsp;&nbsp;&nbsp;&nbsp;&nbsp;&nbsp;&nbsp;;i1&gt;=1 &amp; j1&gt;=1<br><br>\n",
    "Time complexity: <strong>O(Q+MN)</strong><br>\n",
    "Space complexity: <strong>O(MN)</strong><br><br><em>Note: Please check the boundary conditions to ensure that the array indices are non-negative.</em></p></div></div>"
   ]
  },
  {
   "cell_type": "code",
   "execution_count": 9,
   "id": "70c274e9-ab42-4b91-a149-1feb0a1194ec",
   "metadata": {},
   "outputs": [
    {
     "name": "stdout",
     "output_type": "stream",
     "text": [
      "45\n",
      "28\n",
      "24\n",
      "\n",
      "45\n",
      "28\n",
      "24\n"
     ]
    }
   ],
   "source": [
    "class ProcessingQueriesEffectively:\n",
    "    # heleper function for brute_force\n",
    "    def getSumMatrix(self, matrix:list, topLefti:int, topLeftj:int, bottomRighti:int, bottomRightj:int)->int:\n",
    "        sum = 0\n",
    "        for k in range(topLefti, bottomRighti+1):\n",
    "            for l in range(topLeftj, bottomRightj+1):\n",
    "                sum += matrix[k][l]\n",
    "        return sum\n",
    "    \n",
    "    def brute_force(self, matrix:list, queries:list)->None:\n",
    "        n = len(matrix)\n",
    "        m = len(matrix[0])\n",
    "        \n",
    "        for points in queries:\n",
    "            topLefti = points[0][0]\n",
    "            topLeftj = points[0][1]\n",
    "            bottomRighti = points[1][0]\n",
    "            bottomRightj = points[1][1]\n",
    "            sum = self.getSumMatrix(matrix, topLefti, topLeftj, bottomRighti, bottomRightj)\n",
    "            print(sum)\n",
    "    \n",
    "    def prefixSumApproach(self, matrix:list, queries:list)->None:\n",
    "        n = len(matrix)\n",
    "        m = len(matrix[0])\n",
    "        for i in range(n):\n",
    "            for j in range(1, m):\n",
    "                matrix[i][j] += matrix[i][j-1]\n",
    "                \n",
    "        for i in range(1, n):\n",
    "            for j in range(m):\n",
    "                matrix[i][j] += matrix[i-1][j]\n",
    "        \n",
    "        for points in queries:\n",
    "            topLefti, topLeftj = points[0]\n",
    "            bottomRighti, bottomRightj = points[1]\n",
    "            \n",
    "            sum = matrix[bottomRighti][bottomRightj]\n",
    "            if topLefti > 0: sum -= matrix[topLefti-1][bottomRightj]\n",
    "            if topLeftj > 0: sum -= matrix[bottomRighti][topLeftj-1]\n",
    "            if topLefti > 0 and topLeftj > 0: sum += matrix[topLefti-1][topLeftj-1]\n",
    "            print(sum)\n",
    "                \n",
    "        \n",
    "#   TL(i, j) BR(i, j)\n",
    "matrix = [\n",
    "    [1, 2, 3], \n",
    "    [4, 5, 6],\n",
    "    [7, 8, 9],\n",
    "]\n",
    "queries = [\n",
    "    [[0, 0], [2, 2]],\n",
    "    [[1, 1], [2, 2]],\n",
    "    [[1, 0], [2, 1]]\n",
    "]\n",
    "\n",
    "obj = ProcessingQueriesEffectively()\n",
    "obj.brute_force(matrix, queries)\n",
    "print()\n",
    "obj.prefixSumApproach(matrix, queries)"
   ]
  },
  {
   "cell_type": "markdown",
   "id": "65cabf37-303d-481b-8e02-74c9a6df3910",
   "metadata": {},
   "source": [
    "## A Special Searching Problem\n",
    "<div class=\"subtopic-lecture-notes\"><p>In this lecture, we will discuss a special type of searching problem. Here, we have been given a 2d matrix Arr[M][N] with sorted rows &amp; columns along with a key ‘k’. We have to return the coordinates of the key if it is present in the matrix otherwise return (-1, -1).<br><br></p><p><strong>Approach:</strong></p><ol><li><strong>Brute Force </strong>- Traverse the matrix to search for the key ‘k’ and return its coordinates if present otherwise returns (-1,-1).<br>\n",
    "Time complexity: <strong>O(MN)</strong><br>\n",
    "Space complexity: <strong>O(1)<br><br></strong></li><li><strong>Binary Search </strong>- Since the rows are sorted, therefore we can think of applying binary search while searching in each row.<br>\n",
    "Time complexity: <strong>O(MlogN)</strong><br>\n",
    "Space complexity: <strong>O(1)<br><br></strong>The above time complexity could have been achieved even if only the rows were sorted but here the columns are also sorted too. Can we use this fact to optimise it further?<br><br></li><li><strong>Can we somehow curtail the search space by traversing the matrix in a clever way?<br></strong>This approach involves observing the elements of the matrix and smartly traversing it to find the key. We can start traversing either from the Top Right(TR) or the Bottom Left(BL) cell of the matrix and move accordingly, comparing the key with the matrix elements.</li></ol><figure><img src=\"https://i.imgur.com/Tzd54Wt.jpg\" height=\"auto\" width=\"400px\" alt=\"Special Search\"></figure><p>Time complexity: <strong>O(M+N)</strong><br>\n",
    "Space complexity: <strong>O(1)</strong> &nbsp;<br><br><em>Note: We can not start the traversal from Top Left(TL) or Bottom Right(BR) cell because their neighbouring elements are either greater or smaller to them, therefore we do not get any clue on which direction we should move next.&nbsp;</em></p></div></div>"
   ]
  },
  {
   "cell_type": "code",
   "execution_count": 10,
   "id": "e4359f2a-7c2f-4159-89bc-23d5b612f35a",
   "metadata": {},
   "outputs": [
    {
     "name": "stdout",
     "output_type": "stream",
     "text": [
      "[3, 2]\n",
      "[3, 2]\n",
      "[3, 2]\n"
     ]
    }
   ],
   "source": [
    "class SpecialSearchingProblem:\n",
    "    def brute_force(self, matrix:list, key:int)->list[int]:\n",
    "        n = len(matrix)\n",
    "        m = len(matrix[0])\n",
    "        for i in range(n):\n",
    "            for j in range(m):\n",
    "                if matrix[i][j] == key:\n",
    "                    return [i, j]\n",
    "        return [-1, -1]\n",
    "    \n",
    "    # helper function for binary search\n",
    "    def binary_search(self, nums:list, key:int)->int:\n",
    "        low, high = 0, len(nums)-1\n",
    "        while(low < high):\n",
    "            mid = int((low + high)/2);\n",
    "            if nums[mid] == key:\n",
    "                return mid\n",
    "            if nums[mid] > key:\n",
    "                high = mid -1\n",
    "            else:\n",
    "                low = mid + 1\n",
    "        return -1  \n",
    "    def binary_search_approach(self, matrix:list, key:int)->list[int]:\n",
    "        n = len(matrix)\n",
    "        m = len(matrix[0])\n",
    "        for i in range(n):\n",
    "            j_index = self.binary_search(matrix[i], key)\n",
    "            if j_index != -1:\n",
    "                return [i, j_index]\n",
    "        return [-1, -1]\n",
    "    \n",
    "    def optimized_apporach(self, matrix:list, key:int)->list[int]:\n",
    "        n = len(matrix)\n",
    "        m = len(matrix[0])\n",
    "        if n < 1 or m < 1:\n",
    "            return [-1, -1];\n",
    "        i, j = 0, m-1;\n",
    "        while i <= n-1 and j >= 0:\n",
    "            if matrix[i][j] == key:\n",
    "                return [i, j];\n",
    "            if matrix[i][j] > key:\n",
    "                j -= 1\n",
    "            else:\n",
    "                i += 1\n",
    "        \n",
    "        return [-1, -1];\n",
    "        \n",
    "matrix =  [\n",
    "    [10, 20, 30, 40],\n",
    "    [15, 25, 35, 45], \n",
    "    [27, 29, 37, 48],\n",
    "    [32, 33, 39, 50],\n",
    "]\n",
    "key = 39\n",
    "obj = SpecialSearchingProblem()\n",
    "print(obj.brute_force(matrix, key))\n",
    "print(obj.binary_search_approach(matrix, key))\n",
    "print(obj.optimized_apporach(matrix, key))"
   ]
  },
  {
   "cell_type": "markdown",
   "id": "9b681475-eeee-4a31-993b-e77898d35ab5",
   "metadata": {},
   "source": [
    "## Max Gap Problem: Bucketing\n",
    "<div class=\"subtopic-lecture-notes\"><p>In this lecture, we will learn about the technique of <u>Bucketing</u>. Here we have been given an integer array ‘Arr[ N ]’ and we have to return the maximum difference between two consecutive elements when the array is in a sorted state.<br><br></p><p><strong>Approach:</strong><br></p><ol><li><strong>Brute Force</strong> - Sort the array and calculate the maximum difference between two consecutive elements.<br>\n",
    "Time complexity: <strong>O(NlogN)</strong><br>\n",
    "Space complexity: <strong>O(1)<br><br></strong></li><li><strong>Using Bucketization</strong> - Can you think of the minimum possible value of the answer? Let’s call it <em>gap</em>.<br><br><strong>gap = ceil((Max - Min)/(N - 1))</strong> &nbsp;<br><br>\n",
    "Eg. <u>10</u> _ _ _ _ &nbsp;<u>20</u> ; N=6<br><br>\n",
    "In this case, the <em>gap</em> will be 2, i.e. when the elements are 12, 14, 16, 18 respectively.<br><br>\n",
    "Similarly for, &nbsp;<u>10</u> _ _ _ _ <u>21</u> ; N=6<br><br>\n",
    "The <em>gap</em> will be 3, i.e. when the elements are 12, 14, 16, 18 respectively.<br><br>\n",
    "Since we know that, <em>Answer &gt;= gap</em>. Thus, if somehow we are able to create buckets of size ‘<em>gap</em>’, then there will not be any need to calculate the difference between the elements which are lying in those particular buckets.<br><br>\n",
    "And if we observe carefully, we will realise that our answer will be the maximum of the differences between the max &amp; min elements from consecutive buckets.<br><br>\n",
    "Time complexity: <strong>O(N)</strong><br>\n",
    "Space complexity: <strong>O(N)<br><br>\n",
    "Summary of the steps:</strong></li></ol><ul><li>Find the minimum possible value of the answer ie <em><strong>gap =</strong></em><strong> ceil((max-min)/(N-1))<br><br></strong></li><li>Create two temporary arrays maxArr[ N ] and minArr[ N ] for storing the max &amp; min of each bucket.<br><br></li><li>Calculate the bucket number of each element ie <strong>bucket = (Arr[ i ] - min)/gap </strong>and store the min &amp; max of each bucket in minArr &amp; maxArr.<br><br><em>Note: In the above equation, 'gap' can not be zero (0/0 division), therefore take care of test cases containing all elements as equal.<br><br></em></li><li>Iterate on maxArr &amp; minArr to calculate the difference between the maximum &amp; minimum elements from the consecutive buckets. &nbsp;</li></ul></div></div>"
   ]
  },
  {
   "cell_type": "code",
   "execution_count": 11,
   "id": "8da3ee89-4e6e-4700-8a92-aca967b2662c",
   "metadata": {},
   "outputs": [
    {
     "name": "stdout",
     "output_type": "stream",
     "text": [
      "32\n",
      "32\n"
     ]
    }
   ],
   "source": [
    "import math\n",
    "class MaxGapProblem:\n",
    "    def brute_force(self, nums:list)->int:\n",
    "        nums.sort()\n",
    "        maxDifference = 0\n",
    "        for i in range(len(nums)-1):\n",
    "            if nums[i+1] - nums[i] > maxDifference:\n",
    "                maxDifference = nums[i+1] - nums[i]\n",
    "        return maxDifference\n",
    "    \n",
    "    def using_bucketization(self, nums:list)->int:\n",
    "        minElement = min(nums)\n",
    "        maxElement = max(nums)\n",
    "        n = len(nums)\n",
    "        if n < 2:\n",
    "            return 0\n",
    "        gap = math.ceil((maxElement - minElement)/(n-1))\n",
    "        if (maxElement - minElement) % (n-1) != 0:\n",
    "            gap += 1\n",
    "        \n",
    "        bucket = [[float('inf'), float('-inf')] for _ in range(n)]\n",
    "        if minElement == maxElement:\n",
    "            return 0\n",
    "        \n",
    "        for i in range(n):\n",
    "            bucketNumber = int((nums[i] - minElement)/gap)\n",
    "            bucket[bucketNumber][0] = min(bucket[bucketNumber][0], nums[i])\n",
    "            bucket[bucketNumber][1] = max(bucket[bucketNumber][1], nums[i])\n",
    "        \n",
    "        ans = float('-inf')\n",
    "        prev = float('-inf')\n",
    "        \n",
    "        for i in range(n):\n",
    "            if bucket[i][0] == float('inf'):\n",
    "                continue\n",
    "            if prev == float('-inf'):\n",
    "                prev = bucket[i][1]\n",
    "            else:\n",
    "                ans = max(bucket[i][0] - prev, ans)\n",
    "                prev = bucket[i][1]\n",
    "        \n",
    "        return ans\n",
    "            \n",
    "obj = MaxGapProblem()\n",
    "nums = [65, 25, 27, 33, 25, 70]\n",
    "nums1 = [65, 25, 27, 33, 25, 70]\n",
    "print(obj.brute_force(nums))\n",
    "print(obj.using_bucketization(nums1))"
   ]
  },
  {
   "cell_type": "code",
   "execution_count": null,
   "id": "8e15a897-4693-4a03-a704-cdf2d96224f4",
   "metadata": {},
   "outputs": [],
   "source": []
  }
 ],
 "metadata": {
  "kernelspec": {
   "display_name": "Python 3 (ipykernel)",
   "language": "python",
   "name": "python3"
  },
  "language_info": {
   "codemirror_mode": {
    "name": "ipython",
    "version": 3
   },
   "file_extension": ".py",
   "mimetype": "text/x-python",
   "name": "python",
   "nbconvert_exporter": "python",
   "pygments_lexer": "ipython3",
   "version": "3.10.9"
  }
 },
 "nbformat": 4,
 "nbformat_minor": 5
}
