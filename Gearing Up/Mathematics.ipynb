{
 "cells": [
  {
   "cell_type": "markdown",
   "metadata": {},
   "source": [
    "<div class=\"subtopic-lecture-notes\"><p><strong>GCD (Greatest Common Divisor) </strong>or <strong>HCF (Highest Common Factor) </strong>of two numbers ‘a’ &amp; ‘b’ (a,b &gt;=0) is the largest number that divides both ‘a’ &amp; ‘b’.<br>\n",
    "Eg. GCD(10,15) = 5<br><br>\n",
    "How to calculate GCD?<br><br><strong>Approach:</strong></p><ol><li><strong>Brute Force </strong>- Since <strong>1 &lt;= GCD(a,b) &lt;= min(a,b)</strong> &nbsp;&nbsp;; a, b &gt; 0<br>\n",
    "We can create a for loop from min(a,b) to 1 and check if the number is divisible by both ‘a’ and ‘b’.<br>\n",
    "Time complexity: <strong>O(min(a, b))</strong><br>\n",
    "Space complexity: <strong>O(1)</strong></li><li><strong>Euclid’s Division Lemma </strong>- We can use the concept of repeated divisions to find the GCD of two numbers ‘a’ and ‘b’.<br>\n",
    "Here, the <strong>divisor = max(a, b) </strong>and <strong>dividend = min(a, b)</strong>. We repeatedly perform division operations until the remainder becomes zero.<br><br>\n",
    "For a&gt;=b, after every division,<br><strong>divisor = a%b<br>\n",
    "dividend = b<br></strong><br>\n",
    "Time complexity: <strong>O(log2(max(a,b))</strong><br>\n",
    "Space complexity: <strong>O(1)</strong></li></ol><p><strong>Note: </strong>GCD of any non-zero number with zero is the number itself. &nbsp;</p></div>"
   ]
  },
  {
   "cell_type": "code",
   "execution_count": 1,
   "metadata": {},
   "outputs": [
    {
     "name": "stdout",
     "output_type": "stream",
     "text": [
      "6\n",
      "6\n"
     ]
    }
   ],
   "source": [
    "class GCD:\n",
    "    def gcd_brute_force(self, a:int, b:int)->int:\n",
    "        for i in range(1, min(a,b)+1):\n",
    "            if a%i == 0 and b%i == 0:\n",
    "                gcd = i\n",
    "        return gcd\n",
    "    \n",
    "    def gcd_euclid_division_lemma(self, a:int, b:int)->int:\n",
    "        divisor = max(a, b)\n",
    "        dividend = min(a, b)\n",
    "        while divisor % dividend != 0:\n",
    "            temp = dividend\n",
    "            dividend = divisor % dividend\n",
    "            divisor = temp\n",
    "        return dividend\n",
    "    \n",
    "    \n",
    "obj = GCD()\n",
    "a = 18\n",
    "b = 12\n",
    "print(obj.gcd_brute_force(a, b))\n",
    "print(obj.gcd_euclid_division_lemma(a, b))"
   ]
  },
  {
   "cell_type": "markdown",
   "metadata": {},
   "source": [
    "### More on GCD\n",
    "<div class=\"subtopic-lecture-notes\"><p>In this lecture, we will learn how to calculate the GCD of integers stored in an array.<br><br>\n",
    "For three numbers ‘a’, ‘b’ and ‘c’,</p><p>GCD(a, b, c) = GCD(GCD(a, b), c) = GCD(GCD(a, c), b) = GCD(a, GCD(b, c))<br><br>\n",
    "Using the above logic, the GCD of an array ‘Arr[N]’ can be calculated as -&nbsp;</p><p><code>int GCD = Arr[0];<br>\n",
    "for(int i = 1; i &lt; N; i++){<br>\n",
    "&nbsp;&nbsp;&nbsp;&nbsp;&nbsp;GCD = gcd(GCD, Arr[ i ]);<br>\n",
    "}</code><br><br>\n",
    "Q. We have been given an integer array ‘Arr[ N ]’. Return ‘1’ if the array contains a subsequence with GCD = 1 otherwise return ‘0’.<br><br>\n",
    "Approach:<br></p><ol><li><strong>Brute Force </strong>- Find all the subsequences of the array and calculate their GCD.<br>\n",
    "Time complexity: <strong>O(2^N)<br></strong>For every element we have two options either to select it in the subsequence or not, thus there will be 2^N number of total &nbsp;subsequences.<br>\n",
    "Space complexity: <strong>O(1)</strong></li><li><strong>Can we check all the pairs in the array to find if there is any subsequence with GCD = 1?<br></strong>No, the above method may not work in every case.<br>\n",
    "Eg. For Arr[3] = {6, 10, 15}, GCD(6, 10) = 2; GCD(6, 15) = 3; GCD(10, 15) = 5 but GCD(6, 10, 15) = 1&nbsp;</li><li><strong>Since we know that the GCD of any number with 1 is 1 itself. Can we use this fact to solve the problem?</strong><br>\n",
    "We can calculate the GCD of the entire array and if it is equal to 1, it means the required subsequence exists inside the array, otherwise it doesn’t.<br>\n",
    "Time complexity: <strong>O(Nlog2(max(Arr[ i ])))<br></strong>Space complexity: <strong>O(1)</strong></li></ol></div></div>"
   ]
  },
  {
   "cell_type": "code",
   "execution_count": 2,
   "metadata": {},
   "outputs": [
    {
     "name": "stdout",
     "output_type": "stream",
     "text": [
      "6\n"
     ]
    }
   ],
   "source": [
    "class MoreOnGCD(GCD):\n",
    "    # Statement 3\n",
    "    def gcd_array(self, nums : list)->int:\n",
    "        n = len(nums)\n",
    "        gcd = nums[0]\n",
    "        for i in range(1, n):\n",
    "            gcd = self.gcd_euclid_division_lemma(gcd, nums[i])\n",
    "        return gcd\n",
    "\n",
    "obj1More = MoreOnGCD()\n",
    "nums = [12, 18, 36]\n",
    "print(obj1More.gcd_array(nums))  "
   ]
  },
  {
   "cell_type": "markdown",
   "metadata": {},
   "source": [
    " ### Generating All Factors\n",
    " <div class=\"subtopic-lecture-notes\"><p>Factors of a number ‘a’ are all the different numbers that divide ‘a’. <br>\n",
    "Eg. Factors of 12 = {1, 2, 3, 4, 6, 12}<br><br><strong>Approach:</strong></p><ol><li><strong>Brute Force</strong> - Iterate from 1 to N and check if they divide N or not.<br>\n",
    "Time complexity: <strong>O(N)</strong></li><li><strong>Optimised Brute Force</strong> - Since the factors of ‘N’ are symmetric about its square root ie √N.&nbsp;</li></ol><figure><img src=\"https://i.imgur.com/Cle09Lv.jpg\" height=\"auto\" width=\"400px\" alt=\"Factors of a number are symmetric around its square root\"></figure><p>Therefore, we can iterate from 1 to √N. And if ‘i’ divides N, it means both ‘i’ and ‘N/i’ are the factors of N excluding the case where i=N/i or i =√N - to avoid duplication while printing.<br>\n",
    "Time complexity: O(√N)<br><br><strong>Note:</strong> If an integer is a perfect square then it has an odd number of factors otherwise it will have an even number of factors.</p></div></div>"
   ]
  },
  {
   "cell_type": "code",
   "execution_count": 3,
   "metadata": {},
   "outputs": [
    {
     "name": "stdout",
     "output_type": "stream",
     "text": [
      "1 2 4 5 10 20 25 50 100 \n",
      "1 100  2 50  4 25  5 20  10 "
     ]
    }
   ],
   "source": [
    "class GeneratingAllFactor:\n",
    "    def brute_force(self, N:int)->None:\n",
    "        for i in range(1, N+1):\n",
    "            if N%i == 0:\n",
    "                print(i, end = \" \")\n",
    "    \n",
    "    def optimized_brute_force(self, N:int)->None:\n",
    "        for i in range(1, int(N**0.5)+1):\n",
    "            if N%i == 0:\n",
    "                if i*i == N:\n",
    "                    print(i, end = \" \")\n",
    "                else:\n",
    "                    print(f\"{int(i):d} {int(N/i):d}\", end = \"  \")\n",
    "\n",
    "obj = GeneratingAllFactor()\n",
    "N = 100\n",
    "obj.brute_force(N)\n",
    "print()\n",
    "obj.optimized_brute_force(N)"
   ]
  },
  {
   "cell_type": "markdown",
   "metadata": {},
   "source": [
    "## Open Close Problem\n",
    "<div class=\"subtopic-lecture-notes\"><p>There are N doors that are initially closed. There are N rounds and In every round ‘i’, we have to toggle the states of all the doors which are a multiple of ‘i’. Find the number of doors open at the end of the game.</p><p><strong>Approach:</strong> We know that a door will be toggled only if it is divisible by ‘i’. This implies that a door will be toggled as many times as the number of factors it has.<br>\n",
    "Since we know that a perfect square has an odd number of factors while an imperfect square has an even number of factors. Therefore, only the state of those doors will change that are a perfect square or the doors having an odd number of factors.&nbsp;</p><p><strong>Answer = (int)sqrt(N)</strong></p></div></div>"
   ]
  },
  {
   "cell_type": "code",
   "execution_count": 4,
   "metadata": {},
   "outputs": [
    {
     "name": "stdout",
     "output_type": "stream",
     "text": [
      "True False False True False \n",
      "True False False True False \n",
      "True False False True False \n",
      "True False False True False \n",
      "True False False True False \n",
      "2\n",
      "2\n"
     ]
    }
   ],
   "source": [
    "class OpenCloseProblem:\n",
    "    def solution_bute_force(self, states:list, N:int)->int:\n",
    "        for i in range(1, N+1):\n",
    "            for j in range(i, len(states)):\n",
    "                if j%i == 0:\n",
    "                    states[j] = not states[j]\n",
    "        \n",
    "        for i in range(1, N+1):\n",
    "            for j in range(1, N+1):\n",
    "                print(states[j], end = \" \")\n",
    "            print()\n",
    "        \n",
    "        open = 0\n",
    "        for i in states:\n",
    "            if i == 1:\n",
    "                open += 1\n",
    "        return open\n",
    "    \n",
    "    def solution_optimized(self, states:list, N:int)->int:\n",
    "        return int(N**0.5)\n",
    "\n",
    "obj = OpenCloseProblem()\n",
    "states = [0, 0, 0, 0, 0, 0]\n",
    "states1 = states\n",
    "N = 5\n",
    "print(obj.solution_bute_force(states, N))\n",
    "print(obj.solution_optimized(states1, N))"
   ]
  },
  {
   "cell_type": "markdown",
   "metadata": {
    "tags": []
   },
   "source": [
    "## Primality Test\n",
    "<div class=\"subtopic-lecture-notes\"><p>If a number ‘x’(&gt;1) has only two divisors - 1 and ‘x’ ie. the number itself then it is called a Prime Number. In this lecture, we will learn how to check the primality of any number ‘N’ in O(N) time complexity. &nbsp;&nbsp;<br><br><strong>Approach:</strong></p><ol><li><strong>Brute Force</strong> - Count the factors of ‘N’ by iterating from 1 to 'N'. It will be a prime number only if the count is 2.<br>\n",
    "Time complexity: <strong>O(N)</strong></li><li><strong>Optimised Brute Force</strong> - Since we know that the factors of ‘N’ are symmetric about √N. Therefore, we can iterate from 1 to √N and count the total number of factors of ‘N’. It will be a prime number if the count is 1.<br>\n",
    "Time complexity: <strong>O(</strong>√N <strong>)&nbsp;</strong></li></ol></div></div>"
   ]
  },
  {
   "cell_type": "code",
   "execution_count": 5,
   "metadata": {},
   "outputs": [
    {
     "name": "stdout",
     "output_type": "stream",
     "text": [
      "True\n",
      "True\n"
     ]
    }
   ],
   "source": [
    "class PrimalityTest:\n",
    "    def isPrime_brute_force(self, N:int)->bool:\n",
    "        count = 0\n",
    "        for i in range(1, N+1):\n",
    "            if N%i == 0:\n",
    "                count += 1\n",
    "        return count == 2\n",
    "    \n",
    "    def isPrime_optimized_brute_force(self, N:int)->bool:\n",
    "        if N == 1:\n",
    "            return False\n",
    "        for i in range(2, int(N**0.5)+1):\n",
    "            if N%i == 0:\n",
    "                return False\n",
    "        return True\n",
    "        \n",
    "obj = PrimalityTest()\n",
    "N = 2\n",
    "print(obj.isPrime_brute_force(N))\n",
    "print(obj.isPrime_optimized_brute_force(N))"
   ]
  },
  {
   "cell_type": "markdown",
   "metadata": {},
   "source": [
    "## Primality Test in a range\n",
    "<div class=\"subtopic-lecture-notes\"><p>In this lecture, we will learn how to find all the prime numbers in the range of 1 to N using the<strong> Sieve of Eratosthenes</strong>. It is the most efficient pre-processing technique to find all the prime numbers less than 10^7.<br><strong>Note:</strong> It is not advisable to use it if N&gt;10^7 or if the range is not starting from 1.&nbsp;</p><p><strong>Approach:</strong></p><ol><li><strong>Brute Force</strong> - We can iterate from 1 to N and can check the primality of each number individually.<br>\n",
    "Time complexity: <strong>O(N</strong><strong>√</strong><strong>N)</strong><br>\n",
    "Space complexity: <strong>O(1)</strong></li><li><strong>Using Sieve of Eratosthenes</strong> - In this technique, we create a boolean array to represent the state of the numbers from 1 to N. Initially we assume each one of them to be prime and we iterate from 2 to N marking all their divisors to be non-prime in the boolean array. <br>\n",
    "We follow this process only for the numbers that are marked as prime in the boolean array. At the end, we will be left with the true nature of the numbers in the boolean array. <br>\n",
    "Time complexity: <em>N/2+N/3+N/5+N/7+...+=N[1/2+1/3+1/5+1/7+...+] </em>= <strong>O(Nlog(logN))</strong><br>\n",
    "Space complexity: <strong>O(N)</strong></li></ol></div></div>"
   ]
  },
  {
   "cell_type": "markdown",
   "metadata": {},
   "source": [
    "\n",
    "### Implementing Sieve\n",
    "<div class=\"subtopic-lecture-notes\"><p>In this lecture, we will look at the implementation of the sieve of Eratosthenes.</p><p>bool Primes[N+1]; &nbsp;&nbsp;&nbsp;&nbsp;&nbsp;&nbsp;&nbsp;&nbsp;&nbsp;&nbsp;&nbsp;&nbsp;//To store the nature of all the numbers from 1 to N<br>\n",
    "for(int i = 1; i&lt;N+1; i++){<br>\n",
    "&nbsp;&nbsp;&nbsp;&nbsp;&nbsp;Primes[i]=1; &nbsp;&nbsp;&nbsp;&nbsp;&nbsp;&nbsp;&nbsp;&nbsp;&nbsp;&nbsp;&nbsp;&nbsp;&nbsp;&nbsp;&nbsp;&nbsp;//All the numbers are marked as Primes<br>\n",
    "}<br>\n",
    "Primes[0]=0; &nbsp; &nbsp;&nbsp;&nbsp;&nbsp;&nbsp;&nbsp;&nbsp;&nbsp;&nbsp;&nbsp;&nbsp;&nbsp;&nbsp;&nbsp;&nbsp;&nbsp;//Non-primes are represented by 0<br>\n",
    "for(int i = 2; i*i&lt;=N; i++){<br>\n",
    "&nbsp;&nbsp;&nbsp;&nbsp;&nbsp;if(Primes[i]==1){ &nbsp;&nbsp;&nbsp; &nbsp;&nbsp;&nbsp;//If a number is prime then mark its multiples as non-prime<br>\n",
    "&nbsp;&nbsp;&nbsp;&nbsp;&nbsp;&nbsp;&nbsp;&nbsp;for(int j=i*i;j&lt;=N;j+=i){<br>\n",
    "&nbsp;&nbsp;&nbsp;&nbsp;&nbsp;&nbsp;&nbsp;&nbsp;&nbsp;&nbsp;&nbsp;&nbsp;&nbsp;&nbsp;Primes[j]=0; &nbsp;&nbsp;&nbsp;<br>\n",
    "&nbsp;&nbsp;&nbsp;&nbsp;&nbsp;&nbsp;&nbsp;&nbsp;&nbsp;}<br>\n",
    "&nbsp;&nbsp;&nbsp;&nbsp;&nbsp;&nbsp;}<br>\n",
    "}</p><p><strong>Drawback:</strong></p><p>If we have to find the prime numbers in the range - 10^9 to 10^10. Then this approach may not be helpful because the space required by the boolean array will not fit in the memory of the program. For such cases, the brute force approach of O(N√N) will be a better choice.<br></p></div></div>"
   ]
  },
  {
   "cell_type": "code",
   "execution_count": 6,
   "metadata": {},
   "outputs": [
    {
     "name": "stdout",
     "output_type": "stream",
     "text": [
      "2 3 5 7 11 13 17 19 23 29 31 37 41 43 47 53 59 61 67 71 73 79 83 89 97 None\n",
      "[1, 0, 1, 1, 0, 1, 0, 1, 0, 0, 0, 1, 0, 1, 0, 0, 0, 1, 0, 1, 0, 0, 0, 1, 0, 0, 0, 0, 0, 1, 0, 1, 0, 0, 0, 0, 0, 1, 0, 0, 0, 1, 0, 1, 0, 0, 0, 1, 0, 0, 0, 0, 0, 1, 0, 0, 0, 0, 0, 1, 0, 1, 0, 0, 0, 0, 0, 1, 0, 0, 0, 1, 0, 1, 0, 0, 0, 0, 0, 1, 0, 0, 0, 1, 0, 0, 0, 0, 0, 1, 0, 0, 0, 0, 0, 0, 0, 1, 0, 0, 0]\n"
     ]
    }
   ],
   "source": [
    "class PrimalityTestInRange(PrimalityTest):\n",
    "    def brute_force(self, N:int)->None:\n",
    "        for i in range(1, N+1):\n",
    "            if self.isPrime_optimized_brute_force(i):\n",
    "                print(i, end = \" \")\n",
    "    \n",
    "    def seive_of_eratosthenes(self, N:int)->list:\n",
    "        prime = [1]*(N+1)\n",
    "        prime[1] = 0\n",
    "        for i in range(2, int(N**0.5)+1):\n",
    "            if prime[i]:\n",
    "                for j in range(i*i, N+1, i):\n",
    "                    prime[j] = 0 \n",
    "        return prime\n",
    "    \n",
    "obj = PrimalityTestInRange()\n",
    "N = 100\n",
    "print(obj.brute_force(N))\n",
    "print(obj.seive_of_eratosthenes(N))"
   ]
  },
  {
   "cell_type": "markdown",
   "metadata": {},
   "source": [
    "## Prime Factorization\n",
    "<div class=\"subtopic-lecture-notes\"><p>Expressing a number as a product of its prime factors is called <u>Prime factorisation</u>. N = P1*P2*P3..Pi where P1, P2,...Pi are primes.</p><p>Eg. 12=2*2*3</p><p><strong>Approach:</strong><br></p><ol><li><strong>Brute Force</strong> - Iterate ‘i’ from 2 to N and keep dividing N till it is divisible by ‘i’. Maintain the count of each prime factor to find their power in the prime factorisation of N.<br><strong>Can it ever happen that i divides N but it is a composite number?</strong><br>\n",
    "No, it will not happen as we are starting with the lowest possible prime number i.e. 2.<br>\n",
    "Time complexity: O(N + log2N)</li><li>Since <em>√N*√N=N</em>, therefore if one of the prime factors is larger than √N then the rest have to be smaller than √N otherwise the product of prime factors will be larger than N, which is not possible.<br>\n",
    "Hence we can optimize the previous brute force approach by iterating ‘i’ from 2 to √N and keep dividing N till it is divisible by ‘i’. At the end of the process, we have to check the remaining number. If it is not equal to 1 then it is to be counted as a prime factor of N.<br>\n",
    "Eg. 404=2*2*101<br><strong>Note:</strong> The maximum number of terms the prime factorisation of a number would have is equal to log2N.<br>\n",
    "Time complexity: <strong>O(</strong><em><strong>√N</strong></em><strong> &nbsp;+ log2N) = O(</strong><em><strong>√N</strong></em> <strong>)</strong></li></ol></div></div>"
   ]
  },
  {
   "cell_type": "code",
   "execution_count": 7,
   "metadata": {},
   "outputs": [
    {
     "name": "stdout",
     "output_type": "stream",
     "text": [
      "2 2 101 \n",
      "2 2 101 "
     ]
    }
   ],
   "source": [
    "class PrimeFactorization:\n",
    "    def brute_foce(self, N:int)->None:\n",
    "        for i in range(2, N+1):\n",
    "            while(N%i == 0):\n",
    "                N = N/i\n",
    "                print(i, end = \" \")\n",
    "                \n",
    "    def optimized_brute_foce(self, N:int)->None:\n",
    "        for i in range(2, int(N*0.5)+1):\n",
    "            while(N%i == 0):\n",
    "                N = N/i\n",
    "                print(i, end = \" \")\n",
    "    \n",
    "obj = PrimeFactorization()\n",
    "N = 404\n",
    "obj.brute_foce(N)\n",
    "print()\n",
    "obj.optimized_brute_foce(N)\n",
    "            "
   ]
  },
  {
   "cell_type": "markdown",
   "metadata": {},
   "source": [
    "## Fast Factorization\n",
    "\n",
    "<div class=\"subtopic-lecture-notes\"><p>In this lecture, we will learn the concept of fast factorisation by finding the prime factorisation of Q queries. <br><br>\n",
    "Print the prime factorisation of n1, n2, n3,.., nq (ni&lt;=N).<br><br><strong>Approach:</strong><br></p><ol><li><strong>Using Sieve of Eratosthenes</strong> - Create an array of prime numbers (&lt;=N) using the Sieve of Eratosthenes. Iterate through the array to find all the prime factors of ni. <br>\n",
    "Time complexity: <strong>O(Nlog(logN)+(number of primes x (logN)))</strong><br>\n",
    "Space complexity: <strong>O(N)</strong></li><li><strong>Using Smallest Prime Factor (SPF)</strong> - This method helps in getting rid of useless prime numbers by finding the smallest prime factor of all the numbers till N. We implement this algorithm by slightly modifying the code of the sieve of Eratosthenes. <br>\n",
    "Time complexity: <strong>O(NloglogN + QlogN)</strong><br>\n",
    "Space complexity: <strong>O(N)</strong><strong>&nbsp;</strong></li></ol></div></div>"
   ]
  },
  {
   "cell_type": "code",
   "execution_count": 8,
   "metadata": {},
   "outputs": [
    {
     "name": "stdout",
     "output_type": "stream",
     "text": [
      "[[101], [2, 2, 101], [17], [2, 2, 3, 3]]\n",
      "[[101], [2, 2, 101], [17], [2, 2, 3, 3]]\n"
     ]
    }
   ],
   "source": [
    "class FastFactorization:\n",
    "    def using_seive_of_eratosthens(self, N:int, queries:list)->list:\n",
    "        isPrime = [1]*(N+1)\n",
    "        isPrime[1] = 0\n",
    "        for i in range(2, int(N**0.5)+1):\n",
    "            if isPrime[i]:\n",
    "                for j in range(i*i, N+1, i):\n",
    "                    isPrime[j] = 0\n",
    "        ans = []\n",
    "        for num in queries:\n",
    "            factor = []\n",
    "            for i in range(2, N+1):\n",
    "                while(isPrime[i] and num % i == 0):\n",
    "                    factor.append(i)\n",
    "                    num /= i;\n",
    "            ans.append(factor)\n",
    "                \n",
    "        return ans\n",
    "    \n",
    "    def using_seive_of_eratosthens_spf(self, N:int, queries:list)->list:\n",
    "        isPrime = [1]*(N+1)\n",
    "        smallestPrimeFactor = [-1]*(N+1)\n",
    "        isPrime[1] = 0\n",
    "        for i in range(2, int(N**0.5)+1):\n",
    "            if(isPrime[i]):\n",
    "                for j in range(i*i, N+1, i):\n",
    "                    if isPrime[j]:\n",
    "                        isPrime[j] = 0\n",
    "                        smallestPrimeFactor[j] = i\n",
    "                        \n",
    "        ans = []\n",
    "        for num in queries:\n",
    "            factor = []\n",
    "            if smallestPrimeFactor[num] != -1:\n",
    "                while(smallestPrimeFactor[num] != -1):\n",
    "                    factor.append(smallestPrimeFactor[num])\n",
    "                    num = int(num / smallestPrimeFactor[num])\n",
    "            if num != 1:\n",
    "                factor.append(num)\n",
    "            ans.append(factor)\n",
    "        return ans\n",
    "            \n",
    "obj = FastFactorization()\n",
    "N = 500\n",
    "queries = [101, 404, 17, 36]\n",
    "\n",
    "print(obj.using_seive_of_eratosthens(N, queries))\n",
    "print(obj.using_seive_of_eratosthens_spf(N, queries))"
   ]
  },
  {
   "cell_type": "markdown",
   "metadata": {},
   "source": [
    "## Counting Divisors Faster\n",
    "<div class=\"subtopic-lecture-notes\"><p>In continuation with the previous lecture on Fast Factorization, we will learn how to efficiently count the factors of a number ‘N’ by using the Rule of Products. <br><br>\n",
    "We have been given an integer, N = (P1)^c1(P2)^c2(P3)^c3..(Pi)^ci; where P1, P2, P3,.., Pi are prime numbers, then print the value of c1 + c2 + c3 +..+ ci.<br><br><strong>Approach: </strong>Since we know that any factor of N consists of the product of some or all the prime factors of N. And for every prime factor Pi with power ci, we have (ci+1) different powers to consider in the product.&nbsp;</p><p>Therefore by Rule of Products, <strong>total number of divisors = (c1+1)(c2+1)(c3+1)..(ci+1)</strong>.&nbsp;</p></div></div>"
   ]
  },
  {
   "cell_type": "code",
   "execution_count": 4,
   "metadata": {},
   "outputs": [
    {
     "name": "stdout",
     "output_type": "stream",
     "text": [
      "24\n"
     ]
    }
   ],
   "source": [
    "class CountingDivisorsFaster:\n",
    "    def solution(self, N:int, queries:list)->None:\n",
    "        isPrime = [1]*(N+1)\n",
    "        smallestPrimeFactor = [-1]*(N+1)\n",
    "        isPrime[1] = 0\n",
    "        for i in range(2, int(N**0.5)+1):\n",
    "            if isPrime[i]:\n",
    "                for j in range(i*i, N+1, i):\n",
    "                    if isPrime[j]:\n",
    "                        isPrime[j] = 0\n",
    "                        smallestPrimeFactor[j] = i\n",
    "        \n",
    "        for num in queries:\n",
    "            smfFreqCount = 1\n",
    "            while smallestPrimeFactor[num] != -1:\n",
    "                smf = smallestPrimeFactor[num]\n",
    "                count = 0\n",
    "                while num % smf == 0:\n",
    "                    num = int(num/smallestPrimeFactor[num])\n",
    "                    count += 1\n",
    "                smfFreqCount *= (count+1)\n",
    "            if num != 1:\n",
    "                smfFreqCount *= 2\n",
    "            print(smfFreqCount)\n",
    "\n",
    "obj = CountingDivisorsFaster()\n",
    "N = 7000\n",
    "queries = [6060]\n",
    "obj.solution(N, queries) "
   ]
  },
  {
   "cell_type": "markdown",
   "metadata": {},
   "source": [
    "## Segmented Sieve\n",
    "<div class=\"subtopic-lecture-notes\"><p>In this lecture, we will see the limitation of the Sieve of Eratosthenes in finding primes in the range [L, R] where &nbsp;L~10^9 and (R-L) is small.<br><br><strong>Print all the primes in the range [L, R] such that L = 10^</strong><strong>10</strong><strong>, R=10^</strong><strong>10</strong><strong>+500.</strong></p><p><strong>Using Segmented Sieve:</strong><br>\n",
    "The major drawback of the sieve of Eratosthenes is the space taken by the auxiliary array. Can we somehow reduce the extra space?&nbsp;</p><ul><li>Consider that we have an array representing the state of numbers between L &amp; R. Then what will be the required prime numbers to strike off the composites in [L, R]?<br>\n",
    "=&gt; Primes between 2 to √R<br><br><strong>For example, For L = 90 &amp; R = 99, the prime numbers between 2 to √99(~10) are sufficient to strike off all the composites.</strong><br>\n",
    "90 &nbsp;91 &nbsp;92 &nbsp;93 &nbsp;94 &nbsp;95 &nbsp;96 &nbsp;97 &nbsp;98 &nbsp;99<br><br><strong>Numbers divisible by 2</strong><br>\n",
    "90 &nbsp;91 &nbsp;92 &nbsp;93 &nbsp;94 &nbsp;95 &nbsp;96 &nbsp;97 &nbsp;98 &nbsp;99<br><br><strong>Numbers divisible by 3 out of the remaining numbers<br></strong>91 &nbsp;93 &nbsp;95 &nbsp;97 &nbsp;99<br><br><strong>Numbers divisible by 5 out of the remaining numbers</strong><br>\n",
    "91 &nbsp;95 &nbsp;97 <br><br><strong>Numbers divisible by 7 out of the remaining numbers</strong><br>\n",
    "91 &nbsp;97<br><br><strong>Primes found: </strong>97</li><li>Since we are able to achieve our objective by using prime numbers till √R. Therefore there is no need to find the state of all the numbers from 1 to R.&nbsp;</li><li>We can use the Sieve of Eratosthenes to find the prime numbers between 1 to √R and can store them in a vector P[ ]. It will help in making the process of striking more efficient by removing the composites between 1 to √R. <br>\n",
    "Time complexity: O(√Rloglog√R)<br>\n",
    "Space complexity: O(√R)</li><li>Create a boolean array isPrime[ ] of size (R-L+1) to track the state of numbers in [L, R] and mark them as prime initially.&nbsp;</li><li>Iterate on the primes array P[ ] and strike out their divisors by marking them as non-prime in the isPrime[ ] array.<br>\n",
    "The first multiple of prime P[i] in the range [L,R] can be found as P[i]*k where k = ceil((L*1.0)/P[i])</li></ul><p><strong>Note:&nbsp;</strong></p><ul><li>ceil() returns the Greatest Integer close to the decimal value inside it. <br>\n",
    "ceil(3.2) = 4<br>\n",
    "ceil(3.0) = 3</li><li>L/P[i] results in an integer division therefore we multiply L with 1.0 for a float division.</li></ul></div></div>"
   ]
  },
  {
   "cell_type": "markdown",
   "metadata": {},
   "source": [
    "<div class=\"subtopic-notes-content\"><div class=\"subtopic-notes-heading\">Implementing Segmented Sieve</div><div class=\"subtopic-lecture-notes\"><p>Here we will look at the implementation of the segmented sieve, discussed in the previous lecture.</p><p>Find prime numbers in the range [Li, Ri] for the given ‘Q’ queries - (L1, R1), (L2, R2), (L3, R3)....(Lq, Rq) &amp; R&lt;=10^11.</p><p><strong>Code:</strong></p><p><code><strong>//Extracting primes between 1 to √R(~10^</strong></code><code><strong>6</strong></code><code><strong>)</strong></code></p><p><code>vector&lt;int&gt; getPrimes( ){<br>\n",
    " &nbsp;&nbsp;&nbsp;&nbsp;&nbsp;vector&lt;bool&gt; isPrime(10^</code><code>6</code><code>+1, true); </code><code>&nbsp;</code><code>//labeling numbers till √R as prime(true)<br>\n",
    " &nbsp;&nbsp;&nbsp;&nbsp;&nbsp;isPrime[1] = false;<br>\n",
    " &nbsp;&nbsp;&nbsp;&nbsp;&nbsp;for(int i = 2; i*i&lt;=10^</code><code>6</code><code>; i++){<br>\n",
    " &nbsp;&nbsp;&nbsp;&nbsp;&nbsp;&nbsp;&nbsp;&nbsp;&nbsp;&nbsp;&nbsp;if(isPrime[i]){</code><code> &nbsp;&nbsp;</code><code>//Iterating to strike multiples of prime no. ‘i’<br>\n",
    " &nbsp;&nbsp;&nbsp;&nbsp;&nbsp;&nbsp;&nbsp;&nbsp;&nbsp;&nbsp;&nbsp;&nbsp;&nbsp;&nbsp;for(int j = i*i; j&lt;=10^</code><code>6</code><code>; j+=i){<br>\n",
    " &nbsp;&nbsp;&nbsp;&nbsp;&nbsp;&nbsp;&nbsp;&nbsp;&nbsp;&nbsp;&nbsp;&nbsp;&nbsp;&nbsp;&nbsp;&nbsp;&nbsp;&nbsp;&nbsp;&nbsp;isPrime[j]=false; </code><code>&nbsp;</code><code>//marking non-primes as false </code><code>&nbsp;<br></code><code>}<br>\n",
    " &nbsp;&nbsp;&nbsp;&nbsp;&nbsp;&nbsp;&nbsp;&nbsp;&nbsp;&nbsp;&nbsp;}<br>\n",
    " &nbsp;&nbsp;&nbsp;&nbsp;&nbsp;&nbsp;&nbsp;}<br>\n",
    " &nbsp;&nbsp;&nbsp;&nbsp;&nbsp;&nbsp;&nbsp;vector&lt;int&gt; primes;<br>\n",
    " &nbsp;&nbsp;&nbsp;&nbsp;&nbsp;&nbsp;&nbsp;//storing all the prime numbers in a vector - primes[ ]<br>\n",
    " &nbsp;&nbsp;&nbsp;&nbsp;&nbsp;&nbsp;&nbsp;for(int i =1; i&lt;10^</code><code>6</code><code>; i++){<br>\n",
    " &nbsp;&nbsp;&nbsp;&nbsp;&nbsp;&nbsp;&nbsp;&nbsp;&nbsp;&nbsp;&nbsp;&nbsp;&nbsp;if(isPrime[i]){<br>\n",
    " &nbsp;&nbsp;&nbsp;&nbsp;&nbsp;&nbsp;&nbsp;&nbsp;&nbsp;&nbsp;&nbsp;&nbsp;&nbsp;&nbsp;&nbsp;&nbsp;primes.push_back(i);<br>\n",
    " &nbsp;&nbsp;&nbsp;&nbsp;&nbsp;&nbsp;&nbsp;&nbsp;&nbsp;&nbsp;&nbsp;&nbsp;&nbsp;}<br>\n",
    " &nbsp;&nbsp;&nbsp;&nbsp;&nbsp;&nbsp;&nbsp;&nbsp;}<br>\n",
    "}</code></p><p><code><strong>//finding primes in the range [L, R]</strong></code></p><p><code>//labeling numbers in [L, R] as prime(true)<br>\n",
    "vector&lt;bool&gt; isPrime(R-L+1, true)</code><code> <br><br></code><code>//iterating over the primes array to strike off their multiples in [L, R]<br>\n",
    "for(int i = 0; i&lt;primes.size(); i++){<br>\n",
    " &nbsp;&nbsp;&nbsp;&nbsp;&nbsp;int k = ceil((L*1.0)/primes[i]);<br>\n",
    " &nbsp;&nbsp;&nbsp;&nbsp;&nbsp;if(k&lt;2)k++;<br>\n",
    " &nbsp;&nbsp;&nbsp;&nbsp;&nbsp;//if primes[i]&gt;L, then k=1 &amp; primes[i]*k will be the prime itself, therefore we ensure that k&gt;=2</code><code> &nbsp;<br></code><code>for(int j = k; primes[i]*j&lt;=R; j++){<br>\n",
    " &nbsp;&nbsp;&nbsp;&nbsp;&nbsp;&nbsp;&nbsp;&nbsp;&nbsp;&nbsp;isPrime[primes[i]*j-L] = false;</code><code> &nbsp;</code><code>//marking composite numbers as false<br>\n",
    " &nbsp;&nbsp;&nbsp;&nbsp;&nbsp;}<br>\n",
    "}<br><br></code><code><strong>//iterate ‘Q’ times to print the primes in the range [L</strong></code><code><strong>i</strong></code><code><strong>, R</strong></code><code><strong>i</strong></code><code><strong>]</strong></code></p><p>Time complexity: <strong>O(√Rloglog√R + (R - L)(loglog√R))<br></strong>Space complexity: <strong>O(√R)</strong></p></div></div>"
   ]
  },
  {
   "cell_type": "code",
   "execution_count": 2,
   "metadata": {},
   "outputs": [
    {
     "ename": "IndexError",
     "evalue": "list index out of range",
     "output_type": "error",
     "traceback": [
      "\u001b[1;31m---------------------------------------------------------------------------\u001b[0m",
      "\u001b[1;31mIndexError\u001b[0m                                Traceback (most recent call last)",
      "Cell \u001b[1;32mIn[2], line 32\u001b[0m\n\u001b[0;32m     29\u001b[0m         \u001b[38;5;28;01mreturn\u001b[39;00m primeRange\n\u001b[0;32m     31\u001b[0m obj \u001b[38;5;241m=\u001b[39m SegmentedSeive()\n\u001b[1;32m---> 32\u001b[0m \u001b[43mobj\u001b[49m\u001b[38;5;241;43m.\u001b[39;49m\u001b[43msolution\u001b[49m\u001b[43m(\u001b[49m\u001b[43m[\u001b[49m\u001b[43m[\u001b[49m\u001b[38;5;241;43m1\u001b[39;49m\u001b[43m,\u001b[49m\u001b[43m \u001b[49m\u001b[38;5;241;43m10\u001b[39;49m\u001b[43m]\u001b[49m\u001b[43m]\u001b[49m\u001b[43m)\u001b[49m\n",
      "Cell \u001b[1;32mIn[2], line 18\u001b[0m, in \u001b[0;36mSegmentedSeive.solution\u001b[1;34m(self, queries)\u001b[0m\n\u001b[0;32m     16\u001b[0m \u001b[38;5;66;03m# for queries\u001b[39;00m\n\u001b[0;32m     17\u001b[0m L \u001b[38;5;241m=\u001b[39m queries[\u001b[38;5;241m0\u001b[39m]\n\u001b[1;32m---> 18\u001b[0m R \u001b[38;5;241m=\u001b[39m \u001b[43mqueries\u001b[49m\u001b[43m[\u001b[49m\u001b[38;5;241;43m1\u001b[39;49m\u001b[43m]\u001b[49m\n\u001b[0;32m     20\u001b[0m primeRange \u001b[38;5;241m=\u001b[39m [\u001b[38;5;241m1\u001b[39m]\u001b[38;5;241m*\u001b[39m(R\u001b[38;5;241m-\u001b[39mL\u001b[38;5;241m+\u001b[39m\u001b[38;5;241m1\u001b[39m)\n\u001b[0;32m     22\u001b[0m \u001b[38;5;28;01mfor\u001b[39;00m i \u001b[38;5;129;01min\u001b[39;00m \u001b[38;5;28mrange\u001b[39m(\u001b[38;5;28mlen\u001b[39m(prime)):\n",
      "\u001b[1;31mIndexError\u001b[0m: list index out of range"
     ]
    }
   ],
   "source": [
    "\n",
    "\n",
    "class SegmentedSeive:\n",
    "    def solution(self, queries:list)->list:\n",
    "        N = int(1000000)\n",
    "        isPrime = [1]*(N+1)\n",
    "        isPrime[1] = 0\n",
    "        for i in range(2, int(N**0.5)+1):\n",
    "            for j in range(i*i, N+1, i):\n",
    "                if isPrime[j]:\n",
    "                    isPrime[j] = 0\n",
    "        \n",
    "        prime = []\n",
    "        for i in range(1, N+1):\n",
    "            if isPrime[i]:\n",
    "                prime.append(i)\n",
    "        \n",
    "        # for queries\n",
    "        L = queries[0]\n",
    "        R = queries[1]\n",
    "        \n",
    "        primeRange = [1]*(R-L+1)\n",
    "        \n",
    "        for i in range(len(prime)):\n",
    "            k = math.ceil(L*1.0/prime[i])\n",
    "            if k < 2:\n",
    "                k += 1\n",
    "            for j in range(prime[i]*k, R+1, prime[i]):\n",
    "                primeRange[j - L] = 0\n",
    "        \n",
    "        return primeRange\n",
    "\n",
    "obj = SegmentedSeive()\n",
    "obj.solution([[1, 10]]) # make sure the differnence does not exceed 10^6\n",
    "                    "
   ]
  },
  {
   "cell_type": "code",
   "execution_count": 19,
   "metadata": {},
   "outputs": [
    {
     "data": {
      "text/plain": [
       "6000000.0"
      ]
     },
     "execution_count": 19,
     "metadata": {},
     "output_type": "execute_result"
    }
   ],
   "source": []
  },
  {
   "cell_type": "markdown",
   "metadata": {},
   "source": [
    "## Fundamentals of Modular Arithmetic\n",
    "\n",
    "<div class=\"subtopic-lecture-notes\"><p>Modulus of two numbers a &amp; b, i.e. a%b represents the remainder obtained after dividing a by b. <br><br><strong>Properties:</strong></p><ul><li>x%m ∈ [0, m-1]</li><li>There is a periodic repetition of x%m for a particular value of m &amp; x ∈ N U {0}. This property is also known as <strong>Modular congruence</strong>. <br>\n",
    "Eg. for m = 3<br>\n",
    "0%3 = 3%3 = 6%3 = 0 <br>\n",
    "1%3 = 4%3 =1<br>\n",
    "2%3 = 5%3 = 2<br><br>\n",
    "0 ≡ 3 mod 3 ≡ 6 mod 3&nbsp;</li><li>The remainder of the sum is equal to the sum of remainders -<br>\n",
    "(a+b)%m = (a%m + b%m)%m</li><li>(a-b)%m = (a%m) - (b%m) &nbsp;<strong>&nbsp;&nbsp;&nbsp;&nbsp;&nbsp;&nbsp;&nbsp;&nbsp;&nbsp;&nbsp;&nbsp;&nbsp;&nbsp;&nbsp;&nbsp;&nbsp;&nbsp;&nbsp;</strong>if (a%m)&gt;(b%m)<br>\n",
    " &nbsp;&nbsp;&nbsp;&nbsp;&nbsp;&nbsp;&nbsp;&nbsp;&nbsp;&nbsp;&nbsp;&nbsp;&nbsp;&nbsp;&nbsp;= (a%m) - (b%m) + m &nbsp;&nbsp;&nbsp;&nbsp;&nbsp;&nbsp;&nbsp;&nbsp;&nbsp;&nbsp;&nbsp;&nbsp;if (a%m)&lt;(b%m)&nbsp;</li><li>(a*b)%m = ((a%m)*(b%m))%m&nbsp;</li></ul></div></div>"
   ]
  },
  {
   "cell_type": "markdown",
   "metadata": {},
   "source": [
    "## Counting Pairs\n",
    "\n",
    "<div class=\"subtopic-lecture-notes\"><p>Here we have been given an integer array 'Arr[N]' and an integer ‘k’. We have to find the total number of pairs (i, j) such that (Arr[i]+Arr[j]) is divisible by ‘k’ where i≠j, Arr[i]&gt;=0.</p><p><strong>Note: </strong>Both (i,j) and (j,i) are counted as the same&nbsp;</p><p><strong>Approach:</strong></p><ol><li><strong>Brute Force </strong>- Consider all the possible pairs of the array &amp; count ones whose sum is divisible by ‘k’. &nbsp;<br>\n",
    "Time complexity: <strong>O(N^2)</strong><br>\n",
    "Space complexity: <strong>O(1)</strong></li><li><strong>Using the property of Modulus </strong>- The remainder of the sum is equal to the sum of remainders.<br>\n",
    "(ai+aj)%k = (ai%k+aj%k)%k<br>\n",
    "If ai%k = r1 &amp; aj%k = r2<br>\n",
    "then, (ai+aj)%k = (r1+r2)%k where 0&lt;=r1,r2&lt;=k-1<br>\n",
    "The above equation will yield zero if,&nbsp;</li></ol><ul><li>r1 + r2 = 0<br>\n",
    "It is possible when: r1 = 0 &amp; r2 = 0</li><li>r1 + r2 = k<br>\n",
    "It is possible when: r1 = i &amp; r2 = k-i where 1&lt;=i&lt;=k-1<br>\n",
    "We can create an array cnt[k] to store the frequency of remainders from 0 to k-1. By the rule of products and the rule of combinatorics, the answer will be given as -</li></ul><figure><img src=\"https://i.imgur.com/1yPtuUF.jpg\" height=\"auto\" width=\"Auto\" alt=\"Answer\"></figure><p>Time complexity: <strong>O(N+k)</strong><br>\n",
    "Space complexity: <strong>O(k)</strong></p></div></div>"
   ]
  },
  {
   "cell_type": "code",
   "execution_count": 11,
   "metadata": {},
   "outputs": [
    {
     "name": "stdout",
     "output_type": "stream",
     "text": [
      "4\n",
      "4\n"
     ]
    }
   ],
   "source": [
    "class CountingPairs:\n",
    "    def counting_pairs_brute_force(self, nums:list, k:int)->int:\n",
    "        count = 0\n",
    "        for i in range(len(nums)):\n",
    "            for j in range(i+1, len(nums)):\n",
    "                if (nums[i]+ nums[j]) % k == 0:\n",
    "                    count += 1\n",
    "        return count\n",
    "    \n",
    "    def counting_pairs_optimal(self, nums:list, k:int)->int:\n",
    "        n = len(nums)\n",
    "        counts = [0]*k;\n",
    "        for n in nums:\n",
    "            counts[n%k] += 1\n",
    "        ans = int(counts[0]*(counts[0]-1)/2);\n",
    "        for i in range(1, int(k/2-1) +1):\n",
    "            ans += counts[i]*counts[k-i]\n",
    "        \n",
    "        if k % 2 == 0:\n",
    "            ans += int(counts[int(k/2)]*(counts[int(k/2)]-1)/2); # N*(N-1)/2\n",
    "        else:\n",
    "            ans += counts[int(k/2)]*counts[int(k/2)+1]\n",
    "        return ans\n",
    "            \n",
    "obj = CountingPairs()\n",
    "nums = [2, 2, 4, 3, 5]\n",
    "k = 2\n",
    "print(obj.counting_pairs_brute_force(nums, k))\n",
    "print(obj.counting_pairs_optimal(nums, k))"
   ]
  },
  {
   "cell_type": "markdown",
   "metadata": {},
   "source": [
    "## Counting Triplets\n",
    "\n",
    "<div class=\"subtopic-lecture-notes\"><p>We have been given an integer array 'Arr[N]' and an integer ‘m’. We have to find the count of triplets (i, j, k) such that (Arr[i]+Arr[j]+Arr[k]) is divisible by ‘m’ where Arr[i]&gt;=0.</p><p><strong>Note: </strong>All permutations of the triplet (i, j, k) have been considered as the same</p><p><strong>Approach:</strong></p><ol><li><strong>Brute Force </strong>- Consider all the triplets of Arr[N] &amp; count ones whose sum is divisible by ‘k’. <br>\n",
    "Time complexity: O(N^3) <br>\n",
    "Space complexity: O(1) &nbsp;&nbsp;&nbsp;&nbsp;&nbsp;&nbsp;&nbsp;&nbsp;&nbsp;&nbsp;&nbsp;&nbsp;&nbsp;</li><li><strong>Using the property of modulus </strong>- The remainder of the sum is equal to the sum of remainders. <br>\n",
    "(ai+aj+ak)%m = ((ai+aj)%m+ak%m)%m = ((ai%m+aj%m)%m+ak%m)%m<br>\n",
    "If ai%m=ri, aj%m=rj &amp; ak%m=rk <br>\n",
    "i.e. ((ri+rj)%m+rk)%m where, 0&lt;=ri,rj,rk&lt;=k-1<br><br>\n",
    "The above equation will be zero when:</li></ol><ul><li>If (ri+rj)%m = 0 then rk = 0&nbsp;</li><li>If (ri+rj)%m = x then rk = k - x <br><br>\n",
    "So we can iterate for the first two remainders which will automatically fix the third one. And by using the rule of combinatorics &amp; the rule of products we can easily calculate the answer. <br>\n",
    "Time complexity: <strong>O(N+m^</strong><strong>2</strong><strong>)</strong><br>\n",
    "Space complexity:<strong> O(m)</strong><br><br><strong>Note: </strong>The second approach is better than the first approach only when N&gt;M. Eg. N=100 &amp; m = 100. If it is the opposite, then using the first approach is a better idea. &nbsp;</li></ul></div></div>"
   ]
  },
  {
   "cell_type": "code",
   "execution_count": 12,
   "metadata": {},
   "outputs": [
    {
     "name": "stdout",
     "output_type": "stream",
     "text": [
      "3\n",
      "3\n"
     ]
    }
   ],
   "source": [
    "class CountingTriplet:\n",
    "    def brute_force(self, nums:list, m:int)->int:\n",
    "        n = len(nums)\n",
    "        count = 0\n",
    "        for i in range(n):\n",
    "            for j in range(i+1, n):\n",
    "                for k in range(j+1, n):\n",
    "                    if (nums[i] + nums[j] + nums[k])%m == 0:\n",
    "                        count += 1\n",
    "        return count\n",
    "    \n",
    "    def optimal_solution(self, nums:list, m:int)->int:\n",
    "        n = len(nums)\n",
    "        counts = [0]*m\n",
    "        for num in nums:\n",
    "            counts[num%m] += 1;\n",
    "        ans = 0\n",
    "        \n",
    "        for i in range(m):\n",
    "            for j in range(i,m):\n",
    "                if (i+j)%m == 0: k = 0\n",
    "                else: k = (m -(i+j)%m)\n",
    "                if k < j : continue\n",
    "                \n",
    "                if i == j and j == k:\n",
    "                    ans += int(counts[i]*(counts[i]-1)*(counts[i]-2)/6)\n",
    "                elif i == j:\n",
    "                    ans += int((counts[i]*(counts[i]-1)/2)*counts[k])\n",
    "                elif i == k:\n",
    "                    ans += int((counts[i]*(counts[i]-1)/2)*counts[j])\n",
    "                elif j == k:\n",
    "                    ans += int((counts[j]*(counts[j]-1)/2)*counts[i])\n",
    "                else:\n",
    "                    \n",
    "                    ans += counts[i]*counts[j]*counts[k]\n",
    "        return ans;\n",
    "                \n",
    "                    \n",
    "obj = CountingTriplet()\n",
    "nums = [2, 3, 4, 5, 1, 8]\n",
    "m = 8\n",
    "print(obj.brute_force(nums, m))\n",
    "print(obj.optimal_solution(nums, m))"
   ]
  },
  {
   "cell_type": "markdown",
   "metadata": {},
   "source": [
    "## Pascal Triangle for nCr\n",
    "\n",
    "<div class=\"subtopic-lecture-notes\"><p>We have been given ‘N’ boys and ‘M’ girls and we need to choose a group containing exactly ‘T’ people having no less than 4 boys and 1 girl. Print the number of distinct combinations of groups that are possible. 4&lt;=N&lt;=30 &amp; 1&lt;=M&lt;=30</p><p><strong>Approach:&nbsp;</strong></p><ul><li>Suppose we have 5 boys &amp; 5 girls and we want to make a team of 5, then the number of distinct combinations will be 10C5</li><li>If we want all the above combinations except those consisting of 2 boys &amp; 3 girls then the number of distinct combinations will be 10C5 - 5C2*5C3. <br>\n",
    "Taking a hint from above, the number of distinct groups consisting of T people out of N+M people will be (N+M)CT. <br>\n",
    "Since 4&lt;=N and M&gt;=1, therefore</li></ul><figure><img src=\"https://i.imgur.com/188GLdr.jpg\" height=\"auto\" width=\"600px\" alt=\"Answer\"></figure><p><strong>Note:</strong> <em>In </em><em>N</em><em>C</em><em>r</em><em>, N&gt;=r. Pay attention to this rule while writing the code. For eg. In </em><em>N</em><em>C</em><em>1*M</em><em>C</em><em>T</em><em>, T-1&gt;=M.<br></em><br>\n",
    "For N=M=30, we will need to calculate 60C30 = 60!/(30!*30!). But 60! can not be stored in any of the known data types. But we also know that 60C30 lies in the integer range. This is where Pascal’s Triangle comes to the rescue. &nbsp;<br><br><strong>Pascal’s Triangle is a numerical pattern consisting of numbers arranged in a triangular fashion.</strong>&nbsp;</p><figure><img src=\"https://i.imgur.com/rRvWA1g.jpg\" height=\"auto\" width=\"400px\" alt=\"Pascal's Trangle\"></figure><p>∴ We can create a 2D matrix of size 61x61 and use the above formula to calculate different nCr values.&nbsp;</p><figure><img src=\"https://i.imgur.com/d6xkY8L.jpg\" height=\"auto\" width=\"400px\" alt=\"2D matrix for Pascal's Trangle\"></figure><p><code>//code for finding nCr values for N=M=30<br><br>\n",
    "long long P[61][61];<br>\n",
    "P[0][0]=1;<br>\n",
    "for(int i = 0; i&lt;61; i++){<br>\n",
    " &nbsp;&nbsp;&nbsp;&nbsp;&nbsp;for(int j = 0; j&lt;=i; j++){<br>\n",
    " &nbsp;&nbsp;&nbsp;&nbsp;&nbsp;&nbsp;&nbsp;&nbsp;&nbsp;&nbsp;&nbsp;if(i==j or j==0) P[i][j]=1;<br>\n",
    " &nbsp;&nbsp;&nbsp;&nbsp;&nbsp;&nbsp;&nbsp;&nbsp;&nbsp;&nbsp;&nbsp;else P[i][j]=P[i-1][j-1] + P[i-1][j];<br>\n",
    " &nbsp;&nbsp;&nbsp;&nbsp;&nbsp;}<br>\n",
    "}</code></p></div></div>"
   ]
  },
  {
   "cell_type": "code",
   "execution_count": 4,
   "metadata": {},
   "outputs": [
    {
     "name": "stdout",
     "output_type": "stream",
     "text": [
      "10\n"
     ]
    }
   ],
   "source": [
    "class PascalTriangle:\n",
    "    def populate_pascal_triangle(self, n:int, m:int)->list:\n",
    "        pascal = [[0 for j in range(m)] for i in range(n)]\n",
    "        for i in range(n):\n",
    "            for j in range(0, i+1):\n",
    "                if j == 0 or i == j:\n",
    "                    pascal[i][j] = 1\n",
    "                else:\n",
    "                    pascal[i][j] = pascal[i-1][j-1] + pascal[i-1][j]\n",
    "        return pascal\n",
    "    \n",
    "    def solution(self, boys:int, girls:int, totalChoose:int)->int:\n",
    "        pascal = self.populate_pascal_triangle(61, 61)\n",
    "        ans = pascal[boys+girls][totalChoose]\n",
    "        if girls >= totalChoose : ans -= pascal[boys][0]*pascal[girls][totalChoose]\n",
    "        if girls >= totalChoose-1 : ans -= pascal[boys][1]*pascal[girls][totalChoose-1]\n",
    "        if girls >= totalChoose-2 : ans -= pascal[boys][2]*pascal[girls][totalChoose-2]\n",
    "        if girls >= totalChoose-3 : ans -= pascal[boys][3]*pascal[girls][totalChoose-3]\n",
    "        if boys >= totalChoose : ans -= pascal[boys][totalChoose]\n",
    "        \n",
    "        return ans\n",
    "        \n",
    "obj = PascalTriangle()\n",
    "print(obj.solution(5, 2, 5))    "
   ]
  },
  {
   "cell_type": "markdown",
   "metadata": {},
   "source": [
    "## Introduction to Catalan Numbers \n",
    "<div class=\"subtopic-lecture-notes\"><p>In this lecture, we will study an interesting set of numbers called <strong>Catalan Numbers</strong> and see how they can help us in solving the <strong>Balanced parenthesis problem</strong>.</p><p>Q. Print the count of distinct Balanced parentheses consisting of ‘N’ pairs of braces<br>\n",
    "For N=3<br>\n",
    " &nbsp;&nbsp;&nbsp;&nbsp;&nbsp;&nbsp;(( ))( ) - Balanced <br>\n",
    " &nbsp;&nbsp;&nbsp;&nbsp;&nbsp;&nbsp;( ))(( ) - Unbalanced&nbsp;</p><p><strong>Approach:</strong><strong>&nbsp;</strong></p><ul><li>We can find the number of balanced parentheses for lower values of N. <br><br>\n",
    "For N=0 → Empty<br>\n",
    "cnt[0] = 1 <br><br>\n",
    "For N=1 → ( )<br>\n",
    "cnt[1] = 1<br><br>\n",
    "For N=2 → ( )( ), (( ))<br>\n",
    "cnt[2] = 2 <br><br>\n",
    "For N=3 → ( )( )( ), ( )(( )), (( ))( ), (( )( )), ((( )))<br>\n",
    "cnt[3] = 5&nbsp;</li><li>In a balanced parentheses, for any prefix string cnt( ‘<strong>(</strong>‘ ) &gt; = cnt( ‘<strong>)</strong>‘ ). Let us see how we can use this property together with the Product Rule to find out the number of balanced parentheses for higher values of N. <br>\n",
    "For N=5, the balanced parentheses can be represented as <br>\n",
    "(<u>Inside</u>[I]) <u>Outside</u>[O]<br><br>\n",
    "We can analyze it by putting all possible bracket combinations in the inside &amp; outside area.<br>\n",
    "(<u>0</u> I ) <u>4</u> O &nbsp;= cnt[0]*cnt[4] <br>\n",
    "(<u>1</u> I ) <u>3</u> O = cnt[1]*cnt[3] <br>\n",
    "(<u>2</u> I ) <u>2</u> O = cnt[2]*cnt[2]<br>\n",
    "(<u>3</u> I ) <u>1</u> O = cnt[3]*cnt[1]<br>\n",
    "(<u>4</u> I ) <u>0</u> O = cnt[4]*cnt[0]</li></ul><p><strong>cnt[5] = cnt[0]*cnt[4] + cnt[1]*cnt[3] + cnt[2]*cnt[2] + cnt[3]*cnt[1] + cnt[4]*cnt[0]</strong><strong> </strong><br><br>\n",
    "The above pattern makes an important family of numbers known as Catalan numbers. We can create an array cnt[N+1] to store the answers for different values of N.</p><figure><img src=\"https://i.imgur.com/hN9eqZZ.jpg\" height=\"auto\" width=\"600px\" alt=\"Catalan Family of Numbers\"></figure><p>Time complexity: <strong>O(N^</strong><strong>2</strong><strong>)</strong><br>\n",
    "Space complexity: <strong>O(N)</strong>&nbsp;</p></div></div>"
   ]
  },
  {
   "cell_type": "code",
   "execution_count": 14,
   "metadata": {},
   "outputs": [
    {
     "data": {
      "text/plain": [
       "[1, 1, 2, 5, 14, 42, 132]"
      ]
     },
     "execution_count": 14,
     "metadata": {},
     "output_type": "execute_result"
    }
   ],
   "source": [
    "class CatalanNumber:\n",
    "    def printCatalan_balancedParenthesis(self, n:int)->list:\n",
    "        storeCatalan = [0]*(n+1)\n",
    "        storeCatalan[0], storeCatalan[1] = 1, 1\n",
    "        for i in range(2, n+1):\n",
    "            for j in range(0, i):\n",
    "                storeCatalan[i] += storeCatalan[j]*storeCatalan[i-j-1]\n",
    "        return storeCatalan\n",
    "\n",
    "obj = CatalanNumber()\n",
    "obj.printCatalan_balancedParenthesis(6)"
   ]
  },
  {
   "cell_type": "markdown",
   "metadata": {},
   "source": [
    "## Applications of Catalan Numbers\n",
    "\n",
    "<div class=\"subtopic-lecture-notes\"><p>We have a 2D grid of dimension MxN. Initially, we are at source(0, 0) and we want to reach the destination(M-1, N-1). At a time we can either move 1 unit downwards or rightwards. Print the total number of unique paths to reach the destination.</p><p><strong>Approach:&nbsp;</strong></p><p>Any path that we choose is a combination of right(‘R’) and down(‘D’) moves. For a 3x3 grid, the paths can be expressed as-</p><ol><li>RRDD</li><li>RDRD</li><li>RDDR</li><li>DDRR</li><li>DRDR</li><li>DRRD</li></ol><p>Since each path can be expressed as a string consisting of (M-1) Ds &amp; (N-1) Rs. Therefore, we can say that the number of unique paths will be equal to the number of unique strings consisting of (M-1) Ds and (N-1) Rs.</p><figure><img src=\"https://i.imgur.com/x5ATwfw.jpg\" height=\"auto\" width=\"500px\" alt=\"Answer1\"></figure><p>Q. We have been given a square matrix of dimension NxN. Find the total number of unique paths to travel from the source(0, 0) to destination(N-1, N-1) such that no path crosses the major diagonal (i&gt;=j)</p><p><strong>Approach:</strong></p><ul><li>Since we know the total number of unique paths from source to destination, the answer should be half of it i.e. (2N-2)C(N-1)/2. Is this correct?<br><em>No, it is not, test the hypothesis with some examples.&nbsp;</em></li><li>If you observe the right paths carefully then you will realize that for all of them i&gt;=j i.e. for any prefix of their equivalent path strings, cnt(<strong>‘D’</strong>) &gt;= cnt(<strong>‘R’</strong>). Also for every D, there exists a corresponding R.&nbsp;<br></li></ul><figure><img src=\"https://i.imgur.com/e2NB1BX.png\" height=\"auto\" width=\"400px\" alt=\"Counting steps\"></figure><p><img src=\"https://i.imgur.com/feNWt2L.png\" height=\"auto\" width=\"500px\" alt=\"Steps\"></p><ul><li>The equivalent path string exhibits a behaviour similar to the balanced parentheses. Thus, we can easily map the logic of Catalan numbers here and our answer will be the (N-1)th Catalan number.</li></ul><figure><img src=\"https://i.imgur.com/ms6zlSA.jpg\" height=\"auto\" width=\"600px\" alt=\"answer2\"></figure><p>Time complexity: <strong>O(N^2)</strong><br>\n",
    "Space complexity: <strong>O(N)</strong></p></div></div>"
   ]
  }
 ],
 "metadata": {
  "kernelspec": {
   "display_name": "Python 3 (ipykernel)",
   "language": "python",
   "name": "python3"
  },
  "language_info": {
   "codemirror_mode": {
    "name": "ipython",
    "version": 3
   },
   "file_extension": ".py",
   "mimetype": "text/x-python",
   "name": "python",
   "nbconvert_exporter": "python",
   "pygments_lexer": "ipython3",
   "version": "3.10.9"
  }
 },
 "nbformat": 4,
 "nbformat_minor": 4
}
