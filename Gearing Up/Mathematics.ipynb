{
 "cells": [
  {
   "cell_type": "markdown",
   "metadata": {},
   "source": [
    "<div class=\"subtopic-lecture-notes\"><p><strong>GCD (Greatest Common Divisor) </strong>or <strong>HCF (Highest Common Factor) </strong>of two numbers ‘a’ &amp; ‘b’ (a,b &gt;=0) is the largest number that divides both ‘a’ &amp; ‘b’.<br>\n",
    "Eg. GCD(10,15) = 5<br><br>\n",
    "How to calculate GCD?<br><br><strong>Approach:</strong></p><ol><li><strong>Brute Force </strong>- Since <strong>1 &lt;= GCD(a,b) &lt;= min(a,b)</strong> &nbsp;&nbsp;; a, b &gt; 0<br>\n",
    "We can create a for loop from min(a,b) to 1 and check if the number is divisible by both ‘a’ and ‘b’.<br>\n",
    "Time complexity: <strong>O(min(a, b))</strong><br>\n",
    "Space complexity: <strong>O(1)</strong></li><li><strong>Euclid’s Division Lemma </strong>- We can use the concept of repeated divisions to find the GCD of two numbers ‘a’ and ‘b’.<br>\n",
    "Here, the <strong>divisor = max(a, b) </strong>and <strong>dividend = min(a, b)</strong>. We repeatedly perform division operations until the remainder becomes zero.<br><br>\n",
    "For a&gt;=b, after every division,<br><strong>divisor = a%b<br>\n",
    "dividend = b<br></strong><br>\n",
    "Time complexity: <strong>O(log2(max(a,b))</strong><br>\n",
    "Space complexity: <strong>O(1)</strong></li></ol><p><strong>Note: </strong>GCD of any non-zero number with zero is the number itself. &nbsp;</p></div>"
   ]
  },
  {
   "cell_type": "code",
   "execution_count": 9,
   "metadata": {},
   "outputs": [
    {
     "name": "stdout",
     "output_type": "stream",
     "text": [
      "6\n",
      "6\n"
     ]
    }
   ],
   "source": [
    "class GCD:\n",
    "    def gcd_brute_force(self, a:int, b:int)->int:\n",
    "        for i in range(1, min(a,b)+1):\n",
    "            if a%i == 0 and b%i == 0:\n",
    "                gcd = i\n",
    "        return gcd\n",
    "    \n",
    "    def gcd_euclid_division_lemma(self, a:int, b:int)->int:\n",
    "        divisor = max(a, b)\n",
    "        dividend = min(a, b)\n",
    "        while divisor % dividend != 0:\n",
    "            temp = dividend\n",
    "            dividend = divisor % dividend\n",
    "            divisor = temp\n",
    "        return dividend\n",
    "    \n",
    "    \n",
    "obj = GCD()\n",
    "a = 18\n",
    "b = 12\n",
    "print(obj.gcd_brute_force(a, b))\n",
    "print(obj.gcd_euclid_division_lemma(a, b))"
   ]
  },
  {
   "cell_type": "markdown",
   "metadata": {},
   "source": [
    "### More on GCD\n",
    "<div class=\"subtopic-lecture-notes\"><p>In this lecture, we will learn how to calculate the GCD of integers stored in an array.<br><br>\n",
    "For three numbers ‘a’, ‘b’ and ‘c’,</p><p>GCD(a, b, c) = GCD(GCD(a, b), c) = GCD(GCD(a, c), b) = GCD(a, GCD(b, c))<br><br>\n",
    "Using the above logic, the GCD of an array ‘Arr[N]’ can be calculated as -&nbsp;</p><p><code>int GCD = Arr[0];<br>\n",
    "for(int i = 1; i &lt; N; i++){<br>\n",
    "&nbsp;&nbsp;&nbsp;&nbsp;&nbsp;GCD = gcd(GCD, Arr[ i ]);<br>\n",
    "}</code><br><br>\n",
    "Q. We have been given an integer array ‘Arr[ N ]’. Return ‘1’ if the array contains a subsequence with GCD = 1 otherwise return ‘0’.<br><br>\n",
    "Approach:<br></p><ol><li><strong>Brute Force </strong>- Find all the subsequences of the array and calculate their GCD.<br>\n",
    "Time complexity: <strong>O(2^N)<br></strong>For every element we have two options either to select it in the subsequence or not, thus there will be 2^N number of total &nbsp;subsequences.<br>\n",
    "Space complexity: <strong>O(1)</strong></li><li><strong>Can we check all the pairs in the array to find if there is any subsequence with GCD = 1?<br></strong>No, the above method may not work in every case.<br>\n",
    "Eg. For Arr[3] = {6, 10, 15}, GCD(6, 10) = 2; GCD(6, 15) = 3; GCD(10, 15) = 5 but GCD(6, 10, 15) = 1&nbsp;</li><li><strong>Since we know that the GCD of any number with 1 is 1 itself. Can we use this fact to solve the problem?</strong><br>\n",
    "We can calculate the GCD of the entire array and if it is equal to 1, it means the required subsequence exists inside the array, otherwise it doesn’t.<br>\n",
    "Time complexity: <strong>O(Nlog2(max(Arr[ i ])))<br></strong>Space complexity: <strong>O(1)</strong></li></ol></div></div>"
   ]
  },
  {
   "cell_type": "code",
   "execution_count": 18,
   "metadata": {},
   "outputs": [
    {
     "name": "stdout",
     "output_type": "stream",
     "text": [
      "6\n"
     ]
    }
   ],
   "source": [
    "class MoreOnGCD(GCD):\n",
    "    # Statement 3\n",
    "    def gcd_array(self, nums : list)->int:\n",
    "        n = len(nums)\n",
    "        gcd = nums[0]\n",
    "        for i in range(1, n):\n",
    "            gcd = self.gcd_euclid_division_lemma(gcd, nums[i])\n",
    "        return gcd\n",
    "\n",
    "obj1More = MoreOnGCD()\n",
    "nums = [12, 18, 36]\n",
    "print(obj1More.gcd_array(nums))  "
   ]
  },
  {
   "cell_type": "markdown",
   "metadata": {},
   "source": [
    " ### Generating All Factors\n",
    " <div class=\"subtopic-lecture-notes\"><p>Factors of a number ‘a’ are all the different numbers that divide ‘a’. <br>\n",
    "Eg. Factors of 12 = {1, 2, 3, 4, 6, 12}<br><br><strong>Approach:</strong></p><ol><li><strong>Brute Force</strong> - Iterate from 1 to N and check if they divide N or not.<br>\n",
    "Time complexity: <strong>O(N)</strong></li><li><strong>Optimised Brute Force</strong> - Since the factors of ‘N’ are symmetric about its square root ie √N.&nbsp;</li></ol><figure><img src=\"https://i.imgur.com/Cle09Lv.jpg\" height=\"auto\" width=\"400px\" alt=\"Factors of a number are symmetric around its square root\"></figure><p>Therefore, we can iterate from 1 to √N. And if ‘i’ divides N, it means both ‘i’ and ‘N/i’ are the factors of N excluding the case where i=N/i or i =√N - to avoid duplication while printing.<br>\n",
    "Time complexity: O(√N)<br><br><strong>Note:</strong> If an integer is a perfect square then it has an odd number of factors otherwise it will have an even number of factors.</p></div></div>"
   ]
  },
  {
   "cell_type": "code",
   "execution_count": 18,
   "metadata": {},
   "outputs": [
    {
     "name": "stdout",
     "output_type": "stream",
     "text": [
      "1 2 4 5 10 20 25 50 100 \n",
      "1 100  2 50  4 25  5 20  10 "
     ]
    }
   ],
   "source": [
    "class GeneratingAllFactor:\n",
    "    def brute_force(self, N:int)->None:\n",
    "        for i in range(1, N+1):\n",
    "            if N%i == 0:\n",
    "                print(i, end = \" \")\n",
    "    \n",
    "    def optimized_brute_force(self, N:int)->None:\n",
    "        for i in range(1, int(N**0.5)+1):\n",
    "            if N%i == 0:\n",
    "                if i*i == N:\n",
    "                    print(i, end = \" \")\n",
    "                else:\n",
    "                    print(f\"{int(i):d} {int(N/i):d}\", end = \"  \")\n",
    "\n",
    "obj = GeneratingAllFactor()\n",
    "N = 100\n",
    "obj.brute_force(N)\n",
    "print()\n",
    "obj.optimized_brute_force(N)"
   ]
  },
  {
   "cell_type": "markdown",
   "metadata": {},
   "source": [
    "## Open Close Problem\n",
    "<div class=\"subtopic-lecture-notes\"><p>There are N doors that are initially closed. There are N rounds and In every round ‘i’, we have to toggle the states of all the doors which are a multiple of ‘i’. Find the number of doors open at the end of the game.</p><p><strong>Approach:</strong> We know that a door will be toggled only if it is divisible by ‘i’. This implies that a door will be toggled as many times as the number of factors it has.<br>\n",
    "Since we know that a perfect square has an odd number of factors while an imperfect square has an even number of factors. Therefore, only the state of those doors will change that are a perfect square or the doors having an odd number of factors.&nbsp;</p><p><strong>Answer = (int)sqrt(N)</strong></p></div></div>"
   ]
  },
  {
   "cell_type": "code",
   "execution_count": 17,
   "metadata": {},
   "outputs": [
    {
     "name": "stdout",
     "output_type": "stream",
     "text": [
      "True False False True False \n",
      "True False False True False \n",
      "True False False True False \n",
      "True False False True False \n",
      "True False False True False \n",
      "2\n",
      "2\n"
     ]
    }
   ],
   "source": [
    "class OpenCloseProblem:\n",
    "    def solution_bute_force(self, states:list, N:int)->int:\n",
    "        for i in range(1, N+1):\n",
    "            for j in range(i, len(states)):\n",
    "                if j%i == 0:\n",
    "                    states[j] = not states[j]\n",
    "        \n",
    "        for i in range(1, N+1):\n",
    "            for j in range(1, N+1):\n",
    "                print(states[j], end = \" \")\n",
    "            print()\n",
    "        \n",
    "        open = 0\n",
    "        for i in states:\n",
    "            if i == 1:\n",
    "                open += 1\n",
    "        return open\n",
    "    \n",
    "    def solution_optimized(self, states:list, N:int)->int:\n",
    "        return int(N**0.5)\n",
    "\n",
    "obj = OpenCloseProblem()\n",
    "states = [0, 0, 0, 0, 0, 0]\n",
    "states1 = states\n",
    "N = 5\n",
    "print(obj.solution_bute_force(states, N))\n",
    "print(obj.solution_optimized(states1, N))"
   ]
  },
  {
   "cell_type": "markdown",
   "metadata": {
    "tags": []
   },
   "source": [
    "## Primality Test\n",
    "<div class=\"subtopic-lecture-notes\"><p>If a number ‘x’(&gt;1) has only two divisors - 1 and ‘x’ ie. the number itself then it is called a Prime Number. In this lecture, we will learn how to check the primality of any number ‘N’ in O(N) time complexity. &nbsp;&nbsp;<br><br><strong>Approach:</strong></p><ol><li><strong>Brute Force</strong> - Count the factors of ‘N’ by iterating from 1 to 'N'. It will be a prime number only if the count is 2.<br>\n",
    "Time complexity: <strong>O(N)</strong></li><li><strong>Optimised Brute Force</strong> - Since we know that the factors of ‘N’ are symmetric about √N. Therefore, we can iterate from 1 to √N and count the total number of factors of ‘N’. It will be a prime number if the count is 1.<br>\n",
    "Time complexity: <strong>O(</strong>√N <strong>)&nbsp;</strong></li></ol></div></div>"
   ]
  },
  {
   "cell_type": "code",
   "execution_count": 26,
   "metadata": {},
   "outputs": [
    {
     "name": "stdout",
     "output_type": "stream",
     "text": [
      "True\n",
      "True\n"
     ]
    }
   ],
   "source": [
    "class PrimalityTest:\n",
    "    def isPrime_brute_force(self, N:int)->bool:\n",
    "        count = 0\n",
    "        for i in range(1, N+1):\n",
    "            if N%i == 0:\n",
    "                count += 1\n",
    "        return count == 2\n",
    "    \n",
    "    def isPrime_optimized_brute_force(self, N:int)->bool:\n",
    "        if N == 1:\n",
    "            return False\n",
    "        for i in range(2, int(N**0.5)+1):\n",
    "            if N%i == 0:\n",
    "                return False\n",
    "        return True\n",
    "        \n",
    "obj = PrimalityTest()\n",
    "N = 2\n",
    "print(obj.isPrime_brute_force(N))\n",
    "print(obj.isPrime_optimized_brute_force(N))"
   ]
  },
  {
   "cell_type": "markdown",
   "metadata": {},
   "source": [
    "## Primality Test in a range\n",
    "<div class=\"subtopic-lecture-notes\"><p>In this lecture, we will learn how to find all the prime numbers in the range of 1 to N using the<strong> Sieve of Eratosthenes</strong>. It is the most efficient pre-processing technique to find all the prime numbers less than 10^7.<br><strong>Note:</strong> It is not advisable to use it if N&gt;10^7 or if the range is not starting from 1.&nbsp;</p><p><strong>Approach:</strong></p><ol><li><strong>Brute Force</strong> - We can iterate from 1 to N and can check the primality of each number individually.<br>\n",
    "Time complexity: <strong>O(N</strong><strong>√</strong><strong>N)</strong><br>\n",
    "Space complexity: <strong>O(1)</strong></li><li><strong>Using Sieve of Eratosthenes</strong> - In this technique, we create a boolean array to represent the state of the numbers from 1 to N. Initially we assume each one of them to be prime and we iterate from 2 to N marking all their divisors to be non-prime in the boolean array. <br>\n",
    "We follow this process only for the numbers that are marked as prime in the boolean array. At the end, we will be left with the true nature of the numbers in the boolean array. <br>\n",
    "Time complexity: <em>N/2+N/3+N/5+N/7+...+=N[1/2+1/3+1/5+1/7+...+] </em>= <strong>O(Nlog(logN))</strong><br>\n",
    "Space complexity: <strong>O(N)</strong></li></ol></div></div>\n",
    "\n",
    "### Implementing Sieve\n",
    "<div class=\"subtopic-lecture-notes\"><p>In this lecture, we will look at the implementation of the sieve of Eratosthenes.</p><p>bool Primes[N+1]; &nbsp;&nbsp;&nbsp;&nbsp;&nbsp;&nbsp;&nbsp;&nbsp;&nbsp;&nbsp;&nbsp;&nbsp;//To store the nature of all the numbers from 1 to N<br>\n",
    "for(int i = 1; i&lt;N+1; i++){<br>\n",
    "&nbsp;&nbsp;&nbsp;&nbsp;&nbsp;Primes[i]=1; &nbsp;&nbsp;&nbsp;&nbsp;&nbsp;&nbsp;&nbsp;&nbsp;&nbsp;&nbsp;&nbsp;&nbsp;&nbsp;&nbsp;&nbsp;&nbsp;//All the numbers are marked as Primes<br>\n",
    "}<br>\n",
    "Primes[0]=0; &nbsp; &nbsp;&nbsp;&nbsp;&nbsp;&nbsp;&nbsp;&nbsp;&nbsp;&nbsp;&nbsp;&nbsp;&nbsp;&nbsp;&nbsp;&nbsp;&nbsp;//Non-primes are represented by 0<br>\n",
    "for(int i = 2; i*i&lt;=N; i++){<br>\n",
    "&nbsp;&nbsp;&nbsp;&nbsp;&nbsp;if(Primes[i]==1){ &nbsp;&nbsp;&nbsp; &nbsp;&nbsp;&nbsp;//If a number is prime then mark its multiples as non-prime<br>\n",
    "&nbsp;&nbsp;&nbsp;&nbsp;&nbsp;&nbsp;&nbsp;&nbsp;for(int j=i*i;j&lt;=N;j+=i){<br>\n",
    "&nbsp;&nbsp;&nbsp;&nbsp;&nbsp;&nbsp;&nbsp;&nbsp;&nbsp;&nbsp;&nbsp;&nbsp;&nbsp;&nbsp;Primes[j]=0; &nbsp;&nbsp;&nbsp;<br>\n",
    "&nbsp;&nbsp;&nbsp;&nbsp;&nbsp;&nbsp;&nbsp;&nbsp;&nbsp;}<br>\n",
    "&nbsp;&nbsp;&nbsp;&nbsp;&nbsp;&nbsp;}<br>\n",
    "}</p><p><strong>Drawback:</strong></p><p>If we have to find the prime numbers in the range - 10^9 to 10^10. Then this approach may not be helpful because the space required by the boolean array will not fit in the memory of the program. For such cases, the brute force approach of O(N√N) will be a better choice.<br></p></div></div>"
   ]
  },
  {
   "cell_type": "code",
   "execution_count": 30,
   "metadata": {},
   "outputs": [
    {
     "name": "stdout",
     "output_type": "stream",
     "text": [
      "2 3 5 7 11 13 17 19 23 29 31 37 41 43 47 53 59 61 67 71 73 79 83 89 97 None\n",
      "[0, 0, 1, 1, 0, 1, 0, 1, 0, 0, 0, 1, 0, 1, 0, 0, 0, 1, 0, 1, 0, 0, 0, 1, 0, 0, 0, 0, 0, 1, 0, 1, 0, 0, 0, 0, 0, 1, 0, 0, 0, 1, 0, 1, 0, 0, 0, 1, 0, 0, 0, 0, 0, 1, 0, 0, 0, 0, 0, 1, 0, 1, 0, 0, 0, 0, 0, 1, 0, 0, 0, 1, 0, 1, 0, 0, 0, 0, 0, 1, 0, 0, 0, 1, 0, 0, 0, 0, 0, 1, 0, 0, 0, 0, 0, 0, 0, 1, 0, 0, 0]\n"
     ]
    }
   ],
   "source": [
    "class PrimalityTestInRange(PrimalityTest):\n",
    "    def brute_force(self, N:int)->None:\n",
    "        for i in range(1, N+1):\n",
    "            if self.isPrime_optimized_brute_force(i):\n",
    "                print(i, end = \" \")\n",
    "    \n",
    "    def seive_of_eratosthenes(self, N:int)->list:\n",
    "        prime = [1]*(N+1)\n",
    "        prime[0] = 0\n",
    "        prime[1] = 0\n",
    "        for i in range(2, int(N**0.5)+1):\n",
    "            if prime[i]:\n",
    "                for j in range(i*i, N+1, i):\n",
    "                    prime[j] = 0 \n",
    "        return prime\n",
    "    \n",
    "obj = PrimalityTestInRange()\n",
    "N = 100\n",
    "print(obj.brute_force(N))\n",
    "print(obj.seive_of_eratosthenes(N))"
   ]
  },
  {
   "cell_type": "code",
   "execution_count": null,
   "metadata": {},
   "outputs": [],
   "source": []
  }
 ],
 "metadata": {
  "kernelspec": {
   "display_name": "Python 3 (ipykernel)",
   "language": "python",
   "name": "python3"
  },
  "language_info": {
   "codemirror_mode": {
    "name": "ipython",
    "version": 3
   },
   "file_extension": ".py",
   "mimetype": "text/x-python",
   "name": "python",
   "nbconvert_exporter": "python",
   "pygments_lexer": "ipython3",
   "version": "3.10.9"
  }
 },
 "nbformat": 4,
 "nbformat_minor": 4
}
